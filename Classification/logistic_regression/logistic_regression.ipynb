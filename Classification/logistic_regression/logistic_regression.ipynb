{
 "cells": [
  {
   "cell_type": "markdown",
   "id": "085d4fee-e4b4-410b-8f76-dbfd72140c4f",
   "metadata": {},
   "source": [
    "# Logistic regression : \n",
    "\n",
    "\n",
    "=> mostly used with classification problems (there is a module for regression problems also)\n",
    "\n",
    "\n",
    "=> in origin it is a binary classifier, using OvR it become a Multi-Class classifier\n",
    "\n",
    "\n",
    "* cons : \n",
    "    * sensitive towards outliers (drop them or scale data) correlated features ( dimentionality reduction )\n",
    "    * requires a lot of data & less features/columns\n",
    "    * \n",
    "\n",
    "* pros : \n",
    "    * uses less resources (light)\n",
    "    * great choice when the dataset has less features\n",
    "    * fast & light"
   ]
  },
  {
   "cell_type": "code",
   "execution_count": null,
   "id": "5e0f9476-5ad8-40ff-8ab1-da8abdaa13e2",
   "metadata": {},
   "outputs": [],
   "source": []
  }
 ],
 "metadata": {
  "kernelspec": {
   "display_name": "Python 3 (ipykernel)",
   "language": "python",
   "name": "python3"
  },
  "language_info": {
   "codemirror_mode": {
    "name": "ipython",
    "version": 3
   },
   "file_extension": ".py",
   "mimetype": "text/x-python",
   "name": "python",
   "nbconvert_exporter": "python",
   "pygments_lexer": "ipython3",
   "version": "3.9.7"
  }
 },
 "nbformat": 4,
 "nbformat_minor": 5
}
