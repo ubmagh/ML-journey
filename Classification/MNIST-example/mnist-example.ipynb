{
 "cells": [
  {
   "cell_type": "markdown",
   "id": "c1c18773-a47f-4277-9b6c-d29ab66721a1",
   "metadata": {},
   "source": [
    "the MNIST dataset is a set of 70,000 small images of digits handwritten by high school students and employees of the US Census Bureau. Each image is labeled with the digit it represents. T"
   ]
  },
  {
   "cell_type": "code",
   "execution_count": 1,
   "id": "765274e4-bb2f-4f2e-b40b-d16dba5f3934",
   "metadata": {},
   "outputs": [
    {
     "data": {
      "text/plain": [
       "dict_keys(['data', 'target', 'frame', 'categories', 'feature_names', 'target_names', 'DESCR', 'details', 'url'])"
      ]
     },
     "execution_count": 1,
     "metadata": {},
     "output_type": "execute_result"
    }
   ],
   "source": [
    "from sklearn.datasets import fetch_openml\n",
    "mnist = fetch_openml('mnist_784', version=1)\n",
    "mnist.keys()"
   ]
  },
  {
   "cell_type": "markdown",
   "id": "b5f66c83-795d-4936-95c2-13ecec366d6b",
   "metadata": {},
   "source": [
    "<br> \n",
    "\n",
    "Datasets loaded by Scikit-Learn generally have a similar dictionary structure including:\n",
    "\n",
    "* A DESCR key describing the dataset\n",
    "* A data key containing an array with one row per instance and one column per feature\n",
    "* A target key containing an array with the labels\n"
   ]
  },
  {
   "cell_type": "code",
   "execution_count": 2,
   "id": "1c1b2678-c0d2-4da9-96bd-7bbd32cb6cc6",
   "metadata": {},
   "outputs": [
    {
     "name": "stdout",
     "output_type": "stream",
     "text": [
      "\n",
      "X.shape:  (70000, 784)\n",
      "\n",
      "y.shape:  (70000,)\n"
     ]
    }
   ],
   "source": [
    "X, y = mnist[\"data\"], mnist[\"target\"]\n",
    "print('\\nX.shape: ', X.shape)\n",
    "print('\\ny.shape: ', y.shape)"
   ]
  },
  {
   "cell_type": "markdown",
   "id": "dedb32d6-c3d3-4384-8f55-cc4f0a90b2e2",
   "metadata": {},
   "source": [
    "<br>\n",
    "\n",
    "##### visualise a digit from the dataset"
   ]
  },
  {
   "cell_type": "code",
   "execution_count": 3,
   "id": "334c4a53-9af8-49d0-8971-5c11b5119c91",
   "metadata": {},
   "outputs": [
    {
     "data": {
      "image/png": "[encoded data removed]",
      "text/plain": [
       "<Figure size 432x288 with 1 Axes>"
      ]
     },
     "metadata": {
      "needs_background": "light"
     },
     "output_type": "display_data"
    }
   ],
   "source": [
    "import matplotlib as mpl\n",
    "import matplotlib.pyplot as plt\n",
    "some_digit = X.to_numpy()[11,:] # 12 th instance\n",
    "some_digit_image = some_digit.reshape(28, 28)\n",
    "plt.imshow(some_digit_image, cmap = mpl.cm.binary, interpolation=\"nearest\")\n",
    "plt.axis(\"off\")\n",
    "plt.show()\n"
   ]
  },
  {
   "cell_type": "markdown",
   "id": "73bcaa4a-4fa8-4089-b6aa-68399856ece1",
   "metadata": {},
   "source": [
    "* the label provided for this instance is :"
   ]
  },
  {
   "cell_type": "code",
   "execution_count": 4,
   "id": "ef76e280-71e5-4a88-800f-85f9bbac154a",
   "metadata": {},
   "outputs": [
    {
     "data": {
      "text/plain": [
       "'5'"
      ]
     },
     "execution_count": 4,
     "metadata": {},
     "output_type": "execute_result"
    }
   ],
   "source": [
    "y.to_numpy()[11]"
   ]
  },
  {
   "cell_type": "markdown",
   "id": "ef0c14fa-754e-4582-8c23-28d2818b7a8e",
   "metadata": {},
   "source": [
    "<br>\n",
    "\n",
    "> labels are strings, converting them to number type :\n"
   ]
  },
  {
   "cell_type": "code",
   "execution_count": 5,
   "id": "88d2669a-b04a-4125-892d-b70a036f3552",
   "metadata": {},
   "outputs": [
    {
     "data": {
      "text/plain": [
       "0    5\n",
       "1    0\n",
       "2    4\n",
       "Name: class, dtype: uint8"
      ]
     },
     "execution_count": 5,
     "metadata": {},
     "output_type": "execute_result"
    }
   ],
   "source": [
    "import numpy as np\n",
    "y = y.astype(np.uint8)\n",
    "y[:3]"
   ]
  },
  {
   "cell_type": "markdown",
   "id": "fe85be02-3571-4099-8306-64de303d8f24",
   "metadata": {},
   "source": [
    "<br>\n",
    "\n",
    "> The MNIST dataset is actually already split into a training set (the first 60,000 images) and a test set (the last 10,000 images), although i'm re-splitting it in a stratified manner \n"
   ]
  },
  {
   "cell_type": "code",
   "execution_count": 6,
   "id": "3a8ac6f4-96b2-415e-acaa-b1daabd7d82a",
   "metadata": {},
   "outputs": [],
   "source": [
    "from sklearn.model_selection import StratifiedShuffleSplit\n",
    "split = StratifiedShuffleSplit(n_splits=1, test_size=0.20, random_state=77 )\n",
    "for train_index, test_index in split.split(X, y):\n",
    "    train_set_x = X.loc[train_index]\n",
    "    train_set_y = y.loc[train_index]\n",
    "    test_set_x = X.loc[test_index]\n",
    "    test_set_y = y.loc[test_index]\n"
   ]
  },
  {
   "cell_type": "markdown",
   "id": "088271f7-a52c-4485-857c-bbbb43b36a8a",
   "metadata": {},
   "source": [
    "<br> \n",
    "\n",
    "### stratified splitting result: same values ratio in all sets"
   ]
  },
  {
   "cell_type": "code",
   "execution_count": 7,
   "id": "b46e42f9-3e8c-4150-b843-60cbd7085f5f",
   "metadata": {},
   "outputs": [
    {
     "name": "stdout",
     "output_type": "stream",
     "text": [
      " '5' label in test set  :  0.09021428571428572\n",
      " '5' label in train set  :  0.09017857142857143\n",
      " '5' label in the main set (X,y):   0.09018571428571429\n"
     ]
    }
   ],
   "source": [
    "feature = 5\n",
    "\n",
    "print(\" '\"+str(feature)+\"' label in test set  : \",len(test_set_x[test_set_y==feature])/len(test_set_y) )\n",
    "print(\" '\"+str(feature)+\"' label in train set  : \",len(train_set_x[train_set_y==feature])/len(train_set_y) )\n",
    "\n",
    "print(\" '\"+str(feature)+\"' label in the main set (X,y):  \", len(X[y==feature])/len(X))\n",
    "\n",
    "# the two values are slightly the same, the difference is due to the small dataset i used  (same for other labels)"
   ]
  },
  {
   "cell_type": "markdown",
   "id": "0604edaa-ea99-48f1-abfd-fe7fe47c0c45",
   "metadata": {},
   "source": [
    "<br>\n",
    "\n",
    "### Create a Binary classifier "
   ]
  },
  {
   "cell_type": "code",
   "execution_count": 8,
   "id": "3cdf81e0-9115-43d5-92fd-791b6a005486",
   "metadata": {},
   "outputs": [],
   "source": [
    "y_train_5 = (train_set_y == 5) # True for all 5s, False for all other digits.\n",
    "y_test_5 = (test_set_y == 5)"
   ]
  },
  {
   "cell_type": "code",
   "execution_count": 9,
   "id": "28c5fc8b-0f19-452c-8296-91f52132bf7e",
   "metadata": {},
   "outputs": [
    {
     "data": {
      "text/plain": [
       "21747    False\n",
       "66483     True\n",
       "36671    False\n",
       "Name: class, dtype: bool"
      ]
     },
     "execution_count": 9,
     "metadata": {},
     "output_type": "execute_result"
    }
   ],
   "source": [
    "y_test_5[:3]"
   ]
  },
  {
   "cell_type": "code",
   "execution_count": 10,
   "id": "f6757b33-bcb0-4175-be57-e6067f618a6f",
   "metadata": {},
   "outputs": [
    {
     "data": {
      "text/html": [
       "<style>#sk-container-id-1 {color: black;background-color: white;}#sk-container-id-1 pre{padding: 0;}#sk-container-id-1 div.sk-toggleable {background-color: white;}#sk-container-id-1 label.sk-toggleable__label {cursor: pointer;display: block;width: 100%;margin-bottom: 0;padding: 0.3em;box-sizing: border-box;text-align: center;}#sk-container-id-1 label.sk-toggleable__label-arrow:before {content: \"▸\";float: left;margin-right: 0.25em;color: #696969;}#sk-container-id-1 label.sk-toggleable__label-arrow:hover:before {color: black;}#sk-container-id-1 div.sk-estimator:hover label.sk-toggleable__label-arrow:before {color: black;}#sk-container-id-1 div.sk-toggleable__content {max-height: 0;max-width: 0;overflow: hidden;text-align: left;background-color: #f0f8ff;}#sk-container-id-1 div.sk-toggleable__content pre {margin: 0.2em;color: black;border-radius: 0.25em;background-color: #f0f8ff;}#sk-container-id-1 input.sk-toggleable__control:checked~div.sk-toggleable__content {max-height: 200px;max-width: 100%;overflow: auto;}#sk-container-id-1 input.sk-toggleable__control:checked~label.sk-toggleable__label-arrow:before {content: \"▾\";}#sk-container-id-1 div.sk-estimator input.sk-toggleable__control:checked~label.sk-toggleable__label {background-color: #d4ebff;}#sk-container-id-1 div.sk-label input.sk-toggleable__control:checked~label.sk-toggleable__label {background-color: #d4ebff;}#sk-container-id-1 input.sk-hidden--visually {border: 0;clip: rect(1px 1px 1px 1px);clip: rect(1px, 1px, 1px, 1px);height: 1px;margin: -1px;overflow: hidden;padding: 0;position: absolute;width: 1px;}#sk-container-id-1 div.sk-estimator {font-family: monospace;background-color: #f0f8ff;border: 1px dotted black;border-radius: 0.25em;box-sizing: border-box;margin-bottom: 0.5em;}#sk-container-id-1 div.sk-estimator:hover {background-color: #d4ebff;}#sk-container-id-1 div.sk-parallel-item::after {content: \"\";width: 100%;border-bottom: 1px solid gray;flex-grow: 1;}#sk-container-id-1 div.sk-label:hover label.sk-toggleable__label {background-color: #d4ebff;}#sk-container-id-1 div.sk-serial::before {content: \"\";position: absolute;border-left: 1px solid gray;box-sizing: border-box;top: 0;bottom: 0;left: 50%;z-index: 0;}#sk-container-id-1 div.sk-serial {display: flex;flex-direction: column;align-items: center;background-color: white;padding-right: 0.2em;padding-left: 0.2em;position: relative;}#sk-container-id-1 div.sk-item {position: relative;z-index: 1;}#sk-container-id-1 div.sk-parallel {display: flex;align-items: stretch;justify-content: center;background-color: white;position: relative;}#sk-container-id-1 div.sk-item::before, #sk-container-id-1 div.sk-parallel-item::before {content: \"\";position: absolute;border-left: 1px solid gray;box-sizing: border-box;top: 0;bottom: 0;left: 50%;z-index: -1;}#sk-container-id-1 div.sk-parallel-item {display: flex;flex-direction: column;z-index: 1;position: relative;background-color: white;}#sk-container-id-1 div.sk-parallel-item:first-child::after {align-self: flex-end;width: 50%;}#sk-container-id-1 div.sk-parallel-item:last-child::after {align-self: flex-start;width: 50%;}#sk-container-id-1 div.sk-parallel-item:only-child::after {width: 0;}#sk-container-id-1 div.sk-dashed-wrapped {border: 1px dashed gray;margin: 0 0.4em 0.5em 0.4em;box-sizing: border-box;padding-bottom: 0.4em;background-color: white;}#sk-container-id-1 div.sk-label label {font-family: monospace;font-weight: bold;display: inline-block;line-height: 1.2em;}#sk-container-id-1 div.sk-label-container {text-align: center;}#sk-container-id-1 div.sk-container {/* jupyter's `normalize.less` sets `[hidden] { display: none; }` but bootstrap.min.css set `[hidden] { display: none !important; }` so we also need the `!important` here to be able to override the default hidden behavior on the sphinx rendered scikit-learn.org. See: https://github.com/scikit-learn/scikit-learn/issues/21755 */display: inline-block !important;position: relative;}#sk-container-id-1 div.sk-text-repr-fallback {display: none;}</style><div id=\"sk-container-id-1\" class=\"sk-top-container\"><div class=\"sk-text-repr-fallback\"><pre>SGDClassifier(random_state=42)</pre><b>In a Jupyter environment, please rerun this cell to show the HTML representation or trust the notebook. <br />On GitHub, the HTML representation is unable to render, please try loading this page with nbviewer.org.</b></div><div class=\"sk-container\" hidden><div class=\"sk-item\"><div class=\"sk-estimator sk-toggleable\"><input class=\"sk-toggleable__control sk-hidden--visually\" id=\"sk-estimator-id-1\" type=\"checkbox\" checked><label for=\"sk-estimator-id-1\" class=\"sk-toggleable__label sk-toggleable__label-arrow\">SGDClassifier</label><div class=\"sk-toggleable__content\"><pre>SGDClassifier(random_state=42)</pre></div></div></div></div></div>"
      ],
      "text/plain": [
       "SGDClassifier(random_state=42)"
      ]
     },
     "execution_count": 10,
     "metadata": {},
     "output_type": "execute_result"
    }
   ],
   "source": [
    "from sklearn.linear_model import SGDClassifier\n",
    "sgd_clf = SGDClassifier(random_state=42)\n",
    "sgd_clf.fit(train_set_x, y_train_5)\n"
   ]
  },
  {
   "cell_type": "markdown",
   "id": "35a95695-cd40-4b19-96d2-cf82d6644df2",
   "metadata": {},
   "source": [
    " <br>\n",
    " \n",
    " \n",
    " Let's see if the following 2 drawn digits are classified as the digit 5\n",
    " "
   ]
  },
  {
   "cell_type": "code",
   "execution_count": 11,
   "id": "70e1ef8a-64d8-446e-9ddb-64112890b298",
   "metadata": {},
   "outputs": [
    {
     "data": {
      "image/png": "[encoded data removed]",
      "text/plain": [
       "<Figure size 432x288 with 1 Axes>"
      ]
     },
     "metadata": {
      "needs_background": "light"
     },
     "output_type": "display_data"
    },
    {
     "data": {
      "image/png": "[encoded data removed]",
      "text/plain": [
       "<Figure size 432x288 with 1 Axes>"
      ]
     },
     "metadata": {
      "needs_background": "light"
     },
     "output_type": "display_data"
    }
   ],
   "source": [
    "drawn_digit1 = test_set_x.iloc[0,:].to_numpy()\n",
    "drawn_digit2 = test_set_x.iloc[1,:].to_numpy()\n",
    "some_digit_image1 = drawn_digit1.reshape(28, 28)\n",
    "some_digit_image2 = drawn_digit2.reshape(28, 28)\n",
    "plt.imshow(some_digit_image1, cmap = mpl.cm.binary, interpolation=\"nearest\")\n",
    "plt.axis(\"off\")\n",
    "plt.show()\n",
    "plt.imshow(some_digit_image2, cmap = mpl.cm.binary, interpolation=\"nearest\")\n",
    "plt.axis(\"off\")\n",
    "plt.show()"
   ]
  },
  {
   "cell_type": "code",
   "execution_count": 12,
   "id": "46a2119e-1e39-4cfa-ba26-9ef15a42a51d",
   "metadata": {},
   "outputs": [
    {
     "name": "stderr",
     "output_type": "stream",
     "text": [
      "C:\\ProgramData\\Anaconda3\\lib\\site-packages\\sklearn\\base.py:450: UserWarning: X does not have valid feature names, but SGDClassifier was fitted with feature names\n",
      "  warnings.warn(\n"
     ]
    },
    {
     "data": {
      "text/plain": [
       "array([False,  True])"
      ]
     },
     "execution_count": 12,
     "metadata": {},
     "output_type": "execute_result"
    }
   ],
   "source": [
    "sgd_clf.predict( [drawn_digit1, drawn_digit2]  )"
   ]
  },
  {
   "cell_type": "code",
   "execution_count": 13,
   "id": "3020f535-b52d-4883-9bfa-1ee8c3ff7b50",
   "metadata": {},
   "outputs": [],
   "source": [
    "X_train, X_test, y_train, y_test = X[:60000], X[60000:], y[:60000], y[60000:]\n",
    "y_train_5 = (y_train == 5) # True for all 5s, False for all other digits.\n",
    "y_test_5 = (y_test == 5)"
   ]
  },
  {
   "cell_type": "markdown",
   "id": "4a7f9796-9c80-4b7e-911a-a453a5d15eb0",
   "metadata": {},
   "source": [
    "<br>\n",
    "\n",
    "## Measuring accuracy : Cross-Validation"
   ]
  },
  {
   "cell_type": "code",
   "execution_count": 14,
   "id": "d8de8bc5-4b90-4eb3-9b0e-d612bd085192",
   "metadata": {},
   "outputs": [
    {
     "data": {
      "text/plain": [
       "array([0.95035, 0.96035, 0.9604 ])"
      ]
     },
     "execution_count": 14,
     "metadata": {},
     "output_type": "execute_result"
    }
   ],
   "source": [
    "from sklearn.model_selection import cross_val_score\n",
    "cross_val_score(sgd_clf, X_train, y_train_5, cv=3, scoring=\"accuracy\")"
   ]
  },
  {
   "cell_type": "markdown",
   "id": "1353a91b-ec9e-4fb4-a6dd-41ad5a7936b3",
   "metadata": {},
   "source": [
    "> The accuracy is very high because only 10% of the data has a 5 digit label (True), the following is an object that represents a classifier that is allways classifies every input as non 5 digit"
   ]
  },
  {
   "cell_type": "code",
   "execution_count": 15,
   "id": "14b613b0-9136-4810-ab35-533940fc8e04",
   "metadata": {},
   "outputs": [],
   "source": [
    "from sklearn.base import BaseEstimator\n",
    "class Never5Classifier(BaseEstimator):\n",
    "    def fit(self, X, y=None):\n",
    "        pass\n",
    "    def predict(self, X):\n",
    "        return np.zeros((len(X), 1), dtype=bool)\n"
   ]
  },
  {
   "cell_type": "markdown",
   "id": "d93117b5-2f3e-44e0-97a7-47fb61645abe",
   "metadata": {},
   "source": [
    "> if we pass same trainning data, we'll get the same output as the SGDClassifier model  "
   ]
  },
  {
   "cell_type": "code",
   "execution_count": 16,
   "id": "6cddfb97-5000-40f8-94ef-fabf82568992",
   "metadata": {},
   "outputs": [
    {
     "data": {
      "text/plain": [
       "array([0.91125, 0.90855, 0.90915])"
      ]
     },
     "execution_count": 16,
     "metadata": {},
     "output_type": "execute_result"
    }
   ],
   "source": [
    "never_5_clf = Never5Classifier()\n",
    "cross_val_score(never_5_clf, X_train, y_train_5, cv=3, scoring=\"accuracy\")"
   ]
  },
  {
   "cell_type": "markdown",
   "id": "040c040a-85c9-4c72-8de1-883a4e25dc7d",
   "metadata": {},
   "source": [
    "<br> \n",
    "\n",
    "### Conclusion\n",
    "\n",
    "This demonstrates why accuracy is generally not the preferred performance measure for classifiers, especially when you are dealing with skewed datasets (i.e., when some classes are much more frequent than others).\n"
   ]
  },
  {
   "cell_type": "markdown",
   "id": "effe3ee8-3e0f-466d-b9e5-172abd1d703a",
   "metadata": {},
   "source": [
    "\n",
    "<br>\n",
    "\n",
    "## Confusion Matrix \n",
    "better way to evaluate the performance of a classifier\n",
    "\n",
    "\n",
    " cross_val_predict() performs K-fold cross-validation, but instead of returning the evaluation scores, it returns the predictions made on each test fold. This means that you get a clean prediction for each instance in the training set (“clean” meaning that the prediction is made by a model that never saw the data during training)."
   ]
  },
  {
   "cell_type": "code",
   "execution_count": 17,
   "id": "a02ce588-e12d-4bb5-9983-a214b5881b7d",
   "metadata": {},
   "outputs": [],
   "source": [
    "from sklearn.model_selection import cross_val_predict\n",
    "y_train_pred = cross_val_predict(sgd_clf, X_train, y_train_5, cv=3)"
   ]
  },
  {
   "cell_type": "code",
   "execution_count": 18,
   "id": "7b2e5846-d208-4a8e-8235-889c444297e1",
   "metadata": {},
   "outputs": [
    {
     "data": {
      "text/plain": [
       "array([[53892,   687],\n",
       "       [ 1891,  3530]], dtype=int64)"
      ]
     },
     "execution_count": 18,
     "metadata": {},
     "output_type": "execute_result"
    }
   ],
   "source": [
    "from sklearn.metrics import confusion_matrix\n",
    "confusion_matrix(y_train_5, y_train_pred)"
   ]
  },
  {
   "cell_type": "markdown",
   "id": "d08f7aa5-905b-45a7-94bb-c8ab4dcb1331",
   "metadata": {},
   "source": [
    "* 53 892 (0,0 : index) : true negatives, instances classified correctly as non-5s\n",
    "* 687 (1,0 : index) : false positives, instances classified wrongly as 5s digits\n",
    "* 1891 (0,1 : index) : false negatives, instances classified wrongly as non-5s digits\n",
    "* 3530 (1,1 : index) : true positives, instances classified correctly as 5s digits\n",
    "\n",
    "> A perfect classifier would have only true positives and true negatives, so its confusion matrix would have nonzero values only on its main diagonal (top left to bottom right)"
   ]
  },
  {
   "cell_type": "markdown",
   "id": "ea45a08c-4314-454d-8943-736da36f90c1",
   "metadata": {},
   "source": [
    "<br>\n",
    "\n",
    "* accuracy of positive predictions , aka precision  :  precision = TP/(TP + FP)\n",
    "* True positive rate (TPR) = Sensitivity = recall  = TP/(TP+FN)\n",
    "                "
   ]
  },
  {
   "cell_type": "code",
   "execution_count": 19,
   "id": "e2cdc16a-d801-4501-a9ba-8e6d14148155",
   "metadata": {},
   "outputs": [
    {
     "name": "stdout",
     "output_type": "stream",
     "text": [
      "precision:  0.8370879772350012 \n",
      "\n",
      "recall:  0.6511713705958311\n"
     ]
    }
   ],
   "source": [
    "from sklearn.metrics import precision_score, recall_score\n",
    "print( \"precision: \", precision_score(y_train_5, y_train_pred), \"\\n\")  # the precision is less shinny as the last time\n",
    "print( \"recall: \", recall_score(y_train_5, y_train_pred)  )"
   ]
  },
  {
   "cell_type": "markdown",
   "id": "91c2bf5f-34e4-4402-9a84-9543bc49bf0b",
   "metadata": {},
   "source": [
    "> combinning these two measures : the harmonic mean of precision and recall (F1)  :\n",
    "\n",
    "    F1 = 2 * ( (Precision*Recall)(Precision+Recall) ) \n",
    "    \n",
    "> The higher F1, the higher precision & recall "
   ]
  },
  {
   "cell_type": "code",
   "execution_count": null,
   "id": "1de87856-db27-49ea-ba65-64f842f46343",
   "metadata": {},
   "outputs": [
    {
     "data": {
      "text/plain": [
       "0.7325171197343846"
      ]
     },
     "execution_count": 20,
     "metadata": {},
     "output_type": "execute_result"
    }
   ],
   "source": [
    "from sklearn.metrics import f1_score\n",
    "f1_score(y_train_5, y_train_pred)"
   ]
  },
  {
   "cell_type": "code",
   "execution_count": null,
   "id": "111c35cc-39d6-4a89-afc5-f00be15cf8db",
   "metadata": {},
   "outputs": [],
   "source": []
  }
 ],
 "metadata": {
  "kernelspec": {
   "display_name": "Python 3 (ipykernel)",
   "language": "python",
   "name": "python3"
  },
  "language_info": {
   "codemirror_mode": {
    "name": "ipython",
    "version": 3
   },
   "file_extension": ".py",
   "mimetype": "text/x-python",
   "name": "python",
   "nbconvert_exporter": "python",
   "pygments_lexer": "ipython3",
   "version": "3.9.7"
  }
 },
 "nbformat": 4,
 "nbformat_minor": 5
}
