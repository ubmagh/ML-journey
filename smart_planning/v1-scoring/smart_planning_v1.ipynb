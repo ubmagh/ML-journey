{
 "cells": [
  {
   "cell_type": "markdown",
   "id": "c8328010",
   "metadata": {},
   "source": [
    "# Smart Planning : appreciation model (v1) \n",
    " \n",
    "### Details \n",
    "\n",
    "- Problem : `Regression`\n",
    "\n",
    "\n",
    "- Models :\n",
    "    1. scikit Linear Regression Model \n",
    "    2. Decision tree\n",
    "    3. SVM\n",
    "    4. Random forest \n",
    "    5. Stochastic Gradient Descent\n",
    "    6. Ridge_Regression\n",
    "    7. KNeighbors_Regression \n",
    "    8. Bayesian_Ridge_Regression\n",
    "    9. Gaussian_Process_Regression \n",
    "    10. ExtraTreesRegressor\n",
    "    \n",
    "    \n",
    "- label : numeric in the interval [0,10]\n",
    "\n",
    "\n",
    "- Values in percentage to avoid the problem related to a specefic number of classrooms, teachers ...\n",
    "\n",
    "\n",
    "<br>"
   ]
  },
  {
   "cell_type": "code",
   "execution_count": 1,
   "id": "f0467cb3",
   "metadata": {},
   "outputs": [],
   "source": [
    "import numpy as np\n",
    "import pandas as pd\n",
    "import matplotlib.pyplot as plt\n",
    "from sklearn import linear_model, metrics, tree, svm, model_selection\n",
    "import math\n",
    "import seaborn as sn\n",
    "from sklearn.model_selection import train_test_split\n",
    "from sklearn.ensemble import RandomForestRegressor, ExtraTreesRegressor\n",
    "from sklearn.neighbors import KNeighborsRegressor\n",
    "from sklearn.gaussian_process import GaussianProcessRegressor\n",
    "from sklearn.gaussian_process.kernels import DotProduct, WhiteKernel\n",
    "\n",
    "%matplotlib inline"
   ]
  },
  {
   "cell_type": "markdown",
   "id": "e04867f3",
   "metadata": {},
   "source": [
    "# Get the dataset"
   ]
  },
  {
   "cell_type": "code",
   "execution_count": 2,
   "id": "6935689b",
   "metadata": {
    "scrolled": true
   },
   "outputs": [
    {
     "ename": "KeyboardInterrupt",
     "evalue": "",
     "output_type": "error",
     "traceback": [
      "\u001b[1;31m---------------------------------------------------------------------------\u001b[0m",
      "\u001b[1;31mKeyboardInterrupt\u001b[0m                         Traceback (most recent call last)",
      "\u001b[1;32m~\\AppData\\Local\\Temp/ipykernel_60364/1657967146.py\u001b[0m in \u001b[0;36m<module>\u001b[1;34m\u001b[0m\n\u001b[1;32m----> 1\u001b[1;33m \u001b[0mdf\u001b[0m \u001b[1;33m=\u001b[0m \u001b[0mpd\u001b[0m\u001b[1;33m.\u001b[0m\u001b[0mread_excel\u001b[0m\u001b[1;33m(\u001b[0m\u001b[1;34m\"dataset2.xlsx\"\u001b[0m\u001b[1;33m)\u001b[0m\u001b[1;33m\u001b[0m\u001b[1;33m\u001b[0m\u001b[0m\n\u001b[0m\u001b[0;32m      2\u001b[0m \u001b[0mdf\u001b[0m\u001b[1;33m.\u001b[0m\u001b[0mhead\u001b[0m\u001b[1;33m(\u001b[0m\u001b[1;33m)\u001b[0m\u001b[1;33m\u001b[0m\u001b[1;33m\u001b[0m\u001b[0m\n",
      "\u001b[1;32mC:\\ProgramData\\Anaconda3\\lib\\site-packages\\pandas\\util\\_decorators.py\u001b[0m in \u001b[0;36mwrapper\u001b[1;34m(*args, **kwargs)\u001b[0m\n\u001b[0;32m    309\u001b[0m                     \u001b[0mstacklevel\u001b[0m\u001b[1;33m=\u001b[0m\u001b[0mstacklevel\u001b[0m\u001b[1;33m,\u001b[0m\u001b[1;33m\u001b[0m\u001b[1;33m\u001b[0m\u001b[0m\n\u001b[0;32m    310\u001b[0m                 )\n\u001b[1;32m--> 311\u001b[1;33m             \u001b[1;32mreturn\u001b[0m \u001b[0mfunc\u001b[0m\u001b[1;33m(\u001b[0m\u001b[1;33m*\u001b[0m\u001b[0margs\u001b[0m\u001b[1;33m,\u001b[0m \u001b[1;33m**\u001b[0m\u001b[0mkwargs\u001b[0m\u001b[1;33m)\u001b[0m\u001b[1;33m\u001b[0m\u001b[1;33m\u001b[0m\u001b[0m\n\u001b[0m\u001b[0;32m    312\u001b[0m \u001b[1;33m\u001b[0m\u001b[0m\n\u001b[0;32m    313\u001b[0m         \u001b[1;32mreturn\u001b[0m \u001b[0mwrapper\u001b[0m\u001b[1;33m\u001b[0m\u001b[1;33m\u001b[0m\u001b[0m\n",
      "\u001b[1;32mC:\\ProgramData\\Anaconda3\\lib\\site-packages\\pandas\\io\\excel\\_base.py\u001b[0m in \u001b[0;36mread_excel\u001b[1;34m(io, sheet_name, header, names, index_col, usecols, squeeze, dtype, engine, converters, true_values, false_values, skiprows, nrows, na_values, keep_default_na, na_filter, verbose, parse_dates, date_parser, thousands, comment, skipfooter, convert_float, mangle_dupe_cols, storage_options)\u001b[0m\n\u001b[0;32m    362\u001b[0m     \u001b[1;32mif\u001b[0m \u001b[1;32mnot\u001b[0m \u001b[0misinstance\u001b[0m\u001b[1;33m(\u001b[0m\u001b[0mio\u001b[0m\u001b[1;33m,\u001b[0m \u001b[0mExcelFile\u001b[0m\u001b[1;33m)\u001b[0m\u001b[1;33m:\u001b[0m\u001b[1;33m\u001b[0m\u001b[1;33m\u001b[0m\u001b[0m\n\u001b[0;32m    363\u001b[0m         \u001b[0mshould_close\u001b[0m \u001b[1;33m=\u001b[0m \u001b[1;32mTrue\u001b[0m\u001b[1;33m\u001b[0m\u001b[1;33m\u001b[0m\u001b[0m\n\u001b[1;32m--> 364\u001b[1;33m         \u001b[0mio\u001b[0m \u001b[1;33m=\u001b[0m \u001b[0mExcelFile\u001b[0m\u001b[1;33m(\u001b[0m\u001b[0mio\u001b[0m\u001b[1;33m,\u001b[0m \u001b[0mstorage_options\u001b[0m\u001b[1;33m=\u001b[0m\u001b[0mstorage_options\u001b[0m\u001b[1;33m,\u001b[0m \u001b[0mengine\u001b[0m\u001b[1;33m=\u001b[0m\u001b[0mengine\u001b[0m\u001b[1;33m)\u001b[0m\u001b[1;33m\u001b[0m\u001b[1;33m\u001b[0m\u001b[0m\n\u001b[0m\u001b[0;32m    365\u001b[0m     \u001b[1;32melif\u001b[0m \u001b[0mengine\u001b[0m \u001b[1;32mand\u001b[0m \u001b[0mengine\u001b[0m \u001b[1;33m!=\u001b[0m \u001b[0mio\u001b[0m\u001b[1;33m.\u001b[0m\u001b[0mengine\u001b[0m\u001b[1;33m:\u001b[0m\u001b[1;33m\u001b[0m\u001b[1;33m\u001b[0m\u001b[0m\n\u001b[0;32m    366\u001b[0m         raise ValueError(\n",
      "\u001b[1;32mC:\\ProgramData\\Anaconda3\\lib\\site-packages\\pandas\\io\\excel\\_base.py\u001b[0m in \u001b[0;36m__init__\u001b[1;34m(self, path_or_buffer, engine, storage_options)\u001b[0m\n\u001b[0;32m   1231\u001b[0m         \u001b[0mself\u001b[0m\u001b[1;33m.\u001b[0m\u001b[0mstorage_options\u001b[0m \u001b[1;33m=\u001b[0m \u001b[0mstorage_options\u001b[0m\u001b[1;33m\u001b[0m\u001b[1;33m\u001b[0m\u001b[0m\n\u001b[0;32m   1232\u001b[0m \u001b[1;33m\u001b[0m\u001b[0m\n\u001b[1;32m-> 1233\u001b[1;33m         \u001b[0mself\u001b[0m\u001b[1;33m.\u001b[0m\u001b[0m_reader\u001b[0m \u001b[1;33m=\u001b[0m \u001b[0mself\u001b[0m\u001b[1;33m.\u001b[0m\u001b[0m_engines\u001b[0m\u001b[1;33m[\u001b[0m\u001b[0mengine\u001b[0m\u001b[1;33m]\u001b[0m\u001b[1;33m(\u001b[0m\u001b[0mself\u001b[0m\u001b[1;33m.\u001b[0m\u001b[0m_io\u001b[0m\u001b[1;33m,\u001b[0m \u001b[0mstorage_options\u001b[0m\u001b[1;33m=\u001b[0m\u001b[0mstorage_options\u001b[0m\u001b[1;33m)\u001b[0m\u001b[1;33m\u001b[0m\u001b[1;33m\u001b[0m\u001b[0m\n\u001b[0m\u001b[0;32m   1234\u001b[0m \u001b[1;33m\u001b[0m\u001b[0m\n\u001b[0;32m   1235\u001b[0m     \u001b[1;32mdef\u001b[0m \u001b[0m__fspath__\u001b[0m\u001b[1;33m(\u001b[0m\u001b[0mself\u001b[0m\u001b[1;33m)\u001b[0m\u001b[1;33m:\u001b[0m\u001b[1;33m\u001b[0m\u001b[1;33m\u001b[0m\u001b[0m\n",
      "\u001b[1;32mC:\\ProgramData\\Anaconda3\\lib\\site-packages\\pandas\\io\\excel\\_openpyxl.py\u001b[0m in \u001b[0;36m__init__\u001b[1;34m(self, filepath_or_buffer, storage_options)\u001b[0m\n\u001b[0;32m    519\u001b[0m             \u001b[0mpassed\u001b[0m \u001b[0mto\u001b[0m \u001b[0mfsspec\u001b[0m \u001b[1;32mfor\u001b[0m \u001b[0mappropriate\u001b[0m \u001b[0mURLs\u001b[0m \u001b[1;33m(\u001b[0m\u001b[0msee\u001b[0m\u001b[0;31m \u001b[0m\u001b[0;31m`\u001b[0m\u001b[0;31m`\u001b[0m\u001b[0m_get_filepath_or_buffer\u001b[0m\u001b[0;31m`\u001b[0m\u001b[0;31m`\u001b[0m\u001b[1;33m)\u001b[0m\u001b[1;33m\u001b[0m\u001b[1;33m\u001b[0m\u001b[0m\n\u001b[0;32m    520\u001b[0m         \"\"\"\n\u001b[1;32m--> 521\u001b[1;33m         \u001b[0mimport_optional_dependency\u001b[0m\u001b[1;33m(\u001b[0m\u001b[1;34m\"openpyxl\"\u001b[0m\u001b[1;33m)\u001b[0m\u001b[1;33m\u001b[0m\u001b[1;33m\u001b[0m\u001b[0m\n\u001b[0m\u001b[0;32m    522\u001b[0m         \u001b[0msuper\u001b[0m\u001b[1;33m(\u001b[0m\u001b[1;33m)\u001b[0m\u001b[1;33m.\u001b[0m\u001b[0m__init__\u001b[0m\u001b[1;33m(\u001b[0m\u001b[0mfilepath_or_buffer\u001b[0m\u001b[1;33m,\u001b[0m \u001b[0mstorage_options\u001b[0m\u001b[1;33m=\u001b[0m\u001b[0mstorage_options\u001b[0m\u001b[1;33m)\u001b[0m\u001b[1;33m\u001b[0m\u001b[1;33m\u001b[0m\u001b[0m\n\u001b[0;32m    523\u001b[0m \u001b[1;33m\u001b[0m\u001b[0m\n",
      "\u001b[1;32mC:\\ProgramData\\Anaconda3\\lib\\site-packages\\pandas\\compat\\_optional.py\u001b[0m in \u001b[0;36mimport_optional_dependency\u001b[1;34m(name, extra, errors, min_version)\u001b[0m\n\u001b[0;32m    113\u001b[0m     )\n\u001b[0;32m    114\u001b[0m     \u001b[1;32mtry\u001b[0m\u001b[1;33m:\u001b[0m\u001b[1;33m\u001b[0m\u001b[1;33m\u001b[0m\u001b[0m\n\u001b[1;32m--> 115\u001b[1;33m         \u001b[0mmodule\u001b[0m \u001b[1;33m=\u001b[0m \u001b[0mimportlib\u001b[0m\u001b[1;33m.\u001b[0m\u001b[0mimport_module\u001b[0m\u001b[1;33m(\u001b[0m\u001b[0mname\u001b[0m\u001b[1;33m)\u001b[0m\u001b[1;33m\u001b[0m\u001b[1;33m\u001b[0m\u001b[0m\n\u001b[0m\u001b[0;32m    116\u001b[0m     \u001b[1;32mexcept\u001b[0m \u001b[0mImportError\u001b[0m\u001b[1;33m:\u001b[0m\u001b[1;33m\u001b[0m\u001b[1;33m\u001b[0m\u001b[0m\n\u001b[0;32m    117\u001b[0m         \u001b[1;32mif\u001b[0m \u001b[0merrors\u001b[0m \u001b[1;33m==\u001b[0m \u001b[1;34m\"raise\"\u001b[0m\u001b[1;33m:\u001b[0m\u001b[1;33m\u001b[0m\u001b[1;33m\u001b[0m\u001b[0m\n",
      "\u001b[1;32mC:\\ProgramData\\Anaconda3\\lib\\importlib\\__init__.py\u001b[0m in \u001b[0;36mimport_module\u001b[1;34m(name, package)\u001b[0m\n\u001b[0;32m    125\u001b[0m                 \u001b[1;32mbreak\u001b[0m\u001b[1;33m\u001b[0m\u001b[1;33m\u001b[0m\u001b[0m\n\u001b[0;32m    126\u001b[0m             \u001b[0mlevel\u001b[0m \u001b[1;33m+=\u001b[0m \u001b[1;36m1\u001b[0m\u001b[1;33m\u001b[0m\u001b[1;33m\u001b[0m\u001b[0m\n\u001b[1;32m--> 127\u001b[1;33m     \u001b[1;32mreturn\u001b[0m \u001b[0m_bootstrap\u001b[0m\u001b[1;33m.\u001b[0m\u001b[0m_gcd_import\u001b[0m\u001b[1;33m(\u001b[0m\u001b[0mname\u001b[0m\u001b[1;33m[\u001b[0m\u001b[0mlevel\u001b[0m\u001b[1;33m:\u001b[0m\u001b[1;33m]\u001b[0m\u001b[1;33m,\u001b[0m \u001b[0mpackage\u001b[0m\u001b[1;33m,\u001b[0m \u001b[0mlevel\u001b[0m\u001b[1;33m)\u001b[0m\u001b[1;33m\u001b[0m\u001b[1;33m\u001b[0m\u001b[0m\n\u001b[0m\u001b[0;32m    128\u001b[0m \u001b[1;33m\u001b[0m\u001b[0m\n\u001b[0;32m    129\u001b[0m \u001b[1;33m\u001b[0m\u001b[0m\n",
      "\u001b[1;32mC:\\ProgramData\\Anaconda3\\lib\\importlib\\_bootstrap.py\u001b[0m in \u001b[0;36m_gcd_import\u001b[1;34m(name, package, level)\u001b[0m\n",
      "\u001b[1;32mC:\\ProgramData\\Anaconda3\\lib\\importlib\\_bootstrap.py\u001b[0m in \u001b[0;36m_find_and_load\u001b[1;34m(name, import_)\u001b[0m\n",
      "\u001b[1;32mC:\\ProgramData\\Anaconda3\\lib\\importlib\\_bootstrap.py\u001b[0m in \u001b[0;36m_find_and_load_unlocked\u001b[1;34m(name, import_)\u001b[0m\n",
      "\u001b[1;32mC:\\ProgramData\\Anaconda3\\lib\\importlib\\_bootstrap.py\u001b[0m in \u001b[0;36m_load_unlocked\u001b[1;34m(spec)\u001b[0m\n",
      "\u001b[1;32mC:\\ProgramData\\Anaconda3\\lib\\importlib\\_bootstrap_external.py\u001b[0m in \u001b[0;36mexec_module\u001b[1;34m(self, module)\u001b[0m\n",
      "\u001b[1;32mC:\\ProgramData\\Anaconda3\\lib\\importlib\\_bootstrap.py\u001b[0m in \u001b[0;36m_call_with_frames_removed\u001b[1;34m(f, *args, **kwds)\u001b[0m\n",
      "\u001b[1;32mC:\\ProgramData\\Anaconda3\\lib\\site-packages\\openpyxl\\__init__.py\u001b[0m in \u001b[0;36m<module>\u001b[1;34m\u001b[0m\n\u001b[0;32m      4\u001b[0m \u001b[1;32mfrom\u001b[0m \u001b[0mopenpyxl\u001b[0m\u001b[1;33m.\u001b[0m\u001b[0mcompat\u001b[0m\u001b[1;33m.\u001b[0m\u001b[0mnumbers\u001b[0m \u001b[1;32mimport\u001b[0m \u001b[0mNUMPY\u001b[0m\u001b[1;33m\u001b[0m\u001b[1;33m\u001b[0m\u001b[0m\n\u001b[0;32m      5\u001b[0m \u001b[1;32mfrom\u001b[0m \u001b[0mopenpyxl\u001b[0m\u001b[1;33m.\u001b[0m\u001b[0mxml\u001b[0m \u001b[1;32mimport\u001b[0m \u001b[0mDEFUSEDXML\u001b[0m\u001b[1;33m,\u001b[0m \u001b[0mLXML\u001b[0m\u001b[1;33m\u001b[0m\u001b[1;33m\u001b[0m\u001b[0m\n\u001b[1;32m----> 6\u001b[1;33m \u001b[1;32mfrom\u001b[0m \u001b[0mopenpyxl\u001b[0m\u001b[1;33m.\u001b[0m\u001b[0mworkbook\u001b[0m \u001b[1;32mimport\u001b[0m \u001b[0mWorkbook\u001b[0m\u001b[1;33m\u001b[0m\u001b[1;33m\u001b[0m\u001b[0m\n\u001b[0m\u001b[0;32m      7\u001b[0m \u001b[1;32mfrom\u001b[0m \u001b[0mopenpyxl\u001b[0m\u001b[1;33m.\u001b[0m\u001b[0mreader\u001b[0m\u001b[1;33m.\u001b[0m\u001b[0mexcel\u001b[0m \u001b[1;32mimport\u001b[0m \u001b[0mload_workbook\u001b[0m \u001b[1;32mas\u001b[0m \u001b[0mopen\u001b[0m\u001b[1;33m\u001b[0m\u001b[1;33m\u001b[0m\u001b[0m\n\u001b[0;32m      8\u001b[0m \u001b[1;32mfrom\u001b[0m \u001b[0mopenpyxl\u001b[0m\u001b[1;33m.\u001b[0m\u001b[0mreader\u001b[0m\u001b[1;33m.\u001b[0m\u001b[0mexcel\u001b[0m \u001b[1;32mimport\u001b[0m \u001b[0mload_workbook\u001b[0m\u001b[1;33m\u001b[0m\u001b[1;33m\u001b[0m\u001b[0m\n",
      "\u001b[1;32mC:\\ProgramData\\Anaconda3\\lib\\site-packages\\openpyxl\\workbook\\__init__.py\u001b[0m in \u001b[0;36m<module>\u001b[1;34m\u001b[0m\n\u001b[0;32m      2\u001b[0m \u001b[1;33m\u001b[0m\u001b[0m\n\u001b[0;32m      3\u001b[0m \u001b[1;33m\u001b[0m\u001b[0m\n\u001b[1;32m----> 4\u001b[1;33m \u001b[1;32mfrom\u001b[0m \u001b[1;33m.\u001b[0m\u001b[0mworkbook\u001b[0m \u001b[1;32mimport\u001b[0m \u001b[0mWorkbook\u001b[0m\u001b[1;33m\u001b[0m\u001b[1;33m\u001b[0m\u001b[0m\n\u001b[0m",
      "\u001b[1;32mC:\\ProgramData\\Anaconda3\\lib\\site-packages\\openpyxl\\workbook\\workbook.py\u001b[0m in \u001b[0;36m<module>\u001b[1;34m\u001b[0m\n\u001b[0;32m     15\u001b[0m \u001b[1;32mfrom\u001b[0m \u001b[0mopenpyxl\u001b[0m\u001b[1;33m.\u001b[0m\u001b[0mutils\u001b[0m\u001b[1;33m.\u001b[0m\u001b[0mexceptions\u001b[0m \u001b[1;32mimport\u001b[0m \u001b[0mReadOnlyWorkbookException\u001b[0m\u001b[1;33m\u001b[0m\u001b[1;33m\u001b[0m\u001b[0m\n\u001b[0;32m     16\u001b[0m \u001b[1;33m\u001b[0m\u001b[0m\n\u001b[1;32m---> 17\u001b[1;33m \u001b[1;32mfrom\u001b[0m \u001b[0mopenpyxl\u001b[0m\u001b[1;33m.\u001b[0m\u001b[0mwriter\u001b[0m\u001b[1;33m.\u001b[0m\u001b[0mexcel\u001b[0m \u001b[1;32mimport\u001b[0m \u001b[0msave_workbook\u001b[0m\u001b[1;33m\u001b[0m\u001b[1;33m\u001b[0m\u001b[0m\n\u001b[0m\u001b[0;32m     18\u001b[0m \u001b[1;33m\u001b[0m\u001b[0m\n\u001b[0;32m     19\u001b[0m \u001b[1;32mfrom\u001b[0m \u001b[0mopenpyxl\u001b[0m\u001b[1;33m.\u001b[0m\u001b[0mstyles\u001b[0m\u001b[1;33m.\u001b[0m\u001b[0mcell_style\u001b[0m \u001b[1;32mimport\u001b[0m \u001b[0mStyleArray\u001b[0m\u001b[1;33m\u001b[0m\u001b[1;33m\u001b[0m\u001b[0m\n",
      "\u001b[1;32mC:\\ProgramData\\Anaconda3\\lib\\site-packages\\openpyxl\\writer\\excel.py\u001b[0m in \u001b[0;36m<module>\u001b[1;34m\u001b[0m\n\u001b[0;32m     29\u001b[0m \u001b[1;32mfrom\u001b[0m \u001b[0mopenpyxl\u001b[0m\u001b[1;33m.\u001b[0m\u001b[0mdrawing\u001b[0m\u001b[1;33m.\u001b[0m\u001b[0mspreadsheet_drawing\u001b[0m \u001b[1;32mimport\u001b[0m \u001b[0mSpreadsheetDrawing\u001b[0m\u001b[1;33m\u001b[0m\u001b[1;33m\u001b[0m\u001b[0m\n\u001b[0;32m     30\u001b[0m \u001b[1;32mfrom\u001b[0m \u001b[0mopenpyxl\u001b[0m\u001b[1;33m.\u001b[0m\u001b[0mxml\u001b[0m\u001b[1;33m.\u001b[0m\u001b[0mfunctions\u001b[0m \u001b[1;32mimport\u001b[0m \u001b[0mtostring\u001b[0m\u001b[1;33m,\u001b[0m \u001b[0mfromstring\u001b[0m\u001b[1;33m,\u001b[0m \u001b[0mElement\u001b[0m\u001b[1;33m\u001b[0m\u001b[1;33m\u001b[0m\u001b[0m\n\u001b[1;32m---> 31\u001b[1;33m \u001b[1;32mfrom\u001b[0m \u001b[0mopenpyxl\u001b[0m\u001b[1;33m.\u001b[0m\u001b[0mpackaging\u001b[0m\u001b[1;33m.\u001b[0m\u001b[0mmanifest\u001b[0m \u001b[1;32mimport\u001b[0m \u001b[0mManifest\u001b[0m\u001b[1;33m\u001b[0m\u001b[1;33m\u001b[0m\u001b[0m\n\u001b[0m\u001b[0;32m     32\u001b[0m from openpyxl.packaging.relationship import (\n\u001b[0;32m     33\u001b[0m     \u001b[0mget_rels_path\u001b[0m\u001b[1;33m,\u001b[0m\u001b[1;33m\u001b[0m\u001b[1;33m\u001b[0m\u001b[0m\n",
      "\u001b[1;32mC:\\ProgramData\\Anaconda3\\lib\\site-packages\\openpyxl\\packaging\\manifest.py\u001b[0m in \u001b[0;36m<module>\u001b[1;34m\u001b[0m\n\u001b[0;32m     40\u001b[0m \u001b[1;33m\u001b[0m\u001b[0m\n\u001b[0;32m     41\u001b[0m \u001b[1;31m# initialise mime-types\u001b[0m\u001b[1;33m\u001b[0m\u001b[1;33m\u001b[0m\u001b[0m\n\u001b[1;32m---> 42\u001b[1;33m \u001b[0mmimetypes\u001b[0m \u001b[1;33m=\u001b[0m \u001b[0mMimeTypes\u001b[0m\u001b[1;33m(\u001b[0m\u001b[1;33m)\u001b[0m\u001b[1;33m\u001b[0m\u001b[1;33m\u001b[0m\u001b[0m\n\u001b[0m\u001b[0;32m     43\u001b[0m \u001b[0mmimetypes\u001b[0m\u001b[1;33m.\u001b[0m\u001b[0madd_type\u001b[0m\u001b[1;33m(\u001b[0m\u001b[1;34m'application/xml'\u001b[0m\u001b[1;33m,\u001b[0m \u001b[1;34m\".xml\"\u001b[0m\u001b[1;33m)\u001b[0m\u001b[1;33m\u001b[0m\u001b[1;33m\u001b[0m\u001b[0m\n\u001b[0;32m     44\u001b[0m \u001b[0mmimetypes\u001b[0m\u001b[1;33m.\u001b[0m\u001b[0madd_type\u001b[0m\u001b[1;33m(\u001b[0m\u001b[1;34m'application/vnd.openxmlformats-package.relationships+xml'\u001b[0m\u001b[1;33m,\u001b[0m \u001b[1;34m\".rels\"\u001b[0m\u001b[1;33m)\u001b[0m\u001b[1;33m\u001b[0m\u001b[1;33m\u001b[0m\u001b[0m\n",
      "\u001b[1;32mC:\\ProgramData\\Anaconda3\\lib\\mimetypes.py\u001b[0m in \u001b[0;36m__init__\u001b[1;34m(self, filenames, strict)\u001b[0m\n\u001b[0;32m     66\u001b[0m     \u001b[1;32mdef\u001b[0m \u001b[0m__init__\u001b[0m\u001b[1;33m(\u001b[0m\u001b[0mself\u001b[0m\u001b[1;33m,\u001b[0m \u001b[0mfilenames\u001b[0m\u001b[1;33m=\u001b[0m\u001b[1;33m(\u001b[0m\u001b[1;33m)\u001b[0m\u001b[1;33m,\u001b[0m \u001b[0mstrict\u001b[0m\u001b[1;33m=\u001b[0m\u001b[1;32mTrue\u001b[0m\u001b[1;33m)\u001b[0m\u001b[1;33m:\u001b[0m\u001b[1;33m\u001b[0m\u001b[1;33m\u001b[0m\u001b[0m\n\u001b[0;32m     67\u001b[0m         \u001b[1;32mif\u001b[0m \u001b[1;32mnot\u001b[0m \u001b[0minited\u001b[0m\u001b[1;33m:\u001b[0m\u001b[1;33m\u001b[0m\u001b[1;33m\u001b[0m\u001b[0m\n\u001b[1;32m---> 68\u001b[1;33m             \u001b[0minit\u001b[0m\u001b[1;33m(\u001b[0m\u001b[1;33m)\u001b[0m\u001b[1;33m\u001b[0m\u001b[1;33m\u001b[0m\u001b[0m\n\u001b[0m\u001b[0;32m     69\u001b[0m         \u001b[0mself\u001b[0m\u001b[1;33m.\u001b[0m\u001b[0mencodings_map\u001b[0m \u001b[1;33m=\u001b[0m \u001b[0m_encodings_map_default\u001b[0m\u001b[1;33m.\u001b[0m\u001b[0mcopy\u001b[0m\u001b[1;33m(\u001b[0m\u001b[1;33m)\u001b[0m\u001b[1;33m\u001b[0m\u001b[1;33m\u001b[0m\u001b[0m\n\u001b[0;32m     70\u001b[0m         \u001b[0mself\u001b[0m\u001b[1;33m.\u001b[0m\u001b[0msuffix_map\u001b[0m \u001b[1;33m=\u001b[0m \u001b[0m_suffix_map_default\u001b[0m\u001b[1;33m.\u001b[0m\u001b[0mcopy\u001b[0m\u001b[1;33m(\u001b[0m\u001b[1;33m)\u001b[0m\u001b[1;33m\u001b[0m\u001b[1;33m\u001b[0m\u001b[0m\n",
      "\u001b[1;32mC:\\ProgramData\\Anaconda3\\lib\\mimetypes.py\u001b[0m in \u001b[0;36minit\u001b[1;34m(files)\u001b[0m\n\u001b[0;32m    351\u001b[0m         \u001b[0mdb\u001b[0m \u001b[1;33m=\u001b[0m \u001b[0mMimeTypes\u001b[0m\u001b[1;33m(\u001b[0m\u001b[1;33m)\u001b[0m\u001b[1;33m\u001b[0m\u001b[1;33m\u001b[0m\u001b[0m\n\u001b[0;32m    352\u001b[0m         \u001b[1;32mif\u001b[0m \u001b[0m_winreg\u001b[0m\u001b[1;33m:\u001b[0m\u001b[1;33m\u001b[0m\u001b[1;33m\u001b[0m\u001b[0m\n\u001b[1;32m--> 353\u001b[1;33m             \u001b[0mdb\u001b[0m\u001b[1;33m.\u001b[0m\u001b[0mread_windows_registry\u001b[0m\u001b[1;33m(\u001b[0m\u001b[1;33m)\u001b[0m\u001b[1;33m\u001b[0m\u001b[1;33m\u001b[0m\u001b[0m\n\u001b[0m\u001b[0;32m    354\u001b[0m \u001b[1;33m\u001b[0m\u001b[0m\n\u001b[0;32m    355\u001b[0m         \u001b[1;32mif\u001b[0m \u001b[0mfiles\u001b[0m \u001b[1;32mis\u001b[0m \u001b[1;32mNone\u001b[0m\u001b[1;33m:\u001b[0m\u001b[1;33m\u001b[0m\u001b[1;33m\u001b[0m\u001b[0m\n",
      "\u001b[1;32mC:\\ProgramData\\Anaconda3\\lib\\mimetypes.py\u001b[0m in \u001b[0;36mread_windows_registry\u001b[1;34m(self, strict)\u001b[0m\n\u001b[0;32m    257\u001b[0m             \u001b[1;32mfor\u001b[0m \u001b[0msubkeyname\u001b[0m \u001b[1;32min\u001b[0m \u001b[0menum_types\u001b[0m\u001b[1;33m(\u001b[0m\u001b[0mhkcr\u001b[0m\u001b[1;33m)\u001b[0m\u001b[1;33m:\u001b[0m\u001b[1;33m\u001b[0m\u001b[1;33m\u001b[0m\u001b[0m\n\u001b[0;32m    258\u001b[0m                 \u001b[1;32mtry\u001b[0m\u001b[1;33m:\u001b[0m\u001b[1;33m\u001b[0m\u001b[1;33m\u001b[0m\u001b[0m\n\u001b[1;32m--> 259\u001b[1;33m                     \u001b[1;32mwith\u001b[0m \u001b[0m_winreg\u001b[0m\u001b[1;33m.\u001b[0m\u001b[0mOpenKey\u001b[0m\u001b[1;33m(\u001b[0m\u001b[0mhkcr\u001b[0m\u001b[1;33m,\u001b[0m \u001b[0msubkeyname\u001b[0m\u001b[1;33m)\u001b[0m \u001b[1;32mas\u001b[0m \u001b[0msubkey\u001b[0m\u001b[1;33m:\u001b[0m\u001b[1;33m\u001b[0m\u001b[1;33m\u001b[0m\u001b[0m\n\u001b[0m\u001b[0;32m    260\u001b[0m                         \u001b[1;31m# Only check file extensions\u001b[0m\u001b[1;33m\u001b[0m\u001b[1;33m\u001b[0m\u001b[0m\n\u001b[0;32m    261\u001b[0m                         \u001b[1;32mif\u001b[0m \u001b[1;32mnot\u001b[0m \u001b[0msubkeyname\u001b[0m\u001b[1;33m.\u001b[0m\u001b[0mstartswith\u001b[0m\u001b[1;33m(\u001b[0m\u001b[1;34m\".\"\u001b[0m\u001b[1;33m)\u001b[0m\u001b[1;33m:\u001b[0m\u001b[1;33m\u001b[0m\u001b[1;33m\u001b[0m\u001b[0m\n",
      "\u001b[1;31mKeyboardInterrupt\u001b[0m: "
     ]
    }
   ],
   "source": [
    "df = pd.read_excel(\"dataset2.xlsx\")\n",
    "df.head()"
   ]
  },
  {
   "cell_type": "markdown",
   "id": "27b287a9",
   "metadata": {},
   "source": [
    "<br>\n",
    "\n",
    "# Insights about the dataset\n",
    "\n",
    "> To get insight : [click here](./DataSetStudy.ipynb)\n",
    "\n",
    "<br>"
   ]
  },
  {
   "cell_type": "markdown",
   "id": "ba9b25eb",
   "metadata": {},
   "source": [
    "# Splitting the dataset"
   ]
  },
  {
   "cell_type": "code",
   "execution_count": null,
   "id": "5a6345b5",
   "metadata": {},
   "outputs": [],
   "source": [
    "\n",
    "# few data \n",
    "trainning_set = df.sample(frac=0.75, random_state=25) \n",
    "test_set = df.drop(trainning_set.index)\n",
    "\n",
    "# Calculate the Z-scores of each column in the training set:\n",
    "trainning_set_mean = trainning_set.mean()\n",
    "trainning_set_std = trainning_set.std()\n",
    "trainning_set = (trainning_set - trainning_set_mean)/trainning_set_std\n",
    "\n",
    "# Calculate the Z-scores of each column in the testing set:\n",
    "test_set_mean = test_set.mean()\n",
    "test_set_std = test_set.std()\n",
    "test_set = (test_set - test_set_mean)/test_set_std\n",
    "\n",
    "print(\"# DataSet shape : \", df.shape)\n",
    "print(\"# trainning_set shape : \", trainning_set.shape)\n",
    "print(\"# test_set shape  20% : \", test_set.shape)\n",
    "\n",
    "\n",
    "X = trainning_set.iloc[:,0:13]\n",
    "Y = trainning_set[['Label']]\n",
    "\n",
    "\n",
    "X_test = test_set.iloc[:,0:13]\n",
    "Y_test = test_set[['Label']]\n"
   ]
  },
  {
   "cell_type": "markdown",
   "id": "0692294d",
   "metadata": {},
   "source": [
    "<br>\n",
    "\n",
    "# 1- Linear Regression\n"
   ]
  },
  {
   "cell_type": "code",
   "execution_count": null,
   "id": "019b6f31",
   "metadata": {},
   "outputs": [],
   "source": [
    "\n",
    "# create & train model\n",
    "linearReg_model = linear_model.LinearRegression()\n",
    "linearReg_model.fit( X, Y )\n",
    "\n",
    "# print model parameters\n",
    "print(\"# coef_ : \\n\", linearReg_model.coef_ )\n",
    "print(\"\\n # intercept_ : \", linearReg_model.intercept_ )\n",
    "\n",
    "X_test = test_set.iloc[:,0:13]\n",
    "Y_test =  test_set[['Label']]\n",
    "Y_pred = linearReg_model.predict(X_test)\n",
    "  \n",
    "# Calculate metrics using test set\n",
    "linearReg_score = round(linearReg_model.score(X_test, Y_test), 2)\n",
    "linearReg_mae = round(metrics.mean_absolute_error(Y_test, Y_pred), 4)\n",
    "linearReg_mse = round(metrics.mean_squared_error(Y_test, Y_pred), 4)"
   ]
  },
  {
   "cell_type": "markdown",
   "id": "d5f41137",
   "metadata": {},
   "source": [
    "## testing set with model predictions"
   ]
  },
  {
   "cell_type": "code",
   "execution_count": null,
   "id": "a5965655",
   "metadata": {
    "scrolled": true
   },
   "outputs": [],
   "source": [
    "\n",
    "testing_set_with_predictions = test_set.copy()\n",
    "testing_set_with_predictions[\"LR_model_predictions\"] = linearReg_model.predict(test_set.iloc[:,0:13])\n",
    "testing_set_with_predictions.head()\n"
   ]
  },
  {
   "cell_type": "markdown",
   "id": "9eaa1eed",
   "metadata": {},
   "source": [
    "<br>\n",
    "<br>\n",
    "\n",
    "# 2-  Decision tree"
   ]
  },
  {
   "cell_type": "code",
   "execution_count": null,
   "id": "bb847499",
   "metadata": {
    "scrolled": true
   },
   "outputs": [],
   "source": [
    "\n",
    "# create & train model\n",
    "DT_model = tree.DecisionTreeRegressor()\n",
    "DT_model.fit( X, Y )\n",
    "\n",
    "# print model parameters\n",
    "print(\"# depth : \\n\", DT_model.get_depth() )\n",
    "print(\"\\n # ccp_alpha : \", DT_model.ccp_alpha )\n",
    "\n",
    "X_test = test_set.iloc[:,0:13]\n",
    "Y_test =  test_set[['Label']]\n",
    "Y_pred = DT_model.predict(X_test)\n",
    "  \n",
    "# Calculate metrics using test set\n",
    "DT_score = round(DT_model.score(X_test, Y_test), 2)\n",
    "DT_mae = round(metrics.mean_absolute_error(Y_test, Y_pred), 4)\n",
    "DT_mse = round(metrics.mean_squared_error(Y_test, Y_pred), 4)\n"
   ]
  },
  {
   "cell_type": "markdown",
   "id": "92817c39",
   "metadata": {},
   "source": [
    "## testing set with model predictions"
   ]
  },
  {
   "cell_type": "code",
   "execution_count": null,
   "id": "bd334ba9",
   "metadata": {
    "scrolled": true
   },
   "outputs": [],
   "source": [
    "\n",
    "testing_set_with_predictions = test_set.copy()\n",
    "testing_set_with_predictions[\"DT_model_predictions\"] = DT_model.predict(test_set.iloc[:,0:13])\n",
    "testing_set_with_predictions.head()\n"
   ]
  },
  {
   "cell_type": "markdown",
   "id": "cb811138",
   "metadata": {},
   "source": [
    "<br>\n",
    "<br>\n",
    "\n",
    "# 3-  SVM Resgression "
   ]
  },
  {
   "cell_type": "code",
   "execution_count": null,
   "id": "b5f7a4e3",
   "metadata": {
    "scrolled": true
   },
   "outputs": [],
   "source": [
    "\n",
    "# create & train model\n",
    "SVM_model = svm.SVR( kernel='rbf')\n",
    "SVM_model.fit( X, Y )\n",
    "\n",
    "# print model parameters\n",
    "print(\"# coef0 : \\n\", SVM_model.coef0 ) \n",
    "#print(\"\\n # coef_ : \", SVM_model.coef_ ) #only if using a linear kernel \n",
    "print(\"\\n # degree : \", SVM_model.degree )\n",
    "\n",
    "X_test = test_set.iloc[:,0:13]\n",
    "Y_test =  test_set[['Label']]\n",
    "Y_pred = SVM_model.predict(X_test)\n",
    "  \n",
    "# Calculate metrics using test set\n",
    "SVM_score = round(SVM_model.score(X_test, Y_test), 2)\n",
    "SVM_mae = round(metrics.mean_absolute_error(Y_test, Y_pred), 4)\n",
    "SVM_mse = round(metrics.mean_squared_error(Y_test, Y_pred), 4)\n"
   ]
  },
  {
   "cell_type": "markdown",
   "id": "505b2701",
   "metadata": {},
   "source": [
    "## testing set with model predictions"
   ]
  },
  {
   "cell_type": "code",
   "execution_count": null,
   "id": "88a20b9c",
   "metadata": {
    "scrolled": true
   },
   "outputs": [],
   "source": [
    "\n",
    "testing_set_with_predictions = test_set.copy()\n",
    "testing_set_with_predictions[\"SVM_model_predictions\"] = SVM_model.predict(test_set.iloc[:,0:13])\n",
    "testing_set_with_predictions.head()"
   ]
  },
  {
   "cell_type": "markdown",
   "id": "2336ebca",
   "metadata": {},
   "source": [
    "<br>\n",
    "<br>\n",
    "\n",
    "# 4-  Random Forest regression"
   ]
  },
  {
   "cell_type": "code",
   "execution_count": null,
   "id": "349da643",
   "metadata": {
    "scrolled": true
   },
   "outputs": [],
   "source": [
    "\n",
    "# create & train model\n",
    "RFR_model = RandomForestRegressor( n_estimators=2000, n_jobs=30000 )\n",
    "RFR_model.fit( X, Y.values.ravel() )\n",
    "\n",
    "# print model parameters\n",
    "print(\"# n_estimators : \\n\", RFR_model.n_estimators ) \n",
    "print(\"\\n # feature_importances_ : \", RFR_model.feature_importances_ )\n",
    "\n",
    "X_test = test_set.iloc[:,0:13]\n",
    "Y_test =  test_set[['Label']]\n",
    "Y_pred = RFR_model.predict(X_test)\n",
    "  \n",
    "# Calculate metrics using test set\n",
    "RFR_score = round(RFR_model.score(X_test, Y_test), 2)\n",
    "RFR_mae = round(metrics.mean_absolute_error(Y_test, Y_pred), 4)\n",
    "RFR_mse = round(metrics.mean_squared_error(Y_test, Y_pred), 4)\n"
   ]
  },
  {
   "cell_type": "markdown",
   "id": "1747fa5c",
   "metadata": {},
   "source": [
    "## testing set with model predictions"
   ]
  },
  {
   "cell_type": "code",
   "execution_count": null,
   "id": "f75eb35f",
   "metadata": {
    "scrolled": true
   },
   "outputs": [],
   "source": [
    "\n",
    "testing_set_with_predictions = test_set.copy()\n",
    "testing_set_with_predictions[\"SVM_model_predictions\"] = RFR_model.predict(test_set.iloc[:,0:13])\n",
    "testing_set_with_predictions.head()"
   ]
  },
  {
   "cell_type": "markdown",
   "id": "997e5462",
   "metadata": {},
   "source": [
    "<br>\n",
    "<br>\n",
    "\n",
    "# 5-  Stochastic Gradient Descent"
   ]
  },
  {
   "cell_type": "code",
   "execution_count": null,
   "id": "1274cdf6",
   "metadata": {
    "scrolled": true
   },
   "outputs": [],
   "source": [
    "\n",
    "# create & train model\n",
    "SGD_model = linear_model.SGDRegressor( alpha=.00000000000000000001 ) # this value should be so small so the algorithme fits well\n",
    "SGD_model.fit( X, Y )\n",
    "\n",
    "# print model parameters\n",
    "print(\"# alpha : \\n\", SGD_model.alpha ) \n",
    "\n",
    "\n",
    "X_test = test_set.iloc[:,0:13]\n",
    "Y_test =  test_set[['Label']]\n",
    "Y_pred = SGD_model.predict(X_test)\n",
    "  \n",
    "# Calculate metrics using test set\n",
    "SGD_score = round(SGD_model.score(X_test, Y_test), 2)\n",
    "SGD_mae = round(metrics.mean_absolute_error(Y_test, Y_pred), 4)\n",
    "SGD_mse = round(metrics.mean_squared_error(Y_test, Y_pred), 4)\n"
   ]
  },
  {
   "cell_type": "markdown",
   "id": "033ef183",
   "metadata": {},
   "source": [
    "## testing set with model predictions"
   ]
  },
  {
   "cell_type": "code",
   "execution_count": null,
   "id": "28f18bf5",
   "metadata": {},
   "outputs": [],
   "source": [
    "\n",
    "testing_set_with_predictions = test_set.copy()\n",
    "testing_set_with_predictions[\"SVM_model_predictions\"] = SGD_model.predict(test_set.iloc[:,0:13])\n",
    "testing_set_with_predictions.head()"
   ]
  },
  {
   "cell_type": "markdown",
   "id": "5814f9e0",
   "metadata": {},
   "source": [
    "<br>\n",
    "<br>\n",
    "\n",
    "# 6-  Ridge Regression\n",
    "   "
   ]
  },
  {
   "cell_type": "code",
   "execution_count": null,
   "id": "e3d5dafa",
   "metadata": {},
   "outputs": [],
   "source": [
    "\n",
    "# create & train model\n",
    "RidgeReg_model = linear_model.Ridge( alpha=5.9 ) # hyperparam : the greater it converges\n",
    "RidgeReg_model.fit( X, Y )\n",
    "\n",
    "# print model parameters\n",
    "print(\"# coef_ : \\n\", RidgeReg_model.coef_ ) \n",
    "print(\"# intercept_ : \\n\", RidgeReg_model.intercept_ ) \n",
    "\n",
    "\n",
    "X_test = test_set.iloc[:,0:13]\n",
    "Y_test =  test_set[['Label']]\n",
    "Y_pred = RidgeReg_model.predict(X_test)\n",
    "  \n",
    "# Calculate metrics using test set\n",
    "RidgeReg_score = round(RidgeReg_model.score(X_test, Y_test), 2)\n",
    "RidgeReg_mae = round(metrics.mean_absolute_error(Y_test, Y_pred), 4)\n",
    "RidgeReg_mse = round(metrics.mean_squared_error(Y_test, Y_pred), 4)\n"
   ]
  },
  {
   "cell_type": "markdown",
   "id": "620ab86d",
   "metadata": {},
   "source": [
    "## testing set with model predictions"
   ]
  },
  {
   "cell_type": "code",
   "execution_count": null,
   "id": "311b50ff",
   "metadata": {
    "scrolled": true
   },
   "outputs": [],
   "source": [
    "\n",
    "testing_set_with_predictions = test_set.copy()\n",
    "testing_set_with_predictions[\"Ridge_model_predictions\"] = RidgeReg_model.predict(test_set.iloc[:,0:13])\n",
    "testing_set_with_predictions.head()"
   ]
  },
  {
   "cell_type": "markdown",
   "id": "538136a3",
   "metadata": {},
   "source": [
    "<br>\n",
    "<br>\n",
    "\n",
    "# 7- KNeighbors_Regression \n",
    "    \n",
    "   "
   ]
  },
  {
   "cell_type": "code",
   "execution_count": null,
   "id": "e1934c57",
   "metadata": {
    "scrolled": true
   },
   "outputs": [],
   "source": [
    "\n",
    "# create & train model\n",
    "KNeighbors_model = KNeighborsRegressor( n_neighbors=11) # hyperparam\n",
    "KNeighbors_model.fit( X, Y )\n",
    "\n",
    "# print model parameters\n",
    "print(\"# n_features_in_ : \\n\", KNeighbors_model.n_features_in_ ) \n",
    "print(\"# radius : \\n\", KNeighbors_model.radius ) \n",
    "print(\"# params : \\n\", KNeighbors_model.get_params() ) \n",
    "\n",
    "\n",
    "X_test = test_set.iloc[:,0:13]\n",
    "Y_test =  test_set[['Label']]\n",
    "Y_pred = KNeighbors_model.predict(X_test)\n",
    "  \n",
    "# Calculate metrics using test set\n",
    "KNeighbors_score = round(KNeighbors_model.score(X_test, Y_test), 2)\n",
    "KNeighbors_mae = round(metrics.mean_absolute_error(Y_test, Y_pred), 4)\n",
    "KNeighbors_mse = round(metrics.mean_squared_error(Y_test, Y_pred), 4)\n"
   ]
  },
  {
   "cell_type": "markdown",
   "id": "9537b4e4",
   "metadata": {},
   "source": [
    "## testing set with model predictions"
   ]
  },
  {
   "cell_type": "code",
   "execution_count": null,
   "id": "a303d4c8",
   "metadata": {},
   "outputs": [],
   "source": [
    "\n",
    "testing_set_with_predictions = test_set.copy()\n",
    "testing_set_with_predictions[\"Kneighbors_model_predictions\"] = KNeighbors_model.predict(test_set.iloc[:,0:13])\n",
    "testing_set_with_predictions.head()"
   ]
  },
  {
   "cell_type": "markdown",
   "id": "8721203a",
   "metadata": {},
   "source": [
    "<br>\n",
    "<br>\n",
    "\n",
    "# 8- Bayesian_Ridge_Regression\n",
    "    \n",
    "   "
   ]
  },
  {
   "cell_type": "code",
   "execution_count": null,
   "id": "83518e6b",
   "metadata": {
    "scrolled": true
   },
   "outputs": [],
   "source": [
    "\n",
    "# create & train model\n",
    "BayesianRidge_model = linear_model.BayesianRidge()\n",
    "BayesianRidge_model.fit( X, Y )\n",
    "\n",
    "# print model parameters\n",
    "print(\"# n_features_in_ : \\n\", BayesianRidge_model.n_features_in_ ) \n",
    "print(\"# radius : \\n\", KNeighbors_model.radius ) \n",
    "print(\"# params : \\n\", KNeighbors_model.get_params() ) \n",
    "\n",
    "\n",
    "X_test = test_set.iloc[:,0:13]\n",
    "Y_test =  test_set[['Label']]\n",
    "Y_pred = BayesianRidge_model.predict(X_test)\n",
    "  \n",
    "# Calculate metrics using test set\n",
    "BayesianRidge_score = round(BayesianRidge_model.score(X_test, Y_test), 2)\n",
    "BayesianRidge_mae = round(metrics.mean_absolute_error(Y_test, Y_pred), 4)\n",
    "BayesianRidge_mse = round(metrics.mean_squared_error(Y_test, Y_pred), 4)\n"
   ]
  },
  {
   "cell_type": "markdown",
   "id": "86ab656f",
   "metadata": {},
   "source": [
    "## testing set with model predictions"
   ]
  },
  {
   "cell_type": "code",
   "execution_count": null,
   "id": "a86566b2",
   "metadata": {
    "scrolled": true
   },
   "outputs": [],
   "source": [
    "\n",
    "testing_set_with_predictions = test_set.copy()\n",
    "testing_set_with_predictions[\"BayesianRidge_model_predictions\"] = BayesianRidge_model.predict(test_set.iloc[:,0:13])\n",
    "testing_set_with_predictions.head()"
   ]
  },
  {
   "cell_type": "markdown",
   "id": "b68c2e07",
   "metadata": {},
   "source": [
    "<br>\n",
    "<br>\n",
    "\n",
    "# 9-  Gaussian_Process_Regression \n",
    "    \n",
    "   "
   ]
  },
  {
   "cell_type": "code",
   "execution_count": null,
   "id": "079258c6",
   "metadata": {
    "scrolled": true
   },
   "outputs": [],
   "source": [
    "\n",
    "kernel = DotProduct() + WhiteKernel()\n",
    "\n",
    "# create & train model\n",
    "GPR_model =  GaussianProcessRegressor( kernel=kernel, random_state=0)\n",
    "GPR_model.fit( X, Y )\n",
    "\n",
    "# print model parameters\n",
    "print(\"# n_features_in_ : \\n\", GPR_model.n_features_in_ ) \n",
    "print(\"# alpha : \\n\", GPR_model.alpha ) \n",
    "print(\"# kernel : \\n\", GPR_model.kernel ) \n",
    "print(\"# params : \\n\", GPR_model.get_params() ) \n",
    "\n",
    "\n",
    "X_test = test_set.iloc[:,0:13]\n",
    "Y_test =  test_set[['Label']]\n",
    "Y_pred = GPR_model.predict(X_test)\n",
    "  \n",
    "# Calculate metrics using test set\n",
    "GPR_score = round(GPR_model.score(X_test, Y_test), 2)\n",
    "GPR_mae = round(metrics.mean_absolute_error(Y_test, Y_pred), 4)\n",
    "GPR_mse = round(metrics.mean_squared_error(Y_test, Y_pred), 4)\n"
   ]
  },
  {
   "cell_type": "markdown",
   "id": "642463c4",
   "metadata": {},
   "source": [
    "## testing set with model predictions"
   ]
  },
  {
   "cell_type": "code",
   "execution_count": null,
   "id": "bbbaaf58",
   "metadata": {
    "scrolled": true
   },
   "outputs": [],
   "source": [
    "\n",
    "testing_set_with_predictions = test_set.copy()\n",
    "testing_set_with_predictions[\"GPR_model_predictions\"] = GPR_model.predict(test_set.iloc[:,0:13])\n",
    "testing_set_with_predictions.head()"
   ]
  },
  {
   "cell_type": "markdown",
   "id": "685b67af-9c42-4c10-b911-02a90806aa58",
   "metadata": {},
   "source": [
    "<br>\n",
    "<br>\n",
    "\n",
    "# 10- ExtraTreesRegressor\n",
    "    \n",
    "   "
   ]
  },
  {
   "cell_type": "code",
   "execution_count": null,
   "id": "8fddca69-b8ea-4c05-9d94-93255845679c",
   "metadata": {
    "scrolled": true
   },
   "outputs": [],
   "source": [
    "\n",
    "# create & train model\n",
    "EXTRG_model =  ExtraTreesRegressor( n_estimators=2000, n_jobs=30000 )\n",
    "EXTRG_model.fit( X, Y )\n",
    "\n",
    "# print model parameters\n",
    "print(\"# n_estimators : \\n\", EXTRG_model.n_estimators ) \n",
    "print(\"\\n # feature_importances_ : \", EXTRG_model.feature_importances_ )\n",
    "\n",
    "X_test = test_set.iloc[:,0:13]\n",
    "Y_test =  test_set[['Label']]\n",
    "Y_pred = EXTRG_model.predict(X_test)\n",
    "  \n",
    "# Calculate metrics using test set\n",
    "EXTRG_score = round(EXTRG_model.score(X_test, Y_test), 2)\n",
    "EXTRG_mae = round(metrics.mean_absolute_error(Y_test, Y_pred), 4)\n",
    "EXTRG_mse = round(metrics.mean_squared_error(Y_test, Y_pred), 4)\n"
   ]
  },
  {
   "cell_type": "code",
   "execution_count": null,
   "id": "da24375f-f00c-4947-9105-e00aa5f7772a",
   "metadata": {
    "scrolled": true
   },
   "outputs": [],
   "source": [
    "\n",
    "testing_set_with_predictions = test_set.copy()\n",
    "testing_set_with_predictions[\"EXTRG_model_predictions\"] = EXTRG_model.predict(test_set.iloc[:,0:13])\n",
    "testing_set_with_predictions.head()"
   ]
  },
  {
   "cell_type": "markdown",
   "id": "5b0d89c6",
   "metadata": {},
   "source": [
    "<br>\n",
    "<hr>\n",
    "<br>\n",
    "\n",
    "# Results & Comparaison"
   ]
  },
  {
   "cell_type": "code",
   "execution_count": null,
   "id": "3e33c44f",
   "metadata": {
    "scrolled": true
   },
   "outputs": [],
   "source": [
    "pd.DataFrame({  \n",
    "        'Model' : [ \n",
    "            'Linear Regression Model',  \n",
    "            'Decision Tree',\n",
    "            'SVM',\n",
    "            'Random Forest Reg',\n",
    "            'Stochastic Gradient Descent',\n",
    "            'Ridge_Regression',\n",
    "            'KNeighborsRegressor',\n",
    "            \"BayesianRidge\",\n",
    "            'GaussianProcessRegressor',\n",
    "            'ExtraTreesRegressor',\n",
    "        ],\n",
    "        'Score' : [ \n",
    "            linearReg_score,\n",
    "            DT_score,\n",
    "            SVM_score,\n",
    "            RFR_score,\n",
    "            SGD_score,\n",
    "            RidgeReg_score,\n",
    "            KNeighbors_score,\n",
    "            BayesianRidge_score,\n",
    "            GPR_score,\n",
    "            EXTRG_score,\n",
    "        ],\n",
    "        'MAE'  : [ \n",
    "            linearReg_mae,\n",
    "            DT_mae,\n",
    "            SVM_mae,\n",
    "            RFR_mae,\n",
    "            SGD_mae,\n",
    "            RidgeReg_mae,\n",
    "            KNeighbors_mae,\n",
    "            BayesianRidge_mae,\n",
    "            GPR_mae,\n",
    "            EXTRG_mae,\n",
    "        ],\n",
    "        'MSE'  : [ \n",
    "            linearReg_mse,\n",
    "            DT_mse,\n",
    "            SVM_mse,\n",
    "            RFR_mse,\n",
    "            SGD_mse,\n",
    "            RidgeReg_mse,\n",
    "            KNeighbors_mse,\n",
    "            BayesianRidge_mse,\n",
    "            GPR_mse,\n",
    "            EXTRG_mse,\n",
    "        ]\n",
    "    })"
   ]
  },
  {
   "cell_type": "markdown",
   "id": "32e69349",
   "metadata": {},
   "source": [
    "<br>\n",
    "\n",
    "## Manual testing"
   ]
  },
  {
   "cell_type": "code",
   "execution_count": null,
   "id": "9c9e1f87",
   "metadata": {},
   "outputs": [],
   "source": [
    "seance_en_simultanite_perc = 0\n",
    "salles_utilisees_perc = 82\n",
    "salles_surutiliseess_Perc = 10\n",
    "places_videss_Perc = 10\n",
    "seances_samedis_Perc = 0\n",
    "Smidis_Perc = 0\n",
    "IntvDep8Hs_Perc = 0 \n",
    "InterDepDisp6s_Perc = 0 \n",
    "GrpDep8Hs_Perc = 0 \n",
    "GrpDepDisp6s_Perc = 0\n",
    "SHDispoIntrv_Nbr = 0 \n",
    "SDepDIntvs_Perc = 0\n",
    "SHPDIntvs_Perc = 0\n",
    "\n",
    "manual_testing_var = [ seance_en_simultanite_perc, salles_utilisees_perc, salles_surutiliseess_Perc, places_videss_Perc, seances_samedis_Perc, \n",
    "Smidis_Perc, IntvDep8Hs_Perc, InterDepDisp6s_Perc, GrpDep8Hs_Perc, GrpDepDisp6s_Perc, SHDispoIntrv_Nbr, SDepDIntvs_Perc, SHPDIntvs_Perc]"
   ]
  },
  {
   "cell_type": "code",
   "execution_count": null,
   "id": "0dfce1d7",
   "metadata": {},
   "outputs": [],
   "source": [
    "\n",
    "pd.DataFrame({  \n",
    "        'Model' : [ \n",
    "            'Linear Regression Model',  \n",
    "            'Decision Tree',\n",
    "            'SVM',\n",
    "            'Random Forest Reg',\n",
    "            'Stochastic Gradient Descent',\n",
    "            'Ridge_Regression',\n",
    "            'KNeighborsRegressor',\n",
    "            'BayesianRidge',\n",
    "            'ExtraTreesRegressor'\n",
    "        ],\n",
    "        'Prediction' : [ \n",
    "            linearReg_model.predict([ manual_testing_var ])[0],\n",
    "            DT_model.predict([ manual_testing_var ])[0],\n",
    "            SVM_model.predict([ manual_testing_var ])[0],\n",
    "            RFR_model.predict([ manual_testing_var ])[0],\n",
    "            SGD_model.predict([ manual_testing_var ])[0],\n",
    "            RidgeReg_model.predict([ manual_testing_var ])[0],\n",
    "            KNeighbors_model.predict([ manual_testing_var ])[0],\n",
    "            BayesianRidge_model.predict([ manual_testing_var ])[0],\n",
    "            EXTRG_model.predict([ manual_testing_var ])[0],\n",
    "        ]})\n"
   ]
  },
  {
   "cell_type": "code",
   "execution_count": null,
   "id": "e6074a66-ea50-4012-9b73-ae9d7c483562",
   "metadata": {},
   "outputs": [],
   "source": []
  }
 ],
 "metadata": {
  "kernelspec": {
   "display_name": "Python 3 (ipykernel)",
   "language": "python",
   "name": "python3"
  },
  "language_info": {
   "codemirror_mode": {
    "name": "ipython",
    "version": 3
   },
   "file_extension": ".py",
   "mimetype": "text/x-python",
   "name": "python",
   "nbconvert_exporter": "python",
   "pygments_lexer": "ipython3",
   "version": "3.9.7"
  }
 },
 "nbformat": 4,
 "nbformat_minor": 5
}
