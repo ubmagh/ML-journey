{
 "cells": [
  {
   "cell_type": "code",
   "execution_count": 133,
   "id": "50546b87-d14b-4114-8613-b884bbc7df33",
   "metadata": {},
   "outputs": [],
   "source": [
    "import pandas as pd\n",
    "from matplotlib import pyplot as plt\n",
    "from sklearn.model_selection import train_test_split\n",
    "import numpy as np\n",
    "from sklearn.linear_model import LogisticRegression\n",
    "import math\n",
    "from sklearn.metrics import confusion_matrix"
   ]
  },
  {
   "cell_type": "markdown",
   "id": "c90436e3-8787-46eb-81c6-4120778b50e9",
   "metadata": {},
   "source": [
    "# Ouvrir un data set `a l’aide de pandas et rcup´erer un dataframe"
   ]
  },
  {
   "cell_type": "code",
   "execution_count": 7,
   "id": "bfcc13f7-48ae-4ac0-8c3f-da9ed7c9d1ce",
   "metadata": {},
   "outputs": [],
   "source": [
    "data=pd.read_csv(\"diabetes.csv\")"
   ]
  },
  {
   "cell_type": "markdown",
   "id": "3004e74e-9cdb-4179-9c3a-6df7f0322eda",
   "metadata": {},
   "source": [
    "# Connaitre les dimensions du dataframe"
   ]
  },
  {
   "cell_type": "code",
   "execution_count": 8,
   "id": "5169207d-bba2-4dd8-bc6b-f948e2a0ffb6",
   "metadata": {},
   "outputs": [
    {
     "data": {
      "text/plain": [
       "(768, 9)"
      ]
     },
     "execution_count": 8,
     "metadata": {},
     "output_type": "execute_result"
    }
   ],
   "source": [
    "data.shape"
   ]
  },
  {
   "cell_type": "markdown",
   "id": "32fd07a3-ba68-474c-b828-8686b426599d",
   "metadata": {},
   "source": [
    "# Explorer la liste des colonnes\n"
   ]
  },
  {
   "cell_type": "code",
   "execution_count": 10,
   "id": "cb52ee66-6c80-4d2a-9afa-8e69a0218c15",
   "metadata": {},
   "outputs": [
    {
     "data": {
      "text/html": [
       "<div>\n",
       "<style scoped>\n",
       "    .dataframe tbody tr th:only-of-type {\n",
       "        vertical-align: middle;\n",
       "    }\n",
       "\n",
       "    .dataframe tbody tr th {\n",
       "        vertical-align: top;\n",
       "    }\n",
       "\n",
       "    .dataframe thead th {\n",
       "        text-align: right;\n",
       "    }\n",
       "</style>\n",
       "<table border=\"1\" class=\"dataframe\">\n",
       "  <thead>\n",
       "    <tr style=\"text-align: right;\">\n",
       "      <th></th>\n",
       "      <th>Pregnancies</th>\n",
       "      <th>Glucose</th>\n",
       "      <th>BloodPressure</th>\n",
       "      <th>SkinThickness</th>\n",
       "      <th>Insulin</th>\n",
       "      <th>BMI</th>\n",
       "      <th>DiabetesPedigreeFunction</th>\n",
       "      <th>Age</th>\n",
       "      <th>Outcome</th>\n",
       "    </tr>\n",
       "  </thead>\n",
       "  <tbody>\n",
       "    <tr>\n",
       "      <th>0</th>\n",
       "      <td>6</td>\n",
       "      <td>148</td>\n",
       "      <td>72</td>\n",
       "      <td>35</td>\n",
       "      <td>0</td>\n",
       "      <td>33.6</td>\n",
       "      <td>0.627</td>\n",
       "      <td>50</td>\n",
       "      <td>1</td>\n",
       "    </tr>\n",
       "    <tr>\n",
       "      <th>1</th>\n",
       "      <td>1</td>\n",
       "      <td>85</td>\n",
       "      <td>66</td>\n",
       "      <td>29</td>\n",
       "      <td>0</td>\n",
       "      <td>26.6</td>\n",
       "      <td>0.351</td>\n",
       "      <td>31</td>\n",
       "      <td>0</td>\n",
       "    </tr>\n",
       "    <tr>\n",
       "      <th>2</th>\n",
       "      <td>8</td>\n",
       "      <td>183</td>\n",
       "      <td>64</td>\n",
       "      <td>0</td>\n",
       "      <td>0</td>\n",
       "      <td>23.3</td>\n",
       "      <td>0.672</td>\n",
       "      <td>32</td>\n",
       "      <td>1</td>\n",
       "    </tr>\n",
       "  </tbody>\n",
       "</table>\n",
       "</div>"
      ],
      "text/plain": [
       "   Pregnancies  Glucose  BloodPressure  SkinThickness  Insulin   BMI  \\\n",
       "0            6      148             72             35        0  33.6   \n",
       "1            1       85             66             29        0  26.6   \n",
       "2            8      183             64              0        0  23.3   \n",
       "\n",
       "   DiabetesPedigreeFunction  Age  Outcome  \n",
       "0                     0.627   50        1  \n",
       "1                     0.351   31        0  \n",
       "2                     0.672   32        1  "
      ]
     },
     "execution_count": 10,
     "metadata": {},
     "output_type": "execute_result"
    }
   ],
   "source": [
    "data.head(3)"
   ]
  },
  {
   "cell_type": "markdown",
   "id": "c7fac478-3d1b-42d4-b023-ade1f63dc312",
   "metadata": {},
   "source": [
    "# Recuperer une colonne, un ensemble de colonnes"
   ]
  },
  {
   "cell_type": "code",
   "execution_count": 37,
   "id": "e0914b39-0802-4a67-9c46-9a6339632544",
   "metadata": {},
   "outputs": [
    {
     "data": {
      "text/html": [
       "<div>\n",
       "<style scoped>\n",
       "    .dataframe tbody tr th:only-of-type {\n",
       "        vertical-align: middle;\n",
       "    }\n",
       "\n",
       "    .dataframe tbody tr th {\n",
       "        vertical-align: top;\n",
       "    }\n",
       "\n",
       "    .dataframe thead th {\n",
       "        text-align: right;\n",
       "    }\n",
       "</style>\n",
       "<table border=\"1\" class=\"dataframe\">\n",
       "  <thead>\n",
       "    <tr style=\"text-align: right;\">\n",
       "      <th></th>\n",
       "      <th>Pregnancies</th>\n",
       "    </tr>\n",
       "  </thead>\n",
       "  <tbody>\n",
       "    <tr>\n",
       "      <th>0</th>\n",
       "      <td>6</td>\n",
       "    </tr>\n",
       "    <tr>\n",
       "      <th>1</th>\n",
       "      <td>1</td>\n",
       "    </tr>\n",
       "    <tr>\n",
       "      <th>2</th>\n",
       "      <td>8</td>\n",
       "    </tr>\n",
       "  </tbody>\n",
       "</table>\n",
       "</div>"
      ],
      "text/plain": [
       "   Pregnancies\n",
       "0            6\n",
       "1            1\n",
       "2            8"
      ]
     },
     "execution_count": 37,
     "metadata": {},
     "output_type": "execute_result"
    }
   ],
   "source": [
    "Pregnancies=data[[\"Pregnancies\"]]\n",
    "Pregnancies.head(3)"
   ]
  },
  {
   "cell_type": "markdown",
   "id": "fd9c9671-2202-4ce9-931d-884953685875",
   "metadata": {},
   "source": [
    "# Recupere un ensemble de colonnes"
   ]
  },
  {
   "cell_type": "code",
   "execution_count": 35,
   "id": "f481b186-981b-4fbd-861b-90912b426c72",
   "metadata": {},
   "outputs": [
    {
     "data": {
      "text/html": [
       "<div>\n",
       "<style scoped>\n",
       "    .dataframe tbody tr th:only-of-type {\n",
       "        vertical-align: middle;\n",
       "    }\n",
       "\n",
       "    .dataframe tbody tr th {\n",
       "        vertical-align: top;\n",
       "    }\n",
       "\n",
       "    .dataframe thead th {\n",
       "        text-align: right;\n",
       "    }\n",
       "</style>\n",
       "<table border=\"1\" class=\"dataframe\">\n",
       "  <thead>\n",
       "    <tr style=\"text-align: right;\">\n",
       "      <th></th>\n",
       "      <th>Pregnancies</th>\n",
       "      <th>Insulin</th>\n",
       "      <th>BMI</th>\n",
       "      <th>Age</th>\n",
       "    </tr>\n",
       "  </thead>\n",
       "  <tbody>\n",
       "    <tr>\n",
       "      <th>0</th>\n",
       "      <td>6</td>\n",
       "      <td>0</td>\n",
       "      <td>33.6</td>\n",
       "      <td>50</td>\n",
       "    </tr>\n",
       "    <tr>\n",
       "      <th>1</th>\n",
       "      <td>1</td>\n",
       "      <td>0</td>\n",
       "      <td>26.6</td>\n",
       "      <td>31</td>\n",
       "    </tr>\n",
       "    <tr>\n",
       "      <th>2</th>\n",
       "      <td>8</td>\n",
       "      <td>0</td>\n",
       "      <td>23.3</td>\n",
       "      <td>32</td>\n",
       "    </tr>\n",
       "  </tbody>\n",
       "</table>\n",
       "</div>"
      ],
      "text/plain": [
       "   Pregnancies  Insulin   BMI  Age\n",
       "0            6        0  33.6   50\n",
       "1            1        0  26.6   31\n",
       "2            8        0  23.3   32"
      ]
     },
     "execution_count": 35,
     "metadata": {},
     "output_type": "execute_result"
    }
   ],
   "source": [
    "cols = data[[\"Pregnancies\",\"Insulin\",\"BMI\",\"Age\"]]\n",
    "\n",
    "cols.head(3)"
   ]
  },
  {
   "cell_type": "markdown",
   "id": "ded57201-8ad0-4c44-96dd-36d5edb855d6",
   "metadata": {},
   "source": [
    "# Le max, le min, la moyenne d’une colonne"
   ]
  },
  {
   "cell_type": "code",
   "execution_count": 51,
   "id": "5399000c-d960-4c38-b686-48eaa387b8f4",
   "metadata": {},
   "outputs": [
    {
     "name": "stdout",
     "output_type": "stream",
     "text": [
      "->la valeur moyenne de chaque colonne \n",
      " Pregnancies                 100.276829\n",
      "Glucose                     184.514644\n",
      "BloodPressure               149.057659\n",
      "SkinThickness               119.811084\n",
      "Insulin                     245.849185\n",
      "BMI                         121.359592\n",
      "DiabetesPedigreeFunction     96.567963\n",
      "Age                         126.125140\n",
      "Outcome                      96.353239\n",
      "dtype: float64\n",
      "\n",
      "->la valeur minimale de chaque colonne \n",
      " Pregnancies                  0.000000\n",
      "Glucose                      0.000000\n",
      "BloodPressure                0.000000\n",
      "SkinThickness                0.000000\n",
      "Insulin                      0.000000\n",
      "BMI                          0.000000\n",
      "DiabetesPedigreeFunction     0.078000\n",
      "Age                         11.760232\n",
      "Outcome                      0.000000\n",
      "dtype: float64\n",
      "\n",
      "->la valeur maximale de chaque colonne \n",
      " Pregnancies                 768.0\n",
      "Glucose                     768.0\n",
      "BloodPressure               768.0\n",
      "SkinThickness               768.0\n",
      "Insulin                     846.0\n",
      "BMI                         768.0\n",
      "DiabetesPedigreeFunction    768.0\n",
      "Age                         768.0\n",
      "Outcome                     768.0\n",
      "dtype: float64\n"
     ]
    }
   ],
   "source": [
    "print(\"->la valeur moyenne de chaque colonne \\n\",data.describe().mean())\n",
    "print(\"\\n->la valeur minimale de chaque colonne \\n\",data.describe().min())\n",
    "\n",
    "print(\"\\n->la valeur maximale de chaque colonne \\n\",data.describe().max())\n"
   ]
  },
  {
   "cell_type": "markdown",
   "id": "49571942-ed10-4a6f-8fad-27c4f56ed089",
   "metadata": {},
   "source": [
    "<br>\n",
    "\n",
    "# 1. Quelles sont les principales etapes a suivre pour etablir un modele de Single Variate Logistic Regression bas´e sur sklearn ?\n"
   ]
  },
  {
   "cell_type": "markdown",
   "id": "c0827b1d-c6a3-4f60-a1a3-edcbe4d87a92",
   "metadata": {},
   "source": [
    "1. importer le model de regression logisque depuis Sklearn \n",
    "2. instancier le modele-Objet \n",
    "3. préparer les dataSets d'entrainement et de test\n",
    "4. faire l'entrainement avec la methode fit()\n",
    "5. vous avez un model entrainé, qu'il doit etre testé sur la dataset de test pour le valider"
   ]
  },
  {
   "cell_type": "markdown",
   "id": "be6df5bc-cbdc-42fb-bf2b-82083e5ef745",
   "metadata": {},
   "source": [
    "<br>\n",
    "\n",
    "# 2. Data\n",
    "\n",
    "## (a) D´efinir le dataset (X,y) et les afficher"
   ]
  },
  {
   "cell_type": "code",
   "execution_count": 41,
   "id": "d0f65e79-7b19-4827-bcdc-78eb92159271",
   "metadata": {},
   "outputs": [
    {
     "data": {
      "text/html": [
       "<div>\n",
       "<style scoped>\n",
       "    .dataframe tbody tr th:only-of-type {\n",
       "        vertical-align: middle;\n",
       "    }\n",
       "\n",
       "    .dataframe tbody tr th {\n",
       "        vertical-align: top;\n",
       "    }\n",
       "\n",
       "    .dataframe thead th {\n",
       "        text-align: right;\n",
       "    }\n",
       "</style>\n",
       "<table border=\"1\" class=\"dataframe\">\n",
       "  <thead>\n",
       "    <tr style=\"text-align: right;\">\n",
       "      <th></th>\n",
       "      <th>Glucose</th>\n",
       "    </tr>\n",
       "  </thead>\n",
       "  <tbody>\n",
       "    <tr>\n",
       "      <th>0</th>\n",
       "      <td>148</td>\n",
       "    </tr>\n",
       "    <tr>\n",
       "      <th>1</th>\n",
       "      <td>85</td>\n",
       "    </tr>\n",
       "    <tr>\n",
       "      <th>2</th>\n",
       "      <td>183</td>\n",
       "    </tr>\n",
       "  </tbody>\n",
       "</table>\n",
       "</div>"
      ],
      "text/plain": [
       "   Glucose\n",
       "0      148\n",
       "1       85\n",
       "2      183"
      ]
     },
     "execution_count": 41,
     "metadata": {},
     "output_type": "execute_result"
    }
   ],
   "source": [
    "X = data[[ \"Glucose\"]]\n",
    "X.head(3)"
   ]
  },
  {
   "cell_type": "code",
   "execution_count": 42,
   "id": "30caf738-0828-4409-a94d-badad3f7220e",
   "metadata": {},
   "outputs": [
    {
     "data": {
      "text/html": [
       "<div>\n",
       "<style scoped>\n",
       "    .dataframe tbody tr th:only-of-type {\n",
       "        vertical-align: middle;\n",
       "    }\n",
       "\n",
       "    .dataframe tbody tr th {\n",
       "        vertical-align: top;\n",
       "    }\n",
       "\n",
       "    .dataframe thead th {\n",
       "        text-align: right;\n",
       "    }\n",
       "</style>\n",
       "<table border=\"1\" class=\"dataframe\">\n",
       "  <thead>\n",
       "    <tr style=\"text-align: right;\">\n",
       "      <th></th>\n",
       "      <th>Outcome</th>\n",
       "    </tr>\n",
       "  </thead>\n",
       "  <tbody>\n",
       "    <tr>\n",
       "      <th>0</th>\n",
       "      <td>1</td>\n",
       "    </tr>\n",
       "    <tr>\n",
       "      <th>1</th>\n",
       "      <td>0</td>\n",
       "    </tr>\n",
       "    <tr>\n",
       "      <th>2</th>\n",
       "      <td>1</td>\n",
       "    </tr>\n",
       "  </tbody>\n",
       "</table>\n",
       "</div>"
      ],
      "text/plain": [
       "   Outcome\n",
       "0        1\n",
       "1        0\n",
       "2        1"
      ]
     },
     "execution_count": 42,
     "metadata": {},
     "output_type": "execute_result"
    }
   ],
   "source": [
    "Y = data[[ \"Outcome\"]]\n",
    "Y.head(3)"
   ]
  },
  {
   "cell_type": "markdown",
   "id": "629a57b5-0aef-4700-90e3-f30ab014ee45",
   "metadata": {},
   "source": [
    "## (b) Tracer les donnees a l’aide de matplotlib"
   ]
  },
  {
   "cell_type": "code",
   "execution_count": 43,
   "id": "fb6ece30-931f-4cad-8ea1-272bf7f51f3f",
   "metadata": {},
   "outputs": [
    {
     "data": {
      "image/png": "[encoded data removed]",
      "text/plain": [
       "<Figure size 432x288 with 1 Axes>"
      ]
     },
     "metadata": {
      "needs_background": "light"
     },
     "output_type": "display_data"
    }
   ],
   "source": [
    "plt.scatter( X, Y ) \n",
    "plt.show()"
   ]
  },
  {
   "cell_type": "markdown",
   "id": "be51eb38-ef4f-4572-90df-466586955d49",
   "metadata": {},
   "source": [
    "## (c) Conclusions ?\n",
    "\n",
    "> la variable `Glucos` n'est pas suffisante pour faire la classification"
   ]
  },
  {
   "cell_type": "markdown",
   "id": "bc047d8d-4573-458d-88f5-40390593edb0",
   "metadata": {},
   "source": [
    "## (d) a l’aide de train test split de sklearn.model selection, diviser le dataset en training dataset et test dataset (80% pour training data et 20% pour test data )"
   ]
  },
  {
   "cell_type": "code",
   "execution_count": 44,
   "id": "9c7b1211-7bfa-460b-969e-60381386fa74",
   "metadata": {},
   "outputs": [],
   "source": [
    "Xtrain, Xtest, Ytrain, Ytest = train_test_split( X, Y, test_size=0.2, train_size=0.8, random_state=7 )"
   ]
  },
  {
   "cell_type": "markdown",
   "id": "dcec3556-e5d8-4bce-a2e1-566715885c42",
   "metadata": {},
   "source": [
    "## (e) Pourquoi il faut separer les donnees en donnees d’apprentissage et en donnees de test ?"
   ]
  },
  {
   "cell_type": "markdown",
   "id": "302cf980-704b-4428-81dc-f2ba6a77ad65",
   "metadata": {},
   "source": [
    "> déja pour entrainer le model avec une partie des données qu'on a, et après le valider avec une autre partie différente qu'il n'a jamais vu pour le valider"
   ]
  },
  {
   "cell_type": "markdown",
   "id": "256064df-bdad-4406-8f3a-8b40ca864cfa",
   "metadata": {},
   "source": [
    "## (f) Afficher le nombre d’enregistrement pour le training et le nombre d’enregistrement pour le test"
   ]
  },
  {
   "cell_type": "code",
   "execution_count": 47,
   "id": "c272b921-37d7-4a92-96cf-5ed125df4f10",
   "metadata": {},
   "outputs": [
    {
     "name": "stdout",
     "output_type": "stream",
     "text": [
      "-> Le nombre d'enregistrements de trainning : 614\n"
     ]
    }
   ],
   "source": [
    "print(\"-> Le nombre d'enregistrements de trainning : \"+str( len(Xtrain) ) )"
   ]
  },
  {
   "cell_type": "code",
   "execution_count": 48,
   "id": "5d0efb1b-3609-42f0-b7c5-13c2e2b6e1be",
   "metadata": {},
   "outputs": [
    {
     "name": "stdout",
     "output_type": "stream",
     "text": [
      "-> Le nombre d'enregistrements de testing : 154\n"
     ]
    }
   ],
   "source": [
    "print(\"-> Le nombre d'enregistrements de testing : \"+str( len(Xtest) ) )"
   ]
  },
  {
   "cell_type": "markdown",
   "id": "0c960c4e-c255-4820-8912-8f4707c186f0",
   "metadata": {},
   "source": [
    "# 3. Modele\n",
    "\n",
    "## (a) Creer le modele"
   ]
  },
  {
   "cell_type": "code",
   "execution_count": 53,
   "id": "3dad93ab-bd7c-4e94-971a-55caaea40b11",
   "metadata": {},
   "outputs": [],
   "source": [
    "model = LogisticRegression()"
   ]
  },
  {
   "cell_type": "markdown",
   "id": "a07e3354-87e0-4e82-a166-75ec9cedfe17",
   "metadata": {},
   "source": [
    "## (b) Faire l’apprentissage"
   ]
  },
  {
   "cell_type": "code",
   "execution_count": 62,
   "id": "cd26230d-17cf-4833-af37-1d140e51492a",
   "metadata": {},
   "outputs": [
    {
     "data": {
      "text/html": [
       "<style>#sk-container-id-2 {color: black;background-color: white;}#sk-container-id-2 pre{padding: 0;}#sk-container-id-2 div.sk-toggleable {background-color: white;}#sk-container-id-2 label.sk-toggleable__label {cursor: pointer;display: block;width: 100%;margin-bottom: 0;padding: 0.3em;box-sizing: border-box;text-align: center;}#sk-container-id-2 label.sk-toggleable__label-arrow:before {content: \"▸\";float: left;margin-right: 0.25em;color: #696969;}#sk-container-id-2 label.sk-toggleable__label-arrow:hover:before {color: black;}#sk-container-id-2 div.sk-estimator:hover label.sk-toggleable__label-arrow:before {color: black;}#sk-container-id-2 div.sk-toggleable__content {max-height: 0;max-width: 0;overflow: hidden;text-align: left;background-color: #f0f8ff;}#sk-container-id-2 div.sk-toggleable__content pre {margin: 0.2em;color: black;border-radius: 0.25em;background-color: #f0f8ff;}#sk-container-id-2 input.sk-toggleable__control:checked~div.sk-toggleable__content {max-height: 200px;max-width: 100%;overflow: auto;}#sk-container-id-2 input.sk-toggleable__control:checked~label.sk-toggleable__label-arrow:before {content: \"▾\";}#sk-container-id-2 div.sk-estimator input.sk-toggleable__control:checked~label.sk-toggleable__label {background-color: #d4ebff;}#sk-container-id-2 div.sk-label input.sk-toggleable__control:checked~label.sk-toggleable__label {background-color: #d4ebff;}#sk-container-id-2 input.sk-hidden--visually {border: 0;clip: rect(1px 1px 1px 1px);clip: rect(1px, 1px, 1px, 1px);height: 1px;margin: -1px;overflow: hidden;padding: 0;position: absolute;width: 1px;}#sk-container-id-2 div.sk-estimator {font-family: monospace;background-color: #f0f8ff;border: 1px dotted black;border-radius: 0.25em;box-sizing: border-box;margin-bottom: 0.5em;}#sk-container-id-2 div.sk-estimator:hover {background-color: #d4ebff;}#sk-container-id-2 div.sk-parallel-item::after {content: \"\";width: 100%;border-bottom: 1px solid gray;flex-grow: 1;}#sk-container-id-2 div.sk-label:hover label.sk-toggleable__label {background-color: #d4ebff;}#sk-container-id-2 div.sk-serial::before {content: \"\";position: absolute;border-left: 1px solid gray;box-sizing: border-box;top: 0;bottom: 0;left: 50%;z-index: 0;}#sk-container-id-2 div.sk-serial {display: flex;flex-direction: column;align-items: center;background-color: white;padding-right: 0.2em;padding-left: 0.2em;position: relative;}#sk-container-id-2 div.sk-item {position: relative;z-index: 1;}#sk-container-id-2 div.sk-parallel {display: flex;align-items: stretch;justify-content: center;background-color: white;position: relative;}#sk-container-id-2 div.sk-item::before, #sk-container-id-2 div.sk-parallel-item::before {content: \"\";position: absolute;border-left: 1px solid gray;box-sizing: border-box;top: 0;bottom: 0;left: 50%;z-index: -1;}#sk-container-id-2 div.sk-parallel-item {display: flex;flex-direction: column;z-index: 1;position: relative;background-color: white;}#sk-container-id-2 div.sk-parallel-item:first-child::after {align-self: flex-end;width: 50%;}#sk-container-id-2 div.sk-parallel-item:last-child::after {align-self: flex-start;width: 50%;}#sk-container-id-2 div.sk-parallel-item:only-child::after {width: 0;}#sk-container-id-2 div.sk-dashed-wrapped {border: 1px dashed gray;margin: 0 0.4em 0.5em 0.4em;box-sizing: border-box;padding-bottom: 0.4em;background-color: white;}#sk-container-id-2 div.sk-label label {font-family: monospace;font-weight: bold;display: inline-block;line-height: 1.2em;}#sk-container-id-2 div.sk-label-container {text-align: center;}#sk-container-id-2 div.sk-container {/* jupyter's `normalize.less` sets `[hidden] { display: none; }` but bootstrap.min.css set `[hidden] { display: none !important; }` so we also need the `!important` here to be able to override the default hidden behavior on the sphinx rendered scikit-learn.org. See: https://github.com/scikit-learn/scikit-learn/issues/21755 */display: inline-block !important;position: relative;}#sk-container-id-2 div.sk-text-repr-fallback {display: none;}</style><div id=\"sk-container-id-2\" class=\"sk-top-container\"><div class=\"sk-text-repr-fallback\"><pre>LogisticRegression()</pre><b>In a Jupyter environment, please rerun this cell to show the HTML representation or trust the notebook. <br />On GitHub, the HTML representation is unable to render, please try loading this page with nbviewer.org.</b></div><div class=\"sk-container\" hidden><div class=\"sk-item\"><div class=\"sk-estimator sk-toggleable\"><input class=\"sk-toggleable__control sk-hidden--visually\" id=\"sk-estimator-id-2\" type=\"checkbox\" checked><label for=\"sk-estimator-id-2\" class=\"sk-toggleable__label sk-toggleable__label-arrow\">LogisticRegression</label><div class=\"sk-toggleable__content\"><pre>LogisticRegression()</pre></div></div></div></div></div>"
      ],
      "text/plain": [
       "LogisticRegression()"
      ]
     },
     "execution_count": 62,
     "metadata": {},
     "output_type": "execute_result"
    }
   ],
   "source": [
    "model.fit( Xtrain, Ytrain.to_numpy().reshape(-1))"
   ]
  },
  {
   "cell_type": "markdown",
   "id": "5be54602-5d70-4343-ad17-9b03760a74b1",
   "metadata": {},
   "source": [
    "## (c) Afficher les coefficients"
   ]
  },
  {
   "cell_type": "code",
   "execution_count": 67,
   "id": "c776dd82-ad1d-4775-bf34-b4deba31dccf",
   "metadata": {},
   "outputs": [
    {
     "data": {
      "text/plain": [
       "array([[0.03577029]])"
      ]
     },
     "execution_count": 67,
     "metadata": {},
     "output_type": "execute_result"
    }
   ],
   "source": [
    "model.coef_"
   ]
  },
  {
   "cell_type": "code",
   "execution_count": 68,
   "id": "f0c91241-8d64-4e35-ab93-a4e73feda5b9",
   "metadata": {},
   "outputs": [
    {
     "data": {
      "text/plain": [
       "array([-5.08696757])"
      ]
     },
     "execution_count": 68,
     "metadata": {},
     "output_type": "execute_result"
    }
   ],
   "source": [
    "model.intercept_"
   ]
  },
  {
   "cell_type": "markdown",
   "id": "5099e3b5-856c-4e96-a77f-f5b81245e9b5",
   "metadata": {},
   "source": [
    "## (d) Tracer la fonction Logit (matplotlib)\n"
   ]
  },
  {
   "cell_type": "code",
   "execution_count": 87,
   "id": "921a40e3-4702-46b7-9995-198467584f84",
   "metadata": {},
   "outputs": [
    {
     "data": {
      "image/png": "[encoded data removed]",
      "text/plain": [
       "<Figure size 432x288 with 1 Axes>"
      ]
     },
     "metadata": {
      "needs_background": "light"
     },
     "output_type": "display_data"
    }
   ],
   "source": [
    "def logit(p):\n",
    "    return math.log( p/(1-p) ) \n",
    "values = [ i for i in np.arange( 0.001, 0.99999999999999, 0.001) ]\n",
    "plt.plot( values, [ logit(i) for i in values ] ) \n",
    "plt.show()\n"
   ]
  },
  {
   "cell_type": "markdown",
   "id": "939ef465-7eda-4748-8cae-2157b352fa95",
   "metadata": {},
   "source": [
    "## (e) Tracer la fonction Sigmoid (matplotlib)\n"
   ]
  },
  {
   "cell_type": "code",
   "execution_count": 98,
   "id": "0ed18ce0-4c92-469c-9490-80b5f9576dc8",
   "metadata": {},
   "outputs": [
    {
     "data": {
      "image/png": "[encoded data removed]",
      "text/plain": [
       "<Figure size 432x288 with 1 Axes>"
      ]
     },
     "metadata": {
      "needs_background": "light"
     },
     "output_type": "display_data"
    }
   ],
   "source": [
    "def sigmoid(p):\n",
    "    return ( 1/(1+math.exp(-p) ) )  \n",
    "values = [ i for i in np.arange( -10, 10, 1) ]\n",
    "plt.plot( values, [ sigmoid(i) for i in values ] ) \n",
    "plt.show()"
   ]
  },
  {
   "cell_type": "markdown",
   "id": "00dd3554-ad8e-45c0-946d-94d10c691489",
   "metadata": {
    "tags": []
   },
   "source": [
    "## (f) En utilisant les coefficients trouves par l’algorithme :\n",
    "\n",
    "### i. Ecrire l’expression math´ematique pour faire la pr´ediction pour une personne ayant le glucose 197\n",
    "\n",
    "> on a dèjà la pente et l'intercepteur du regresseur du model donc l'expression est :\n",
    "\n",
    "```\n",
    "prediction = 1/( 1 + exp( -0.03577029 * 197 + 5.08696757   ) )\n",
    "```\n",
    "\n",
    "<br>\n",
    "\n",
    "## ii. Calculer la sortie de cette valeur (a l’aide de python) et comment l’interpreter\n"
   ]
  },
  {
   "cell_type": "code",
   "execution_count": 120,
   "id": "8ffd22db-fd41-4751-83ba-79ed6573daa9",
   "metadata": {},
   "outputs": [
    {
     "name": "stdout",
     "output_type": "stream",
     "text": [
      " => prediction du model : [1]\n",
      "\n",
      " => avec l'expression mathematique :  \n",
      "\n",
      "prediction = 1/( 1 - exp( -0.03577029 * 197 + 5.08696757   ) ) = 0.8765090937905831\n"
     ]
    }
   ],
   "source": [
    "print(\" => prediction du model :\", str( model.predict( pd.DataFrame({ \"Glucose\": [ 197 ] }) ) ))\n",
    "print(\"\\n => avec l'expression mathematique :  \\n\")\n",
    "print(\"prediction = 1/( 1 - exp( -0.03577029 * 197 + 5.08696757   ) ) = \"+ str( 1/( 1 + math.exp( -0.03577029 * 197 + 5.08696757   ) )  ))"
   ]
  },
  {
   "cell_type": "markdown",
   "id": "46d1547d-9188-415f-b240-158e27c24afc",
   "metadata": {},
   "source": [
    "> le model a predi que cette personne ayant le glucose 197, dispose des diabetiezes puisque la valeur donnée est supérieur à 0.5"
   ]
  },
  {
   "cell_type": "markdown",
   "id": "a1c6fc2e-eb62-4c70-b92a-38a9ade94ee3",
   "metadata": {
    "tags": []
   },
   "source": [
    "### iii. A quelle classe appartient cette personne ?\n",
    "\n",
    "> cette personne appatient à la classe des personnes malades ; classe 1"
   ]
  },
  {
   "cell_type": "markdown",
   "id": "52b17bf7-7bce-4511-827e-d1623d8d460c",
   "metadata": {
    "tags": []
   },
   "source": [
    "## (g) En utilisant les coefficients trouves par l’algorithme :\n",
    "\n",
    "\n",
    "### i. Ecrire l’expression mathematique pour faire la prediction pour un ensemble de personnes ayant le glucose respectivement [110,139,100,84,44]\n",
    "\n",
    "\n",
    "> on a dèjà la pente et l'intercepteur du regresseur du model donc l'expression est :\n",
    "\n",
    "```\n",
    "prediction(p1) = 1/( 1 + exp( -0.03577029 * 110 + 5.08696757   ) )\n",
    "prediction(p2) = 1/( 1 + exp( -0.03577029 * 139 + 5.08696757   ) )\n",
    "prediction(p3) = 1/( 1 + exp( -0.03577029 * 100 + 5.08696757   ) )\n",
    "prediction(p4) = 1/( 1 + exp( -0.03577029 * 84 + 5.08696757   ) )\n",
    "prediction(p5) = 1/( 1 + exp( -0.03577029 * 44 + 5.08696757   ) )\n",
    "```\n",
    "\n",
    "<br>\n",
    "\n",
    "## ii. Calculer la sortie de cette valeur (a l’aide de python) et comment l’interpreter\n"
   ]
  },
  {
   "cell_type": "code",
   "execution_count": 122,
   "id": "41159e49-0c59-4ef6-8b1c-91a2320a4ca8",
   "metadata": {},
   "outputs": [
    {
     "name": "stdout",
     "output_type": "stream",
     "text": [
      " => prediction du model : [0 0 0 0 0]\n",
      "\n",
      "prediction(p1) = 1/( 1 - exp( -0.03577029 * 1110 + 5.08696757   ) ) = 0.24008096574674884\n",
      "\n",
      "prediction(p2) = 1/( 1 - exp( -0.03577029 * 139 + 5.08696757   ) ) = 0.47130724338987123\n",
      "\n",
      "prediction(p3) = 1/( 1 - exp( -0.03577029 * 100 + 5.08696757   ) ) = 0.18094789725327928\n",
      "\n",
      "prediction(p4) = 1/( 1 - exp( -0.03577029 * 84 + 5.08696757   ) ) = 0.11083273347301534\n",
      "\n",
      "prediction(p5) = 1/( 1 - exp( -0.03577029 * 44 + 5.08696757   ) ) = 0.02894249355674472\n"
     ]
    }
   ],
   "source": [
    "print(\" => prediction du model :\", str( model.predict( pd.DataFrame({ \"Glucose\": [ 110,139,100,84,44 ] }) ) ))\n",
    "print(\"\\nprediction(p1) = 1/( 1 - exp( -0.03577029 * 1110 + 5.08696757   ) ) = \"+ str( 1/( 1 + math.exp( -0.03577029 * 110 + 5.08696757   ) )  ))\n",
    "print(\"\\nprediction(p2) = 1/( 1 - exp( -0.03577029 * 139 + 5.08696757   ) ) = \"+ str( 1/( 1 + math.exp( -0.03577029 * 139 + 5.08696757   ) )  ))\n",
    "print(\"\\nprediction(p3) = 1/( 1 - exp( -0.03577029 * 100 + 5.08696757   ) ) = \"+ str( 1/( 1 + math.exp( -0.03577029 * 100 + 5.08696757   ) )  ))\n",
    "print(\"\\nprediction(p4) = 1/( 1 - exp( -0.03577029 * 84 + 5.08696757   ) ) = \"+ str( 1/( 1 + math.exp( -0.03577029 * 84 + 5.08696757   ) )  ))\n",
    "print(\"\\nprediction(p5) = 1/( 1 - exp( -0.03577029 * 44 + 5.08696757   ) ) = \"+ str( 1/( 1 + math.exp( -0.03577029 * 44 + 5.08696757   ) )  ))"
   ]
  },
  {
   "attachments": {
    "4b101877-ec55-4e1b-9e3b-e4901558a41e.png": {
     "image/png": "[encoded data removed]"
    }
   },
   "cell_type": "markdown",
   "id": "1135699c-a185-429a-be3a-ded5ef705f4a",
   "metadata": {},
   "source": [
    "> le model a predi que toutes les personnes ne disposent pas des diabetiezes puisque les valeurs obtenues sont inférieures à 0.5\n",
    "\n",
    "### iii. A quelle classe appartient chaque personne ? \n",
    "\n",
    "\n",
    "> toutes les personnes appartiennent à la classe 0, des non malades\n",
    "\n",
    "\n",
    "\n",
    "# 4. Evaluation\n",
    "\n",
    "## (a) Soit la matrice de confusion suivante :\n",
    "\n",
    "![image.png](attachment:4b101877-ec55-4e1b-9e3b-e4901558a41e.png)"
   ]
  },
  {
   "cell_type": "code",
   "execution_count": 129,
   "id": "dbeafac1-b1d3-4528-97fd-e66cd94d431f",
   "metadata": {},
   "outputs": [
    {
     "data": {
      "text/plain": [
       "array([0, 1, 1, 0, 0, 0, 0, 0, 1, 0, 1, 0, 1, 1, 0, 0, 0, 0, 0, 0, 1, 0,\n",
       "       1, 1, 0, 0, 0, 0, 1, 0, 0, 0, 0, 1, 0, 0, 0, 0, 1, 1, 0, 1, 0, 0,\n",
       "       0, 0, 0, 0, 0, 1, 0, 0, 0, 0, 1, 0, 0, 0, 0, 0, 0, 1, 0, 0, 0, 1,\n",
       "       0, 1, 1, 1, 1, 1, 0, 0, 0, 0, 0, 0, 0, 0, 0, 0, 0, 0, 0, 0, 1, 0,\n",
       "       0, 0, 0, 0, 1, 0, 0, 0, 1, 0, 1, 1, 0, 0, 0, 0, 0, 0, 0, 0, 0, 1,\n",
       "       0, 0, 0, 0, 0, 0, 0, 0, 1, 0, 0, 0, 0, 0, 0, 1, 0, 1, 0, 0, 0, 1,\n",
       "       0, 0, 0, 0, 0, 0, 0, 1, 0, 0, 0, 1, 0, 1, 0, 0, 1, 1, 0, 0, 0, 0],\n",
       "      dtype=int64)"
      ]
     },
     "execution_count": 129,
     "metadata": {},
     "output_type": "execute_result"
    }
   ],
   "source": [
    "predictions = model.predict( Xtest )\n",
    "predictions"
   ]
  },
  {
   "cell_type": "code",
   "execution_count": 132,
   "id": "0ed02478-b9da-42ff-8c82-ddd1e6d863dd",
   "metadata": {},
   "outputs": [
    {
     "data": {
      "text/plain": [
       "array([0, 1, 1, 0, 1, 1, 0, 1, 0, 0, 1, 0, 0, 1, 0, 0, 0, 0, 0, 0, 0, 0,\n",
       "       1, 1, 0, 0, 0, 0, 1, 0, 0, 0, 0, 1, 0, 0, 1, 0, 1, 1, 1, 1, 0, 0,\n",
       "       0, 0, 1, 1, 1, 1, 0, 0, 0, 0, 1, 0, 0, 0, 0, 1, 0, 1, 0, 1, 1, 1,\n",
       "       0, 1, 1, 1, 1, 1, 0, 0, 0, 0, 0, 0, 0, 0, 0, 0, 0, 0, 0, 1, 1, 1,\n",
       "       0, 0, 1, 0, 1, 0, 0, 1, 1, 0, 0, 0, 1, 0, 0, 0, 0, 1, 0, 0, 0, 1,\n",
       "       0, 1, 1, 0, 1, 0, 0, 0, 1, 1, 0, 0, 0, 0, 0, 1, 0, 0, 0, 1, 0, 1,\n",
       "       0, 0, 1, 0, 1, 1, 0, 0, 0, 0, 1, 1, 0, 0, 0, 0, 1, 0, 0, 1, 1, 0],\n",
       "      dtype=int64)"
      ]
     },
     "execution_count": 132,
     "metadata": {},
     "output_type": "execute_result"
    }
   ],
   "source": [
    "Ytest.to_numpy().reshape(-1)"
   ]
  },
  {
   "cell_type": "code",
   "execution_count": 139,
   "id": "36522a1b-5320-44a4-b9ea-cb00b62851a6",
   "metadata": {},
   "outputs": [],
   "source": [
    "tn, fp, fn, tp = confusion_matrix( Ytest, predictions).ravel()"
   ]
  },
  {
   "cell_type": "code",
   "execution_count": 140,
   "id": "d213a7c3-7d24-4b11-b80a-61f65ca50873",
   "metadata": {},
   "outputs": [
    {
     "name": "stdout",
     "output_type": "stream",
     "text": [
      " tn : 88 | tp: 29 | fp : 9 | fn : 28 \n"
     ]
    }
   ],
   "source": [
    "print(\" tn : {} | tp: {} | fp : {} | fn : {} \".format( tn, tp, fp, fn) )"
   ]
  },
  {
   "attachments": {
    "b79e9588-356a-4c95-8236-04c9a20e6a94.png": {
     "image/png": "[encoded data removed]"
    }
   },
   "cell_type": "markdown",
   "id": "543a83b6-54ca-4590-ad9f-e9249e4b1bbe",
   "metadata": {},
   "source": [
    "<br>\n",
    "\n",
    "## Soit les deux vecteurs suivants :\n",
    "\n",
    "![image.png](attachment:b79e9588-356a-4c95-8236-04c9a20e6a94.png)"
   ]
  },
  {
   "cell_type": "code",
   "execution_count": 141,
   "id": "eb67ca8e-2492-4f4f-8840-5d0fddfba4c6",
   "metadata": {},
   "outputs": [],
   "source": [
    "fn = 1 \n",
    "tn = 3\n",
    "fp = 2\n",
    "tp = 4"
   ]
  },
  {
   "cell_type": "markdown",
   "id": "162059c7-8e6c-47b4-9013-c10650e4f38c",
   "metadata": {},
   "source": [
    "\n",
    "<br>\n",
    "\n",
    "## ii. Ecrire une fonction en python qui retourne une matrice de confusion. Tester cette fonction en utilisant les deux vecteurs de la question precedente."
   ]
  },
  {
   "cell_type": "code",
   "execution_count": null,
   "id": "ed0b093d-7b8d-4673-b335-0edadd9273c8",
   "metadata": {},
   "outputs": [],
   "source": [
    "def "
   ]
  }
 ],
 "metadata": {
  "kernelspec": {
   "display_name": "Python 3 (ipykernel)",
   "language": "python",
   "name": "python3"
  },
  "language_info": {
   "codemirror_mode": {
    "name": "ipython",
    "version": 3
   },
   "file_extension": ".py",
   "mimetype": "text/x-python",
   "name": "python",
   "nbconvert_exporter": "python",
   "pygments_lexer": "ipython3",
   "version": "3.9.7"
  }
 },
 "nbformat": 4,
 "nbformat_minor": 5
}
