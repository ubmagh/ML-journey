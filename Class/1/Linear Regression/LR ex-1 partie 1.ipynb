{
 "cells": [
  {
   "cell_type": "markdown",
   "id": "9348be1d-7d57-4e4e-af72-463aec46af97",
   "metadata": {},
   "source": [
    "<br>\n",
    "\n",
    "# Partie 1 : Regression lineaire simple\n",
    "\n",
    "\n",
    "\n"
   ]
  },
  {
   "cell_type": "code",
   "execution_count": 1,
   "id": "00f8eb1a-957c-4484-8d47-ea747028afbb",
   "metadata": {},
   "outputs": [],
   "source": [
    "import pandas as pd\n",
    "from matplotlib import pyplot as plt\n",
    "from sklearn.model_selection import train_test_split\n",
    "import numpy as np"
   ]
  },
  {
   "cell_type": "markdown",
   "id": "b7ea8b5b-b515-463c-a337-abd2341404cf",
   "metadata": {},
   "source": [
    "<br>\n",
    "\n",
    "# 1- Recuperer des donnees a partir de fichier advertising.scv et decouvrir ses principales caractéristiques"
   ]
  },
  {
   "cell_type": "code",
   "execution_count": 2,
   "id": "17038229-2118-4f62-b128-abf8ad99c330",
   "metadata": {},
   "outputs": [
    {
     "data": {
      "text/html": [
       "<div>\n",
       "<style scoped>\n",
       "    .dataframe tbody tr th:only-of-type {\n",
       "        vertical-align: middle;\n",
       "    }\n",
       "\n",
       "    .dataframe tbody tr th {\n",
       "        vertical-align: top;\n",
       "    }\n",
       "\n",
       "    .dataframe thead th {\n",
       "        text-align: right;\n",
       "    }\n",
       "</style>\n",
       "<table border=\"1\" class=\"dataframe\">\n",
       "  <thead>\n",
       "    <tr style=\"text-align: right;\">\n",
       "      <th></th>\n",
       "      <th>TV</th>\n",
       "      <th>Radio</th>\n",
       "      <th>Newspaper</th>\n",
       "      <th>Sales</th>\n",
       "    </tr>\n",
       "  </thead>\n",
       "  <tbody>\n",
       "    <tr>\n",
       "      <th>0</th>\n",
       "      <td>230.1</td>\n",
       "      <td>37.8</td>\n",
       "      <td>69.2</td>\n",
       "      <td>22.1</td>\n",
       "    </tr>\n",
       "    <tr>\n",
       "      <th>1</th>\n",
       "      <td>44.5</td>\n",
       "      <td>39.3</td>\n",
       "      <td>45.1</td>\n",
       "      <td>10.4</td>\n",
       "    </tr>\n",
       "    <tr>\n",
       "      <th>2</th>\n",
       "      <td>17.2</td>\n",
       "      <td>45.9</td>\n",
       "      <td>69.3</td>\n",
       "      <td>12.0</td>\n",
       "    </tr>\n",
       "  </tbody>\n",
       "</table>\n",
       "</div>"
      ],
      "text/plain": [
       "      TV  Radio  Newspaper  Sales\n",
       "0  230.1   37.8       69.2   22.1\n",
       "1   44.5   39.3       45.1   10.4\n",
       "2   17.2   45.9       69.3   12.0"
      ]
     },
     "execution_count": 2,
     "metadata": {},
     "output_type": "execute_result"
    }
   ],
   "source": [
    "bd = pd.read_csv(\"Advertising.csv\")\n",
    "bd.head(3)"
   ]
  },
  {
   "cell_type": "code",
   "execution_count": 3,
   "id": "9b4505b6-14bd-4730-aabc-eb68ab544d0f",
   "metadata": {},
   "outputs": [
    {
     "data": {
      "text/plain": [
       "(200, 4)"
      ]
     },
     "execution_count": 3,
     "metadata": {},
     "output_type": "execute_result"
    }
   ],
   "source": [
    "bd.shape"
   ]
  },
  {
   "cell_type": "code",
   "execution_count": 4,
   "id": "51b3e23f-4cec-412c-9548-5de2ca40385f",
   "metadata": {},
   "outputs": [
    {
     "data": {
      "text/html": [
       "<div>\n",
       "<style scoped>\n",
       "    .dataframe tbody tr th:only-of-type {\n",
       "        vertical-align: middle;\n",
       "    }\n",
       "\n",
       "    .dataframe tbody tr th {\n",
       "        vertical-align: top;\n",
       "    }\n",
       "\n",
       "    .dataframe thead th {\n",
       "        text-align: right;\n",
       "    }\n",
       "</style>\n",
       "<table border=\"1\" class=\"dataframe\">\n",
       "  <thead>\n",
       "    <tr style=\"text-align: right;\">\n",
       "      <th></th>\n",
       "      <th>TV</th>\n",
       "      <th>Radio</th>\n",
       "      <th>Newspaper</th>\n",
       "      <th>Sales</th>\n",
       "    </tr>\n",
       "  </thead>\n",
       "  <tbody>\n",
       "    <tr>\n",
       "      <th>count</th>\n",
       "      <td>200.000000</td>\n",
       "      <td>200.000000</td>\n",
       "      <td>200.000000</td>\n",
       "      <td>200.000000</td>\n",
       "    </tr>\n",
       "    <tr>\n",
       "      <th>mean</th>\n",
       "      <td>147.042500</td>\n",
       "      <td>23.264000</td>\n",
       "      <td>30.554000</td>\n",
       "      <td>15.130500</td>\n",
       "    </tr>\n",
       "    <tr>\n",
       "      <th>std</th>\n",
       "      <td>85.854236</td>\n",
       "      <td>14.846809</td>\n",
       "      <td>21.778621</td>\n",
       "      <td>5.283892</td>\n",
       "    </tr>\n",
       "    <tr>\n",
       "      <th>min</th>\n",
       "      <td>0.700000</td>\n",
       "      <td>0.000000</td>\n",
       "      <td>0.300000</td>\n",
       "      <td>1.600000</td>\n",
       "    </tr>\n",
       "    <tr>\n",
       "      <th>25%</th>\n",
       "      <td>74.375000</td>\n",
       "      <td>9.975000</td>\n",
       "      <td>12.750000</td>\n",
       "      <td>11.000000</td>\n",
       "    </tr>\n",
       "    <tr>\n",
       "      <th>50%</th>\n",
       "      <td>149.750000</td>\n",
       "      <td>22.900000</td>\n",
       "      <td>25.750000</td>\n",
       "      <td>16.000000</td>\n",
       "    </tr>\n",
       "    <tr>\n",
       "      <th>75%</th>\n",
       "      <td>218.825000</td>\n",
       "      <td>36.525000</td>\n",
       "      <td>45.100000</td>\n",
       "      <td>19.050000</td>\n",
       "    </tr>\n",
       "    <tr>\n",
       "      <th>max</th>\n",
       "      <td>296.400000</td>\n",
       "      <td>49.600000</td>\n",
       "      <td>114.000000</td>\n",
       "      <td>27.000000</td>\n",
       "    </tr>\n",
       "  </tbody>\n",
       "</table>\n",
       "</div>"
      ],
      "text/plain": [
       "               TV       Radio   Newspaper       Sales\n",
       "count  200.000000  200.000000  200.000000  200.000000\n",
       "mean   147.042500   23.264000   30.554000   15.130500\n",
       "std     85.854236   14.846809   21.778621    5.283892\n",
       "min      0.700000    0.000000    0.300000    1.600000\n",
       "25%     74.375000    9.975000   12.750000   11.000000\n",
       "50%    149.750000   22.900000   25.750000   16.000000\n",
       "75%    218.825000   36.525000   45.100000   19.050000\n",
       "max    296.400000   49.600000  114.000000   27.000000"
      ]
     },
     "execution_count": 4,
     "metadata": {},
     "output_type": "execute_result"
    }
   ],
   "source": [
    "# 1 description\n",
    "bd.describe()"
   ]
  },
  {
   "cell_type": "markdown",
   "id": "b79c32f6-1171-46e0-ad10-d009cba4f546",
   "metadata": {},
   "source": [
    "<br>\n",
    "\n",
    "# \n",
    "2. Initialiser X (predictors, variable independante) par la variable TV et y (cible, variable dependante)."
   ]
  },
  {
   "cell_type": "code",
   "execution_count": 5,
   "id": "cfba146d-54dc-4aee-a4a7-45b101859926",
   "metadata": {},
   "outputs": [
    {
     "data": {
      "text/html": [
       "<div>\n",
       "<style scoped>\n",
       "    .dataframe tbody tr th:only-of-type {\n",
       "        vertical-align: middle;\n",
       "    }\n",
       "\n",
       "    .dataframe tbody tr th {\n",
       "        vertical-align: top;\n",
       "    }\n",
       "\n",
       "    .dataframe thead th {\n",
       "        text-align: right;\n",
       "    }\n",
       "</style>\n",
       "<table border=\"1\" class=\"dataframe\">\n",
       "  <thead>\n",
       "    <tr style=\"text-align: right;\">\n",
       "      <th></th>\n",
       "      <th>TV</th>\n",
       "    </tr>\n",
       "  </thead>\n",
       "  <tbody>\n",
       "    <tr>\n",
       "      <th>0</th>\n",
       "      <td>230.1</td>\n",
       "    </tr>\n",
       "    <tr>\n",
       "      <th>1</th>\n",
       "      <td>44.5</td>\n",
       "    </tr>\n",
       "    <tr>\n",
       "      <th>2</th>\n",
       "      <td>17.2</td>\n",
       "    </tr>\n",
       "    <tr>\n",
       "      <th>3</th>\n",
       "      <td>151.5</td>\n",
       "    </tr>\n",
       "    <tr>\n",
       "      <th>4</th>\n",
       "      <td>180.8</td>\n",
       "    </tr>\n",
       "    <tr>\n",
       "      <th>...</th>\n",
       "      <td>...</td>\n",
       "    </tr>\n",
       "    <tr>\n",
       "      <th>195</th>\n",
       "      <td>38.2</td>\n",
       "    </tr>\n",
       "    <tr>\n",
       "      <th>196</th>\n",
       "      <td>94.2</td>\n",
       "    </tr>\n",
       "    <tr>\n",
       "      <th>197</th>\n",
       "      <td>177.0</td>\n",
       "    </tr>\n",
       "    <tr>\n",
       "      <th>198</th>\n",
       "      <td>283.6</td>\n",
       "    </tr>\n",
       "    <tr>\n",
       "      <th>199</th>\n",
       "      <td>232.1</td>\n",
       "    </tr>\n",
       "  </tbody>\n",
       "</table>\n",
       "<p>200 rows × 1 columns</p>\n",
       "</div>"
      ],
      "text/plain": [
       "        TV\n",
       "0    230.1\n",
       "1     44.5\n",
       "2     17.2\n",
       "3    151.5\n",
       "4    180.8\n",
       "..     ...\n",
       "195   38.2\n",
       "196   94.2\n",
       "197  177.0\n",
       "198  283.6\n",
       "199  232.1\n",
       "\n",
       "[200 rows x 1 columns]"
      ]
     },
     "execution_count": 5,
     "metadata": {},
     "output_type": "execute_result"
    }
   ],
   "source": [
    "X = bd.iloc[:,:1] #  bd[[\"TV\"]]\n",
    "X"
   ]
  },
  {
   "cell_type": "code",
   "execution_count": 6,
   "id": "4217cd85-38e9-4282-b7c7-47e776d24543",
   "metadata": {},
   "outputs": [
    {
     "data": {
      "text/html": [
       "<div>\n",
       "<style scoped>\n",
       "    .dataframe tbody tr th:only-of-type {\n",
       "        vertical-align: middle;\n",
       "    }\n",
       "\n",
       "    .dataframe tbody tr th {\n",
       "        vertical-align: top;\n",
       "    }\n",
       "\n",
       "    .dataframe thead th {\n",
       "        text-align: right;\n",
       "    }\n",
       "</style>\n",
       "<table border=\"1\" class=\"dataframe\">\n",
       "  <thead>\n",
       "    <tr style=\"text-align: right;\">\n",
       "      <th></th>\n",
       "      <th>Sales</th>\n",
       "    </tr>\n",
       "  </thead>\n",
       "  <tbody>\n",
       "    <tr>\n",
       "      <th>0</th>\n",
       "      <td>22.1</td>\n",
       "    </tr>\n",
       "    <tr>\n",
       "      <th>1</th>\n",
       "      <td>10.4</td>\n",
       "    </tr>\n",
       "    <tr>\n",
       "      <th>2</th>\n",
       "      <td>12.0</td>\n",
       "    </tr>\n",
       "    <tr>\n",
       "      <th>3</th>\n",
       "      <td>16.5</td>\n",
       "    </tr>\n",
       "    <tr>\n",
       "      <th>4</th>\n",
       "      <td>17.9</td>\n",
       "    </tr>\n",
       "    <tr>\n",
       "      <th>...</th>\n",
       "      <td>...</td>\n",
       "    </tr>\n",
       "    <tr>\n",
       "      <th>195</th>\n",
       "      <td>7.6</td>\n",
       "    </tr>\n",
       "    <tr>\n",
       "      <th>196</th>\n",
       "      <td>14.0</td>\n",
       "    </tr>\n",
       "    <tr>\n",
       "      <th>197</th>\n",
       "      <td>14.8</td>\n",
       "    </tr>\n",
       "    <tr>\n",
       "      <th>198</th>\n",
       "      <td>25.5</td>\n",
       "    </tr>\n",
       "    <tr>\n",
       "      <th>199</th>\n",
       "      <td>18.4</td>\n",
       "    </tr>\n",
       "  </tbody>\n",
       "</table>\n",
       "<p>200 rows × 1 columns</p>\n",
       "</div>"
      ],
      "text/plain": [
       "     Sales\n",
       "0     22.1\n",
       "1     10.4\n",
       "2     12.0\n",
       "3     16.5\n",
       "4     17.9\n",
       "..     ...\n",
       "195    7.6\n",
       "196   14.0\n",
       "197   14.8\n",
       "198   25.5\n",
       "199   18.4\n",
       "\n",
       "[200 rows x 1 columns]"
      ]
     },
     "execution_count": 6,
     "metadata": {},
     "output_type": "execute_result"
    }
   ],
   "source": [
    "Y = bd[[\"Sales\"]]\n",
    "Y"
   ]
  },
  {
   "cell_type": "markdown",
   "id": "41bde11f-b2bd-4d07-8131-f1e56df7b8aa",
   "metadata": {},
   "source": [
    "<br>\n",
    "\n",
    "# 3. Pourquoi il s’agit d’un probleme de regression"
   ]
  },
  {
   "cell_type": "markdown",
   "id": "81452561-fbed-4f88-aaec-9ceb7bcb3733",
   "metadata": {},
   "source": [
    "- problème supervisé\n",
    "- variables discrètes\n",
    "- d'après la représentation sur le plan "
   ]
  },
  {
   "cell_type": "markdown",
   "id": "ac41275c-e175-47d6-8da6-6c801379b0e7",
   "metadata": {},
   "source": [
    "<br>\n",
    "\n",
    "# 4. Visualiser la base de donnees avec matplotlib."
   ]
  },
  {
   "cell_type": "code",
   "execution_count": 7,
   "id": "6ce52ec3-c4f3-4f38-a2bc-cf8d693e94ad",
   "metadata": {},
   "outputs": [
    {
     "data": {
      "image/png": "[encoded data removed]",
      "text/plain": [
       "<Figure size 432x288 with 1 Axes>"
      ]
     },
     "metadata": {
      "needs_background": "light"
     },
     "output_type": "display_data"
    }
   ],
   "source": [
    "plt.scatter( X, Y)\n",
    "plt.show()"
   ]
  },
  {
   "cell_type": "markdown",
   "id": "de738f5e-b1cf-4c41-bbe8-89a424415148",
   "metadata": {},
   "source": [
    "<br>\n",
    "\n",
    "# 5. Soit le modele de regression lineaire simple definit par : \n",
    "\n",
    "> 𝑦 = 𝑤0 + 𝑤1*x"
   ]
  },
  {
   "cell_type": "code",
   "execution_count": 8,
   "id": "b45e8537-3f77-4f4e-8491-afb2d9099c12",
   "metadata": {},
   "outputs": [],
   "source": [
    "\"\"\"\n",
    "W : (1,2) [ w0, w1] : numpy array with cols : w0, w1\n",
    "X : number\n",
    "\n",
    "=> returns a number\n",
    "\"\"\"\n",
    "def functionModel( W, x): # regression\n",
    "    return  W[1]*x + W[0]\n"
   ]
  },
  {
   "cell_type": "markdown",
   "id": "d880c4ba-da05-405f-bf0c-0195ac4264f9",
   "metadata": {},
   "source": [
    "\n",
    "## (a) a l’aide de train test split de sklearn.model selection, diviser la base de donn´ees en base d’apprentissage et base de test (80% pour la base d’apprentissage et 20% pour la base de test )\n",
    " "
   ]
  },
  {
   "cell_type": "code",
   "execution_count": 9,
   "id": "fc47cecf-8021-4638-a33a-28dcb7e47213",
   "metadata": {},
   "outputs": [],
   "source": [
    "Xtrain, Xtest, Ytrain, Ytest = train_test_split( X,Y, test_size=0.2, train_size=0.8, random_state=10)"
   ]
  },
  {
   "cell_type": "code",
   "execution_count": 10,
   "id": "a29f4198-51bd-4b32-9979-f9dd695a4531",
   "metadata": {},
   "outputs": [
    {
     "data": {
      "text/plain": [
       "(160, 1)"
      ]
     },
     "execution_count": 10,
     "metadata": {},
     "output_type": "execute_result"
    }
   ],
   "source": [
    "Xtrain.shape"
   ]
  },
  {
   "cell_type": "code",
   "execution_count": 11,
   "id": "94a5a65b-0092-47bb-8eef-c4933aa0470a",
   "metadata": {},
   "outputs": [
    {
     "data": {
      "text/plain": [
       "(160, 1)"
      ]
     },
     "execution_count": 11,
     "metadata": {},
     "output_type": "execute_result"
    }
   ],
   "source": [
    "Ytrain.shape"
   ]
  },
  {
   "cell_type": "markdown",
   "id": "7d147609-6a9a-4bea-b13a-c988c1a02dfe",
   "metadata": {},
   "source": [
    "## (b) Definir une fonction MSE(X,y,W) qui retourne la moyenne des erreurs entre la valeur theorique et la valeur reelle."
   ]
  },
  {
   "cell_type": "code",
   "execution_count": 12,
   "id": "2e06108e-1b3c-441c-ab52-85aa95c41f71",
   "metadata": {},
   "outputs": [],
   "source": [
    "\"\"\"\n",
    "W : (1,2) [ w0, w1] : pd dataFrame with cols : w0, w1\n",
    "X : (n,1) [ ( x1, x2, ...) ]\n",
    "y : (n,1) [ ( y1, y2, ...) ] vector => real values\n",
    "\"\"\"\n",
    "def MSE( X, y, W ): \n",
    "    n = len(X)\n",
    "    err = 0\n",
    "    for i in range(n):\n",
    "        err += ( y[i]- functionModel( W, X[i]) ) **2\n",
    "    return (err/(2*n))\n"
   ]
  },
  {
   "cell_type": "markdown",
   "id": "8e28902f-0083-4e0a-a968-a5cf79f1206d",
   "metadata": {
    "tags": []
   },
   "source": [
    "## (c) Definir la fonction Gradient(X,y,W).\n",
    "\n",
    "<img src=\"p1.png\" width=\"400px\" >"
   ]
  },
  {
   "cell_type": "code",
   "execution_count": 13,
   "id": "6674edb4-4d12-4f27-b774-c69b0120e885",
   "metadata": {},
   "outputs": [],
   "source": [
    "\"\"\"\n",
    "W : (1,2) [ w0, w1] : pd dataFrame with cols : w0, w1\n",
    "X : (n,1) [  x1, x2, ... ]\n",
    "y : (n,1) [  y1, y2, ... ] vector => estimated values\n",
    "\"\"\"\n",
    "def Gradient( X, y, W):\n",
    "        m = len(X)\n",
    "        sommeA = 0\n",
    "        sommeB = 0\n",
    "        for i in range (m):\n",
    "            sommeA += X[i] * ( functionModel(W, X[i] ) - y[i] )\n",
    "            sommeB +=  ( functionModel(W, X[i] ) - y[i] )\n",
    "        \n",
    "        return (1/m)*np.array([ sommeB, sommeA ])"
   ]
  },
  {
   "cell_type": "markdown",
   "id": "221d9cf0-1582-420f-bef3-bbcff970ccbd",
   "metadata": {},
   "source": [
    "<br>\n",
    "\n",
    "## (d) Etablir une fonction de mise a jour des parametres W MiseJour(grad,W,alpha)."
   ]
  },
  {
   "cell_type": "code",
   "execution_count": 14,
   "id": "4bd2deaa-6122-42a8-881e-c2e3ef52fbf3",
   "metadata": {},
   "outputs": [],
   "source": [
    "def MiseJour( grad, W, alpha):\n",
    "    return (W-alpha*grad)"
   ]
  },
  {
   "cell_type": "markdown",
   "id": "5c5d6b66-22d6-45f8-9d10-e386c5e1c595",
   "metadata": {},
   "source": [
    "<br>\n",
    "\n",
    "## (e) Ecrire la fonction Batch Gradient Descent(X,y,W,N max,alpha,eps), qui retourne les meilleurs parametres estimes et de plus affiche l’´evolution de MSE apr`es chaque it´eration.\n"
   ]
  },
  {
   "cell_type": "code",
   "execution_count": 15,
   "id": "5ecc5f11-ea99-4d3f-8d26-f869f62dd685",
   "metadata": {},
   "outputs": [],
   "source": [
    "def Batch_Gradient_Descent(X,y,W,N_max,alpha,eps):\n",
    "    W_i1 = W\n",
    "    W_i = W \n",
    "    mse_Data = []\n",
    "    \n",
    "    for i in range(N_max):\n",
    "        \n",
    "        grad = Gradient( X, y, W_i)\n",
    "        W_i1 = MiseJour( grad, W_i, alpha)\n",
    "        if( abs( MSE( X, y, W_i ) - MSE( X, y, W_i1 ) ) <= eps ):\n",
    "            break\n",
    "        W_i = W_i1 \n",
    "        mse_Data.append( { \"w\": W_i1, \"mse\": MSE( X, y, W_i1 ) } ) \n",
    "    return W_i1, mse_Data"
   ]
  },
  {
   "cell_type": "markdown",
   "id": "93c85a4f-b145-43bc-99ea-741b71e0d81e",
   "metadata": {},
   "source": [
    "<br>\n",
    "\n",
    "## (f) Tracer l’MSE.\n"
   ]
  },
  {
   "cell_type": "code",
   "execution_count": 16,
   "id": "b0a34857-d21d-44f9-a214-db383ad28783",
   "metadata": {},
   "outputs": [],
   "source": [
    "N_max = 10000000000\n",
    "alpha = 0.00000001\n",
    "eps = 0.0001\n",
    "y = Ytrain.to_numpy().reshape(-1)\n",
    "W = np.array([ 5, 0]) # 5 to lift up the line from the left side so it looks more accurate :D\n",
    "                      # this initial value has a big influence on the results\n",
    "\n",
    "best_w, mse_data = Batch_Gradient_Descent( Xtrain.to_numpy().reshape(-1),y,W,N_max,alpha,eps)"
   ]
  },
  {
   "cell_type": "code",
   "execution_count": 17,
   "id": "79a890a8-9ccb-4a1b-9e95-5f96f5abac4f",
   "metadata": {},
   "outputs": [
    {
     "data": {
      "image/png": "[encoded data removed]",
      "text/plain": [
       "<Figure size 432x288 with 1 Axes>"
      ]
     },
     "metadata": {
      "needs_background": "light"
     },
     "output_type": "display_data"
    }
   ],
   "source": [
    "plt.plot( [ i for i in range(len(mse_data)) ], [ ele['mse'] for ele in mse_data ] )\n",
    "plt.show()"
   ]
  },
  {
   "cell_type": "code",
   "execution_count": 18,
   "id": "df330e9e-ddd8-4f6a-987e-46ec3eb94167",
   "metadata": {},
   "outputs": [
    {
     "data": {
      "image/png": "[encoded data removed]",
      "text/plain": [
       "<Figure size 432x288 with 1 Axes>"
      ]
     },
     "metadata": {
      "needs_background": "light"
     },
     "output_type": "display_data"
    }
   ],
   "source": [
    "plt.scatter( X, Y)\n",
    "Yc = [ functionModel(best_w, X.to_numpy().reshape(-1)[i]) for i in range( len(X) ) ]\n",
    "\n",
    "plt.plot( X, Yc, \"r\")\n",
    "\n",
    "plt.show()"
   ]
  },
  {
   "cell_type": "code",
   "execution_count": 19,
   "id": "e286a79c-040d-4c89-991d-b086269d9543",
   "metadata": {},
   "outputs": [
    {
     "data": {
      "text/plain": [
       "array([5.00037259, 0.06156536])"
      ]
     },
     "execution_count": 19,
     "metadata": {},
     "output_type": "execute_result"
    }
   ],
   "source": [
    "best_w"
   ]
  },
  {
   "cell_type": "markdown",
   "id": "b22d9c7c-bf5d-4768-8ab8-a20bbb1ca16c",
   "metadata": {},
   "source": [
    "<br>\n",
    "\n",
    "## (g) Donner l’erreur de ce modele\n",
    "\n",
    "* l'erreur du model sur la bd de test"
   ]
  },
  {
   "cell_type": "code",
   "execution_count": 20,
   "id": "cb532929-b9a3-45d5-a63f-ffaf7948eff4",
   "metadata": {},
   "outputs": [
    {
     "data": {
      "text/plain": [
       "3.0139134692803067"
      ]
     },
     "execution_count": 20,
     "metadata": {},
     "output_type": "execute_result"
    }
   ],
   "source": [
    "ytest = Ytrain.to_numpy().reshape(-1)\n",
    "xtest = Xtrain.to_numpy().reshape(-1)\n",
    "\n",
    "MSE( xtest, ytest, best_w )"
   ]
  }
 ],
 "metadata": {
  "kernelspec": {
   "display_name": "Python 3 (ipykernel)",
   "language": "python",
   "name": "python3"
  },
  "language_info": {
   "codemirror_mode": {
    "name": "ipython",
    "version": 3
   },
   "file_extension": ".py",
   "mimetype": "text/x-python",
   "name": "python",
   "nbconvert_exporter": "python",
   "pygments_lexer": "ipython3",
   "version": "3.9.7"
  }
 },
 "nbformat": 4,
 "nbformat_minor": 5
}
