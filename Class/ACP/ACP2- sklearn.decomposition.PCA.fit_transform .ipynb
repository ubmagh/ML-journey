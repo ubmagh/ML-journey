{
 "cells": [
  {
   "cell_type": "code",
   "execution_count": 1,
   "id": "6e454828",
   "metadata": {},
   "outputs": [],
   "source": [
    "# librairies\n",
    "import numpy as np\n"
   ]
  },
  {
   "cell_type": "code",
   "execution_count": 2,
   "id": "f22922a1",
   "metadata": {},
   "outputs": [],
   "source": [
    "# matrix\n",
    "X=np.array([[2,2],[3,2],[5,4],[6,4]])\n"
   ]
  },
  {
   "cell_type": "code",
   "execution_count": 3,
   "id": "6579eaad",
   "metadata": {},
   "outputs": [],
   "source": [
    "# center Columns\n",
    "X_centered = X -np.mean(X , axis = 0)\n"
   ]
  },
  {
   "cell_type": "code",
   "execution_count": 4,
   "id": "6e0c2942",
   "metadata": {},
   "outputs": [],
   "source": [
    "# librairies\n",
    "cov_mat = np.cov(X_centered , rowvar = False)\n"
   ]
  },
  {
   "cell_type": "code",
   "execution_count": 5,
   "id": "f11bb62b",
   "metadata": {},
   "outputs": [],
   "source": [
    "# eigne components\n",
    "eigen_values , eigen_vectors = np.linalg.eigh(cov_mat)\n"
   ]
  },
  {
   "cell_type": "code",
   "execution_count": 6,
   "id": "78c0f504",
   "metadata": {},
   "outputs": [],
   "source": [
    "# trier les vecteurs et valeurs propres\n",
    "sorted_index = np.argsort(eigen_values)[::-1]\n",
    "sorted_eigenvalue = eigen_values[sorted_index]\n",
    "sorted_eigenvectors = eigen_vectors[sorted_index,:]\n",
    "\n"
   ]
  },
  {
   "cell_type": "code",
   "execution_count": 7,
   "id": "719d75f8",
   "metadata": {},
   "outputs": [],
   "source": [
    "# Composantes principales( axes à retenir)\n",
    "n_components=2\n",
    "eigenvector_comp = sorted_eigenvectors[:,0:n_components]\n"
   ]
  },
  {
   "cell_type": "code",
   "execution_count": null,
   "id": "b33531ff",
   "metadata": {},
   "outputs": [],
   "source": [
    "# Projection\n",
    "# X_reduced = eigenvector_comp.T.dot(X_centered.T).T\n",
    "X_reduced = eigenvector_comp.dot(X_centered.T).T\n"
   ]
  }
 ],
 "metadata": {
  "kernelspec": {
   "display_name": "Python 3 (ipykernel)",
   "language": "python",
   "name": "python3"
  },
  "language_info": {
   "codemirror_mode": {
    "name": "ipython",
    "version": 3
   },
   "file_extension": ".py",
   "mimetype": "text/x-python",
   "name": "python",
   "nbconvert_exporter": "python",
   "pygments_lexer": "ipython3",
   "version": "3.9.7"
  }
 },
 "nbformat": 4,
 "nbformat_minor": 5
}
