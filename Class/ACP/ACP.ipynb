{
 "cells": [
  {
   "cell_type": "code",
   "execution_count": 2,
   "id": "bff5349d",
   "metadata": {},
   "outputs": [],
   "source": [
    "from sklearn.decomposition import PCA \n",
    "import numpy as np"
   ]
  },
  {
   "cell_type": "code",
   "execution_count": 3,
   "id": "fa5ae9ea",
   "metadata": {},
   "outputs": [],
   "source": [
    "# matrix\n",
    "X=np.array([[2,2],[3,2],[5,4],[6,4]])"
   ]
  },
  {
   "cell_type": "code",
   "execution_count": 4,
   "id": "3cf441a9",
   "metadata": {},
   "outputs": [
    {
     "name": "stdout",
     "output_type": "stream",
     "text": [
      "[[ 2.22703273 -0.20081142]\n",
      " [ 1.37638192  0.3249197 ]\n",
      " [-1.37638192 -0.3249197 ]\n",
      " [-2.22703273  0.20081142]]\n"
     ]
    }
   ],
   "source": [
    "# librairies\n",
    "pca=PCA(n_components=2)\n",
    "X_reduced=pca.fit_transform(X)\n",
    "print(X_reduced)"
   ]
  },
  {
   "cell_type": "code",
   "execution_count": 5,
   "id": "85f99144",
   "metadata": {},
   "outputs": [
    {
     "data": {
      "text/plain": [
       "array([[3.33333333, 2.        ],\n",
       "       [2.        , 1.33333333]])"
      ]
     },
     "execution_count": 5,
     "metadata": {},
     "output_type": "execute_result"
    }
   ],
   "source": [
    "# covariance matrix\n",
    "pca.get_covariance()"
   ]
  },
  {
   "cell_type": "code",
   "execution_count": 6,
   "id": "9aa03860",
   "metadata": {},
   "outputs": [
    {
     "data": {
      "text/plain": [
       "array([4.56940131, 0.09726536])"
      ]
     },
     "execution_count": 6,
     "metadata": {},
     "output_type": "execute_result"
    }
   ],
   "source": [
    "# valeurs propres (eigen values)\n",
    "pca.explained_variance_\n"
   ]
  },
  {
   "cell_type": "code",
   "execution_count": 7,
   "id": "59716674",
   "metadata": {},
   "outputs": [
    {
     "data": {
      "text/plain": [
       "array([[-0.85065081, -0.52573111],\n",
       "       [ 0.52573111, -0.85065081]])"
      ]
     },
     "execution_count": 7,
     "metadata": {},
     "output_type": "execute_result"
    }
   ],
   "source": [
    "# vecteur propres (eigen vectors)\n",
    "pca. components_\n"
   ]
  },
  {
   "cell_type": "code",
   "execution_count": 8,
   "id": "45b540e6",
   "metadata": {},
   "outputs": [
    {
     "data": {
      "text/plain": [
       "array([0.97915742, 0.02084258])"
      ]
     },
     "execution_count": 8,
     "metadata": {},
     "output_type": "execute_result"
    }
   ],
   "source": [
    "# la quantité d’information\n",
    "pca.explained_variance_ratio_\n"
   ]
  },
  {
   "cell_type": "code",
   "execution_count": null,
   "id": "d9a41092",
   "metadata": {},
   "outputs": [],
   "source": []
  }
 ],
 "metadata": {
  "kernelspec": {
   "display_name": "Python 3 (ipykernel)",
   "language": "python",
   "name": "python3"
  },
  "language_info": {
   "codemirror_mode": {
    "name": "ipython",
    "version": 3
   },
   "file_extension": ".py",
   "mimetype": "text/x-python",
   "name": "python",
   "nbconvert_exporter": "python",
   "pygments_lexer": "ipython3",
   "version": "3.9.7"
  }
 },
 "nbformat": 4,
 "nbformat_minor": 5
}
