{
 "cells": [
  {
   "cell_type": "code",
   "execution_count": 15,
   "id": "c424666a",
   "metadata": {},
   "outputs": [],
   "source": [
    "import numpy as np\n",
    "import matplotlib.pyplot as plt"
   ]
  },
  {
   "cell_type": "code",
   "execution_count": 16,
   "id": "97eefd0c",
   "metadata": {},
   "outputs": [],
   "source": [
    "def fct(x,y):\n",
    "    return ((3/2)*x**2) + ((5/2)*y**2)\n",
    "X=[]\n",
    "Y=[]\n",
    "Z = []\n",
    "t = [-4,-3,-2,-1,0,1,2,3]\n",
    "for i in t:\n",
    "    X.append(i)\n",
    "    Y.append(i)\n",
    "    Z.append(fct(i,i))"
   ]
  },
  {
   "cell_type": "code",
   "execution_count": 7,
   "id": "ef9e44c5",
   "metadata": {},
   "outputs": [],
   "source": [
    "def dx_fc(x,y):\n",
    "    return 3*x\n",
    "\n",
    "def dy_fc(x,y):\n",
    "    return 5*y"
   ]
  },
  {
   "cell_type": "code",
   "execution_count": 8,
   "id": "2f4b4d43",
   "metadata": {},
   "outputs": [],
   "source": [
    "x=10\n",
    "y=-13\n",
    "err=1\n",
    "eps0=1e-6\n",
    "mu =0.01\n",
    "kmax=1000"
   ]
  },
  {
   "cell_type": "code",
   "execution_count": 9,
   "id": "ac4bf403",
   "metadata": {},
   "outputs": [
    {
     "name": "stdout",
     "output_type": "stream",
     "text": [
      "fc = 1.479701809289319e-09\n",
      "k=416\n",
      "\n",
      "x = 3.140808479497612e-05\n",
      "y = -7.030126705393222e-09\n"
     ]
    }
   ],
   "source": [
    "k=0\n",
    "while k<= kmax and err>eps0:\n",
    "    k=k+1\n",
    "    d1 = dx_fc(x,y)\n",
    "    d2 = dy_fc(x,y)\n",
    "\n",
    "    x = x - mu * d1\n",
    "    y = y - mu * d2\n",
    "    err=mu*(abs(d1)+abs(d2))\n",
    "print(\"fc = %s\" %(fct(x, y)))\n",
    "print(\"k=%s\"%k)\n",
    "print(\"\")\n",
    "print(\"x = %s\" %x)\n",
    "print(\"y = %s\" %y)"
   ]
  },
  {
   "cell_type": "code",
   "execution_count": null,
   "id": "5da3d428",
   "metadata": {},
   "outputs": [],
   "source": []
  }
 ],
 "metadata": {
  "kernelspec": {
   "display_name": "Python 3 (ipykernel)",
   "language": "python",
   "name": "python3"
  },
  "language_info": {
   "codemirror_mode": {
    "name": "ipython",
    "version": 3
   },
   "file_extension": ".py",
   "mimetype": "text/x-python",
   "name": "python",
   "nbconvert_exporter": "python",
   "pygments_lexer": "ipython3",
   "version": "3.9.7"
  }
 },
 "nbformat": 4,
 "nbformat_minor": 5
}
