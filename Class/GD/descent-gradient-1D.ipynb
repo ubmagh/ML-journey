{
 "cells": [
  {
   "cell_type": "code",
   "execution_count": 20,
   "id": "b4900d04",
   "metadata": {},
   "outputs": [],
   "source": [
    "import numpy as np\n",
    "import matplotlib.pyplot as plt"
   ]
  },
  {
   "cell_type": "code",
   "execution_count": 21,
   "id": "d04c7be2",
   "metadata": {},
   "outputs": [],
   "source": [
    "# notre fonction\n",
    "def fct(x) : \n",
    "    return 2*x**2 + 3*x +1\n",
    "X=[]\n",
    "Y=[]\n",
    "t = [-4,-3,-2,-1,0,1,2,3]\n",
    "for i in t:\n",
    "    X.append(i)\n",
    "    Y.append(fct(i))"
   ]
  },
  {
   "cell_type": "code",
   "execution_count": 22,
   "id": "21f56633",
   "metadata": {},
   "outputs": [
    {
     "data": {
      "text/plain": [
       "[<matplotlib.lines.Line2D at 0x7fd34e2eaf10>]"
      ]
     },
     "execution_count": 22,
     "metadata": {},
     "output_type": "execute_result"
    },
    {
     "data": {
      "image/png": "[encoded data removed]",
      "text/plain": [
       "<Figure size 432x288 with 1 Axes>"
      ]
     },
     "metadata": {
      "needs_background": "light"
     },
     "output_type": "display_data"
    }
   ],
   "source": [
    "plt.plot(X,Y)"
   ]
  },
  {
   "cell_type": "code",
   "execution_count": 23,
   "id": "7d829d51",
   "metadata": {},
   "outputs": [],
   "source": [
    "# dérivée\n",
    "def d_fct(x) : \n",
    "    return 4*x + 3"
   ]
  },
  {
   "cell_type": "code",
   "execution_count": 24,
   "id": "c2e7c9a2",
   "metadata": {},
   "outputs": [],
   "source": [
    "# point départ \n",
    "# point du côté gauche du point f'(x)=0\n",
    "x = -1\n",
    "# point du côté droit du point f'(x)=0\n",
    "# x = 7\n",
    "# erreur mu qui est une constante\n",
    "mu = 0.01"
   ]
  },
  {
   "cell_type": "code",
   "execution_count": 25,
   "id": "38df3c17",
   "metadata": {},
   "outputs": [],
   "source": [
    "# nbr de pas\n",
    "kmax = 1000\n",
    "# constante epsilon\n",
    "eps = 1e-8\n",
    "err = 1"
   ]
  },
  {
   "cell_type": "code",
   "execution_count": 26,
   "id": "e7809abc",
   "metadata": {},
   "outputs": [],
   "source": [
    "# iterator k\n",
    "k = 0"
   ]
  },
  {
   "cell_type": "code",
   "execution_count": 27,
   "id": "b96a5a8a",
   "metadata": {},
   "outputs": [
    {
     "name": "stdout",
     "output_type": "stream",
     "text": [
      "fct = -0.12499999999989009\n",
      "k=340\n",
      "\n",
      "x = -0.7500002345088528\n"
     ]
    }
   ],
   "source": [
    "#descente x1 = x0 - mu * d_fct(x0) \n",
    "while k<=kmax and err>eps:\n",
    "    k=k+1\n",
    "    #direction d\n",
    "    d = d_fct(x)\n",
    "    # print(\"direction = %s\" %d)\n",
    "    x = x - mu * d\n",
    "    #erreur = valeur asolue de (mu * d)\n",
    "    err=mu*(abs(d))\n",
    "print(\"fct = %s\" %(fct(x)))\n",
    "print(\"k=%s\"%k)\n",
    "print(\"\")\n",
    "print(\"x = %s\" %x)"
   ]
  },
  {
   "cell_type": "code",
   "execution_count": null,
   "id": "0c0afc9d",
   "metadata": {},
   "outputs": [],
   "source": []
  }
 ],
 "metadata": {
  "kernelspec": {
   "display_name": "Python 3 (ipykernel)",
   "language": "python",
   "name": "python3"
  },
  "language_info": {
   "codemirror_mode": {
    "name": "ipython",
    "version": 3
   },
   "file_extension": ".py",
   "mimetype": "text/x-python",
   "name": "python",
   "nbconvert_exporter": "python",
   "pygments_lexer": "ipython3",
   "version": "3.9.7"
  }
 },
 "nbformat": 4,
 "nbformat_minor": 5
}
