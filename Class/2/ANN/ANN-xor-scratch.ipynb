{
 "cells": [
  {
   "cell_type": "code",
   "execution_count": 58,
   "id": "e48bda13-f6f6-4e9a-ad9c-942fcde5bfca",
   "metadata": {},
   "outputs": [],
   "source": [
    "import numpy as np\n",
    "import math"
   ]
  },
  {
   "cell_type": "markdown",
   "id": "660cb6eb-fcbd-48eb-a4fd-2ee8ca13aaa1",
   "metadata": {},
   "source": [
    "# créer un réseau de neurons avec une architecture fixée et faire une seule propagation\n",
    "\n",
    "* BD: Xor db\n",
    "* W : matrice des omega (pandérations de tous les neurons) ; liste de matrice chacune pour une couche\n",
    "* n : liste de nombre de neurons par couche"
   ]
  },
  {
   "cell_type": "code",
   "execution_count": 59,
   "id": "440f9091-a793-45fc-8a7b-68a4a35fb85b",
   "metadata": {},
   "outputs": [],
   "source": [
    "Xor = np.array([ [ 1, 1, 0], [ 1, 0, 1], [ 0, 1, 1], [ 0, 0, 0] ])"
   ]
  },
  {
   "cell_type": "code",
   "execution_count": 60,
   "id": "80dc3bf2-4142-452e-b6a5-b87019d0f128",
   "metadata": {},
   "outputs": [],
   "source": [
    "W = np.array([ [0,0,0], [0,0,0], [ 0,0,0]]) #  [( w0, w1, w2)] b==w0"
   ]
  },
  {
   "cell_type": "code",
   "execution_count": 61,
   "id": "4bb9752d-9415-401d-ba3b-b819c78109e3",
   "metadata": {},
   "outputs": [],
   "source": [
    "n = [ 2, 1]"
   ]
  },
  {
   "cell_type": "code",
   "execution_count": null,
   "id": "722d71e1-8e67-482e-8897-70f5dce72515",
   "metadata": {},
   "outputs": [],
   "source": []
  },
  {
   "cell_type": "code",
   "execution_count": 100,
   "id": "b3fb778d-b064-4238-809b-8552bf907598",
   "metadata": {},
   "outputs": [],
   "source": [
    "def regresseur( W, X): # regression; X here is supposed to receive an additional 1 column on the left side\n",
    "    x = np.hstack( [1, X]) \n",
    "    return x.dot(W)    "
   ]
  },
  {
   "cell_type": "code",
   "execution_count": 101,
   "id": "44c95c82-f36c-4ea5-a9aa-f87f7f1238bc",
   "metadata": {},
   "outputs": [],
   "source": [
    "def g( fx ): # for a vector & a number\n",
    "    sig = lambda x:( 1 / ( 1 + math.exp(-x) ) )\n",
    "    if type(fx)==type(np.array([])): \n",
    "        vectorizedFunc = np.vectorize(sig)\n",
    "        return vectorizedFunc( fx )\n",
    "    return sig(fx)"
   ]
  },
  {
   "cell_type": "code",
   "execution_count": 102,
   "id": "ee69ae33-4f7f-4356-9f38-0e868c1fb8ab",
   "metadata": {},
   "outputs": [
    {
     "data": {
      "text/plain": [
       "array([[1, 1, 0],\n",
       "       [1, 0, 1],\n",
       "       [0, 1, 1],\n",
       "       [0, 0, 0]])"
      ]
     },
     "execution_count": 102,
     "metadata": {},
     "output_type": "execute_result"
    }
   ],
   "source": [
    "Xor"
   ]
  },
  {
   "cell_type": "code",
   "execution_count": 103,
   "id": "5686d701-daac-42b7-b8ef-0b423f22c7e7",
   "metadata": {},
   "outputs": [
    {
     "data": {
      "text/plain": [
       "array([[1, 1],\n",
       "       [1, 0],\n",
       "       [0, 1],\n",
       "       [0, 0]])"
      ]
     },
     "execution_count": 103,
     "metadata": {},
     "output_type": "execute_result"
    }
   ],
   "source": [
    "X = Xor[:,:2]\n",
    "X"
   ]
  },
  {
   "cell_type": "code",
   "execution_count": 112,
   "id": "34109175-69af-402a-8995-f6827f3f41b4",
   "metadata": {},
   "outputs": [
    {
     "name": "stdout",
     "output_type": "stream",
     "text": [
      "( couche: 1, 1) a_precedent:  [1 1]\n",
      "( couche: 1, 2) a_precedent:  [1 1]\n",
      "( couche: 2, 1) a_precedent:  [0.5, 0.5]\n",
      "( couche: 1, 1) a_precedent:  [1 0]\n",
      "( couche: 1, 2) a_precedent:  [1 0]\n",
      "( couche: 2, 1) a_precedent:  [0.5, 0.5]\n",
      "( couche: 1, 1) a_precedent:  [0 1]\n",
      "( couche: 1, 2) a_precedent:  [0 1]\n",
      "( couche: 2, 1) a_precedent:  [0.5, 0.5]\n",
      "( couche: 1, 1) a_precedent:  [0 0]\n",
      "( couche: 1, 2) a_precedent:  [0 0]\n",
      "( couche: 2, 1) a_precedent:  [0.5, 0.5]\n"
     ]
    }
   ],
   "source": [
    "Y = []\n",
    "for x in X :\n",
    "    stack = [ x ] # a=( x1, x2)\n",
    "    for c_index in range(len(n)) :  # do passe that x into the NN\n",
    "        a_precedent = stack[-1]\n",
    "        couche = n[c_index]\n",
    "        ele = []\n",
    "        for n_index in range(couche) :\n",
    "            print(\"( couche: \"+str(c_index+1)+\", \"+str(n_index+1)+\") a_precedent: \", a_precedent)\n",
    "            ele.append( g( regresseur( W[c_index+n_index], a_precedent ) ) )\n",
    "        stack.append(ele)\n",
    "    Y.append(stack)"
   ]
  },
  {
   "cell_type": "code",
   "execution_count": 111,
   "id": "6c42ba71-d559-4643-96c1-a5e15bd44168",
   "metadata": {},
   "outputs": [
    {
     "data": {
      "text/plain": [
       "[array([1, 1]), [0.5, 0.5], [0.5]]"
      ]
     },
     "execution_count": 111,
     "metadata": {},
     "output_type": "execute_result"
    }
   ],
   "source": [
    "# valeur de sortie de chaque couche : (couche d'entrée, couche cachée, couche de sortie)\n",
    "stack"
   ]
  },
  {
   "cell_type": "code",
   "execution_count": null,
   "id": "888e3bb4-6a65-4754-aa8c-25d3a0bc6f85",
   "metadata": {},
   "outputs": [
    {
     "data": {
      "text/plain": [
       "[[array([1, 1]), [0.5, 0.5], [0.5]],\n",
       " [array([1, 0]), [0.5, 0.5], [0.5]],\n",
       " [array([0, 1]), [0.5, 0.5], [0.5]],\n",
       " [array([0, 0]), [0.5, 0.5], [0.5]]]"
      ]
     },
     "execution_count": 114,
     "metadata": {},
     "output_type": "execute_result"
    }
   ],
   "source": [
    "# Sortie de chaque ligne de la matrice Xor\n",
    "Y"
   ]
  }
 ],
 "metadata": {
  "kernelspec": {
   "display_name": "Python 3 (ipykernel)",
   "language": "python",
   "name": "python3"
  },
  "language_info": {
   "codemirror_mode": {
    "name": "ipython",
    "version": 3
   },
   "file_extension": ".py",
   "mimetype": "text/x-python",
   "name": "python",
   "nbconvert_exporter": "python",
   "pygments_lexer": "ipython3",
   "version": "3.9.7"
  }
 },
 "nbformat": 4,
 "nbformat_minor": 5
}
