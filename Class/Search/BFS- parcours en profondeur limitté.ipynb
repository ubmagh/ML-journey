{
 "cells": [
  {
   "cell_type": "code",
   "execution_count": 1,
   "id": "dc8dfe4b",
   "metadata": {},
   "outputs": [],
   "source": [
    "# definir la structure de données à utiliser pour un noeud\n",
    "class noeud:\n",
    "    def __init__(self, valeur, profondeur:int, fils = []):\n",
    "        self.valeur = valeur\n",
    "        self.profondeur = profondeur\n",
    "        self.parents = []\n",
    "        self.fils = fils \n",
    "        for successeur in self.fils:\n",
    "            successeur.parents.append(self)\n"
   ]
  },
  {
   "cell_type": "code",
   "execution_count": 2,
   "id": "d49cc791",
   "metadata": {},
   "outputs": [],
   "source": [
    "# Créer le graphe exemple\n",
    "F = noeud( \"F\", 2)\n",
    "A = noeud( \"A\", 0, [\n",
    "        noeud( \"B\", 1, [F]),\n",
    "        noeud( \"C\", 1, [F]),\n",
    "        noeud( \"D\", 1, [F]),\n",
    "        noeud( \"E\", 1, [F]),\n",
    "    ])"
   ]
  },
  {
   "cell_type": "code",
   "execution_count": 3,
   "id": "f231d992",
   "metadata": {},
   "outputs": [
    {
     "name": "stdout",
     "output_type": "stream",
     "text": [
      "D\n"
     ]
    }
   ],
   "source": [
    "# tester le  graph\n",
    "print( A.fils[2].valeur )"
   ]
  },
  {
   "cell_type": "code",
   "execution_count": 4,
   "id": "ec38a6b5",
   "metadata": {},
   "outputs": [],
   "source": [
    "# definir la strucure de données : pile\n",
    "class Pile:\n",
    "\n",
    "    def __init__(self):\n",
    "        self.stack = []\n",
    "\n",
    "    def isEmpty(self) -> bool:\n",
    "        return True if len(self.stack) == 0 else False\n",
    "\n",
    "    def length(self) -> int:\n",
    "        return len(self.stack)\n",
    "\n",
    "    def top(self) -> noeud:\n",
    "        return self.stack[-1]  \n",
    "\n",
    "    def push(self, x: int) -> None:\n",
    "        self.x = x\n",
    "        self.stack.append(x)       \n",
    "\n",
    "    def pop(self) -> noeud :\n",
    "        return self.stack.pop()"
   ]
  },
  {
   "cell_type": "code",
   "execution_count": 5,
   "id": "311a1ab4",
   "metadata": {},
   "outputs": [],
   "source": [
    "# Coder l'algo de recherche en prof. limité\n",
    "def recherche_prof_limite( ei :noeud, L :int, ef :noeud):\n",
    "    po = Pile()\n",
    "    pf = Pile()\n",
    "    \n",
    "    po.push(ei)\n",
    "\n",
    "    while not po.isEmpty() :\n",
    "        if po.top().valeur==ef.valeur:\n",
    "            pf.push( po.top() )\n",
    "            return pf\n",
    "        else:\n",
    "            if po.top().profondeur < L :\n",
    "                pf.push(po.pop())\n",
    "                if not pf.isEmpty() :\n",
    "                    for node in pf.top().fils:\n",
    "                        po.push(node)\n",
    "            else:\n",
    "                return null\n",
    "    return null"
   ]
  },
  {
   "cell_type": "code",
   "execution_count": 6,
   "id": "d1f2dd61",
   "metadata": {},
   "outputs": [],
   "source": [
    "# Tester l'algorithme sur le graph créé\n",
    "# on utilisera les memes noeuds déjà créés, comme état initial (A) et comme état but (F) \n",
    "chemin_de_parcour = recherche_prof_limite( A, 2, F)"
   ]
  },
  {
   "cell_type": "code",
   "execution_count": 7,
   "id": "d124b262",
   "metadata": {},
   "outputs": [
    {
     "name": "stdout",
     "output_type": "stream",
     "text": [
      "F\n",
      "E\n",
      "A\n"
     ]
    }
   ],
   "source": [
    "# afficher le résultat : chemin de parcour renversé\n",
    "\n",
    "while not chemin_de_parcour.isEmpty():\n",
    "    print(chemin_de_parcour.pop().valeur)\n"
   ]
  },
  {
   "cell_type": "code",
   "execution_count": null,
   "id": "fb597979",
   "metadata": {},
   "outputs": [],
   "source": []
  }
 ],
 "metadata": {
  "kernelspec": {
   "display_name": "Python 3 (ipykernel)",
   "language": "python",
   "name": "python3"
  },
  "language_info": {
   "codemirror_mode": {
    "name": "ipython",
    "version": 3
   },
   "file_extension": ".py",
   "mimetype": "text/x-python",
   "name": "python",
   "nbconvert_exporter": "python",
   "pygments_lexer": "ipython3",
   "version": "3.9.7"
  }
 },
 "nbformat": 4,
 "nbformat_minor": 5
}
