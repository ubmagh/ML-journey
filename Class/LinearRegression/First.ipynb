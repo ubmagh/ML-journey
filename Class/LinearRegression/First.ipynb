{
 "cells": [
  {
   "cell_type": "code",
   "execution_count": 1,
   "id": "24b76578",
   "metadata": {},
   "outputs": [],
   "source": [
    "import numpy as np\n",
    "import matplotlib.pyplot as plt"
   ]
  },
  {
   "cell_type": "code",
   "execution_count": 5,
   "id": "87a1de0a",
   "metadata": {},
   "outputs": [],
   "source": [
    "from random import seed"
   ]
  },
  {
   "cell_type": "code",
   "execution_count": 6,
   "id": "704c4fec",
   "metadata": {},
   "outputs": [],
   "source": [
    "def generateData( n):\n",
    "    arr = []\n",
    "    seed(1)\n",
    "    for i in range(n):\n",
    "        x= i\n",
    "        y= 2*x+1+random.random()\n",
    "        arr.append([x,y])\n",
    "    arr = np.array(arr)\n",
    "    return arr    "
   ]
  },
  {
   "cell_type": "code",
   "execution_count": 7,
   "id": "56a9f50b",
   "metadata": {
    "scrolled": true
   },
   "outputs": [],
   "source": [
    "X = generateData(20)"
   ]
  },
  {
   "cell_type": "code",
   "execution_count": 8,
   "id": "46e2d92f",
   "metadata": {},
   "outputs": [
    {
     "data": {
      "text/plain": [
       "array([ 0.,  1.,  2.,  3.,  4.,  5.,  6.,  7.,  8.,  9., 10., 11., 12.,\n",
       "       13., 14., 15., 16., 17., 18., 19.])"
      ]
     },
     "execution_count": 8,
     "metadata": {},
     "output_type": "execute_result"
    }
   ],
   "source": [
    "x = X[:,0]\n",
    "y = X[:,1]\n",
    "x"
   ]
  },
  {
   "cell_type": "code",
   "execution_count": 9,
   "id": "147553f9",
   "metadata": {
    "scrolled": false
   },
   "outputs": [
    {
     "data": {
      "image/png": "[encoded data removed]",
      "text/plain": [
       "<Figure size 432x288 with 1 Axes>"
      ]
     },
     "metadata": {
      "needs_background": "light"
     },
     "output_type": "display_data"
    }
   ],
   "source": [
    "plt.plot( x, y, \"g.\")\n",
    "plt.show()"
   ]
  },
  {
   "cell_type": "code",
   "execution_count": 10,
   "id": "fd18754e",
   "metadata": {},
   "outputs": [],
   "source": [
    "def fit( x, y):\n",
    "    varX = np.var(x)\n",
    "    covar = np.cov(x,y)[0][1]\n",
    "    B1 = covar/varX\n",
    "    B2 = np.mean(y) - B1*np.mean(x)\n",
    "    return B1,B2"
   ]
  },
  {
   "cell_type": "code",
   "execution_count": 11,
   "id": "c0f7a8d9",
   "metadata": {},
   "outputs": [
    {
     "name": "stdout",
     "output_type": "stream",
     "text": [
      "2.1059931696355036 | 0.4837642412777079\n"
     ]
    }
   ],
   "source": [
    "a,b = fit( x, y)\n",
    "print (a,'|', b)"
   ]
  },
  {
   "cell_type": "code",
   "execution_count": 12,
   "id": "267ddd02",
   "metadata": {},
   "outputs": [],
   "source": [
    "def predict( x, a, b):\n",
    "    return a*x + b"
   ]
  },
  {
   "cell_type": "code",
   "execution_count": 13,
   "id": "63778dad",
   "metadata": {},
   "outputs": [
    {
     "data": {
      "text/plain": [
       "46.81561397325879"
      ]
     },
     "execution_count": 13,
     "metadata": {},
     "output_type": "execute_result"
    }
   ],
   "source": [
    "Yi = predict( 22, a, b)\n",
    "Yi"
   ]
  },
  {
   "cell_type": "code",
   "execution_count": 14,
   "id": "09fac25d",
   "metadata": {},
   "outputs": [
    {
     "data": {
      "text/plain": [
       "array([ 0.,  1.,  2.,  3.,  4.,  5.,  6.,  7.,  8.,  9., 10., 11., 12.,\n",
       "       13., 14., 15., 16., 17., 18., 19.])"
      ]
     },
     "execution_count": 14,
     "metadata": {},
     "output_type": "execute_result"
    }
   ],
   "source": [
    "x = np.array(x)\n",
    "x"
   ]
  },
  {
   "cell_type": "code",
   "execution_count": 15,
   "id": "997ae770",
   "metadata": {},
   "outputs": [
    {
     "data": {
      "text/plain": [
       "array([ 0.48376424,  2.58975741,  4.69575058,  6.80174375,  8.90773692,\n",
       "       11.01373009, 13.11972326, 15.22571643, 17.3317096 , 19.43770277,\n",
       "       21.54369594, 23.64968911, 25.75568228, 27.86167545, 29.96766862,\n",
       "       32.07366179, 34.17965496, 36.28564813, 38.39164129, 40.49763446])"
      ]
     },
     "execution_count": 15,
     "metadata": {},
     "output_type": "execute_result"
    }
   ],
   "source": [
    "y2 = predict( x, a, b)\n",
    "y2"
   ]
  },
  {
   "cell_type": "code",
   "execution_count": 16,
   "id": "56d97b6a",
   "metadata": {},
   "outputs": [
    {
     "data": {
      "image/png": "[encoded data removed]",
      "text/plain": [
       "<Figure size 432x288 with 1 Axes>"
      ]
     },
     "metadata": {
      "needs_background": "light"
     },
     "output_type": "display_data"
    }
   ],
   "source": [
    "plt.plot( x, y)\n",
    "plt.plot( x, y2, \"r\")\n",
    "plt.show()"
   ]
  },
  {
   "cell_type": "code",
   "execution_count": null,
   "id": "c24bc098",
   "metadata": {},
   "outputs": [],
   "source": []
  }
 ],
 "metadata": {
  "kernelspec": {
   "display_name": "Python 3 (ipykernel)",
   "language": "python",
   "name": "python3"
  },
  "language_info": {
   "codemirror_mode": {
    "name": "ipython",
    "version": 3
   },
   "file_extension": ".py",
   "mimetype": "text/x-python",
   "name": "python",
   "nbconvert_exporter": "python",
   "pygments_lexer": "ipython3",
   "version": "3.9.7"
  }
 },
 "nbformat": 4,
 "nbformat_minor": 5
}
