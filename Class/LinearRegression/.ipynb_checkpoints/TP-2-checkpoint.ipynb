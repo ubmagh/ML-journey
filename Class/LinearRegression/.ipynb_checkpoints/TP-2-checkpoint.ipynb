{
 "cells": [
  {
   "cell_type": "code",
   "execution_count": 1,
   "id": "77a6cb7d",
   "metadata": {},
   "outputs": [],
   "source": [
    "import numpy as np\n",
    "import matplotlib.pyplot as plt"
   ]
  },
  {
   "cell_type": "code",
   "execution_count": 34,
   "id": "87cb307d",
   "metadata": {},
   "outputs": [
    {
     "data": {
      "text/plain": [
       "[100, 110, 120, 130, 140, 150, 160, 170, 180, 190]"
      ]
     },
     "execution_count": 34,
     "metadata": {},
     "output_type": "execute_result"
    }
   ],
   "source": [
    "L = [\n",
    "    [100,45],\n",
    "    [110,51],\n",
    "    [120,54],\n",
    "    [130,61],\n",
    "    [140,66],\n",
    "    [150,70],\n",
    "    [160,74],\n",
    "    [170,78],\n",
    "    [180,85],\n",
    "    [190,89]\n",
    "]\n",
    "X = []\n",
    "i=100\n",
    "while i<=190:\n",
    "    X.append(i)\n",
    "    i+=10\n",
    "X"
   ]
  },
  {
   "cell_type": "code",
   "execution_count": 7,
   "id": "975e827b",
   "metadata": {},
   "outputs": [
    {
     "data": {
      "text/plain": [
       "[45, 51, 54, 61, 66, 70, 74, 78, 85, 89]"
      ]
     },
     "execution_count": 7,
     "metadata": {},
     "output_type": "execute_result"
    }
   ],
   "source": [
    "Y = [45,51,54,61,66,70,74,78,85,89]\n",
    "Y"
   ]
  },
  {
   "cell_type": "code",
   "execution_count": 9,
   "id": "ca6ce648",
   "metadata": {},
   "outputs": [],
   "source": [
    "def fit(x,y):\n",
    "    b1 = np.cov(x,y)[0,1] / np.var(x)\n",
    "    b0 = np.mean(y) - b1 * np.mean(x)\n",
    "    return b0,b1"
   ]
  },
  {
   "cell_type": "code",
   "execution_count": 23,
   "id": "78e41d2c",
   "metadata": {},
   "outputs": [
    {
     "data": {
      "text/plain": [
       "-10.52154882154882"
      ]
     },
     "execution_count": 23,
     "metadata": {},
     "output_type": "execute_result"
    }
   ],
   "source": [
    "b0,b1=fit(X,Y)\n",
    "b0"
   ]
  },
  {
   "cell_type": "code",
   "execution_count": 14,
   "id": "0bc246dd",
   "metadata": {},
   "outputs": [],
   "source": [
    "def predict(x,a,b):\n",
    "    return a*x+b"
   ]
  },
  {
   "cell_type": "code",
   "execution_count": 18,
   "id": "354a18b5",
   "metadata": {},
   "outputs": [],
   "source": [
    "x = np.array(X)\n",
    "y = predict(x,b1,b0)"
   ]
  },
  {
   "cell_type": "code",
   "execution_count": 19,
   "id": "13ae17f4",
   "metadata": {},
   "outputs": [
    {
     "data": {
      "text/plain": [
       "array([43.14848485, 48.51548822, 53.88249158, 59.24949495, 64.61649832,\n",
       "       69.98350168, 75.35050505, 80.71750842, 86.08451178, 91.45151515])"
      ]
     },
     "execution_count": 19,
     "metadata": {},
     "output_type": "execute_result"
    }
   ],
   "source": [
    "y"
   ]
  },
  {
   "cell_type": "code",
   "execution_count": 20,
   "id": "a12ebba0",
   "metadata": {},
   "outputs": [
    {
     "data": {
      "text/plain": [
       "45.83198653198653"
      ]
     },
     "execution_count": 20,
     "metadata": {},
     "output_type": "execute_result"
    }
   ],
   "source": [
    "pre = predict(105,b1,b0)\n",
    "pre"
   ]
  },
  {
   "cell_type": "code",
   "execution_count": 24,
   "id": "f1f7d140",
   "metadata": {},
   "outputs": [],
   "source": [
    "def coef_determination(y,pred):\n",
    "    u = ( (y-pred)**2 ).sum()\n",
    "    v = ( (y-np.mean(y))**2 ).sum()\n",
    "    return 1-u/v"
   ]
  },
  {
   "cell_type": "code",
   "execution_count": 25,
   "id": "a703938f",
   "metadata": {},
   "outputs": [
    {
     "data": {
      "text/plain": [
       "0.9839614198716845"
      ]
     },
     "execution_count": 25,
     "metadata": {},
     "output_type": "execute_result"
    }
   ],
   "source": [
    "coef_determination(Y,y)"
   ]
  },
  {
   "cell_type": "code",
   "execution_count": 26,
   "id": "5531d8e9",
   "metadata": {},
   "outputs": [
    {
     "data": {
      "text/plain": [
       "[<matplotlib.lines.Line2D at 0x7fbe69205790>]"
      ]
     },
     "execution_count": 26,
     "metadata": {},
     "output_type": "execute_result"
    },
    {
     "data": {
      "image/png": "[encoded data removed]",
      "text/plain": [
       "<Figure size 432x288 with 1 Axes>"
      ]
     },
     "metadata": {
      "needs_background": "light"
     },
     "output_type": "display_data"
    }
   ],
   "source": [
    "plt.plot(X,Y)\n",
    "plt.plot(X,y)"
   ]
  },
  {
   "cell_type": "code",
   "execution_count": 36,
   "id": "f7404ff4",
   "metadata": {},
   "outputs": [],
   "source": [
    "#Question 2\n",
    "L.append([105,70])\n",
    "L.sort()\n"
   ]
  },
  {
   "cell_type": "code",
   "execution_count": 37,
   "id": "8bffaaa5",
   "metadata": {},
   "outputs": [
    {
     "data": {
      "text/plain": [
       "[[100, 45],\n",
       " [105, 70],\n",
       " [110, 51],\n",
       " [120, 54],\n",
       " [130, 61],\n",
       " [140, 66],\n",
       " [150, 70],\n",
       " [160, 74],\n",
       " [170, 78],\n",
       " [180, 85],\n",
       " [190, 89]]"
      ]
     },
     "execution_count": 37,
     "metadata": {},
     "output_type": "execute_result"
    }
   ],
   "source": [
    "L"
   ]
  },
  {
   "cell_type": "code",
   "execution_count": null,
   "id": "0baea017",
   "metadata": {},
   "outputs": [],
   "source": []
  }
 ],
 "metadata": {
  "kernelspec": {
   "display_name": "Python 3 (ipykernel)",
   "language": "python",
   "name": "python3"
  },
  "language_info": {
   "codemirror_mode": {
    "name": "ipython",
    "version": 3
   },
   "file_extension": ".py",
   "mimetype": "text/x-python",
   "name": "python",
   "nbconvert_exporter": "python",
   "pygments_lexer": "ipython3",
   "version": "3.9.7"
  }
 },
 "nbformat": 4,
 "nbformat_minor": 5
}
