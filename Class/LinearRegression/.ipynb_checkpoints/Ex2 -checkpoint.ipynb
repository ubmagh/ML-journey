{
 "cells": [
  {
   "cell_type": "code",
   "execution_count": 1,
   "id": "bb39f16e",
   "metadata": {},
   "outputs": [],
   "source": [
    "import numpy as np\n",
    "import matplotlib.pyplot as plt"
   ]
  },
  {
   "cell_type": "code",
   "execution_count": 2,
   "id": "bc7891fe",
   "metadata": {},
   "outputs": [
    {
     "data": {
      "text/plain": [
       "array([100, 110, 120, 130, 140, 150, 160, 170, 180, 190])"
      ]
     },
     "execution_count": 2,
     "metadata": {},
     "output_type": "execute_result"
    }
   ],
   "source": [
    "x = np.array(range(100, 200, 10))\n",
    "x"
   ]
  },
  {
   "cell_type": "code",
   "execution_count": 3,
   "id": "5e163f62",
   "metadata": {},
   "outputs": [
    {
     "data": {
      "text/plain": [
       "array([45, 51, 54, 61, 66, 70, 74, 78, 85, 89])"
      ]
     },
     "execution_count": 3,
     "metadata": {},
     "output_type": "execute_result"
    }
   ],
   "source": [
    "y = np.array([ 45, 51, 54, 61, 66, 70, 74, 78, 85, 89])\n",
    "y"
   ]
  },
  {
   "cell_type": "code",
   "execution_count": 4,
   "id": "c0363a55",
   "metadata": {},
   "outputs": [
    {
     "data": {
      "image/png": "[encoded data removed]",
      "text/plain": [
       "<Figure size 432x288 with 1 Axes>"
      ]
     },
     "metadata": {
      "needs_background": "light"
     },
     "output_type": "display_data"
    }
   ],
   "source": [
    "plt.plot( x, y, \"r.\")\n",
    "plt.show()"
   ]
  },
  {
   "cell_type": "code",
   "execution_count": 5,
   "id": "901ca5a2",
   "metadata": {},
   "outputs": [
    {
     "name": "stdout",
     "output_type": "stream",
     "text": [
      " mean x : 145.0\n",
      " mean y : 67.3\n",
      " Var(x) : 825.0\n",
      " Var(y) : 193.21\n",
      " cov(x,y) : 442.77777777777777\n",
      " B1 = 0.5367003367003367  |  B0 = -10.52154882154882\n"
     ]
    }
   ],
   "source": [
    "print(\" mean x : \"+str(x.mean()))\n",
    "print(\" mean y : \"+str(y.mean()))\n",
    "print(\" Var(x) : \"+str( np.var(x) ))\n",
    "print(\" Var(y) : \"+str( np.var(y) ))\n",
    "print(\" cov(x,y) : \"+str(np.cov(x,y)[0][1]))\n",
    "B1 = np.cov(x,y)[0][1]/np.var(x)\n",
    "B0 = np.mean(y) - B1*np.mean(x)\n",
    "print(\" B1 = \"+ str(B1) +\"  |  B0 = \"+ str(B0))"
   ]
  },
  {
   "cell_type": "code",
   "execution_count": 6,
   "id": "9ce787ac",
   "metadata": {},
   "outputs": [],
   "source": [
    "def fit( n, B1, B0):\n",
    "    return B0+n*B1"
   ]
  },
  {
   "cell_type": "code",
   "execution_count": 7,
   "id": "3b4ead43",
   "metadata": {},
   "outputs": [
    {
     "data": {
      "text/plain": [
       "array([43.14848485, 48.51548822, 53.88249158, 59.24949495, 64.61649832,\n",
       "       69.98350168, 75.35050505, 80.71750842, 86.08451178, 91.45151515])"
      ]
     },
     "execution_count": 7,
     "metadata": {},
     "output_type": "execute_result"
    }
   ],
   "source": [
    "yGen = fit( x, B1, B0)\n",
    "yGen"
   ]
  },
  {
   "cell_type": "code",
   "execution_count": 8,
   "id": "bc5461d7",
   "metadata": {},
   "outputs": [
    {
     "data": {
      "text/plain": [
       "array([45.5702 , 50.40056, 55.23092, 60.06128, 64.89164, 69.722  ,\n",
       "       74.55236, 79.38272, 84.21308, 89.04344])"
      ]
     },
     "execution_count": 8,
     "metadata": {},
     "output_type": "execute_result"
    }
   ],
   "source": [
    "def writtenFit( n):\n",
    "    return 0.483036*n-2.7334\n",
    "yWritten = writtenFit( x)\n",
    "yWritten"
   ]
  },
  {
   "cell_type": "code",
   "execution_count": 13,
   "id": "928d4b8d",
   "metadata": {},
   "outputs": [
    {
     "data": {
      "image/png": "[encoded data removed]",
      "text/plain": [
       "<Figure size 432x288 with 1 Axes>"
      ]
     },
     "metadata": {
      "needs_background": "light"
     },
     "output_type": "display_data"
    }
   ],
   "source": [
    "plt.plot( x, yGen, \"b\", label=\"f(x)\")\n",
    "plt.plot( x, y, \"r\",label=\"y\")\n",
    "plt.legend(loc=\"upper left\")\n",
    "plt.show()\n"
   ]
  },
  {
   "cell_type": "code",
   "execution_count": null,
   "id": "e3aaf848",
   "metadata": {},
   "outputs": [],
   "source": []
  }
 ],
 "metadata": {
  "kernelspec": {
   "display_name": "Python 3 (ipykernel)",
   "language": "python",
   "name": "python3"
  },
  "language_info": {
   "codemirror_mode": {
    "name": "ipython",
    "version": 3
   },
   "file_extension": ".py",
   "mimetype": "text/x-python",
   "name": "python",
   "nbconvert_exporter": "python",
   "pygments_lexer": "ipython3",
   "version": "3.9.7"
  }
 },
 "nbformat": 4,
 "nbformat_minor": 5
}
