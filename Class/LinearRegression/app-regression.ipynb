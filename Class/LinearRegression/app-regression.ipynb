{
 "cells": [
  {
   "cell_type": "code",
   "execution_count": 9,
   "id": "74cbc65a",
   "metadata": {},
   "outputs": [],
   "source": [
    "from sklearn.linear_model import LinearRegression"
   ]
  },
  {
   "cell_type": "code",
   "execution_count": 12,
   "id": "b05f87fe",
   "metadata": {},
   "outputs": [],
   "source": [
    "#DATASET\n",
    "X= [[230.1,37.8,69.2],[]]\n",
    "#Target\n",
    "y=[22.1]"
   ]
  },
  {
   "cell_type": "code",
   "execution_count": 13,
   "id": "6b412455",
   "metadata": {},
   "outputs": [],
   "source": [
    "h=LinearRegression()"
   ]
  },
  {
   "cell_type": "code",
   "execution_count": 14,
   "id": "c852d5ed",
   "metadata": {},
   "outputs": [
    {
     "data": {
      "text/plain": [
       "LinearRegression()"
      ]
     },
     "execution_count": 14,
     "metadata": {},
     "output_type": "execute_result"
    }
   ],
   "source": [
    "#Learn (W0,W1,W2)\n",
    "h.fit(X,y)"
   ]
  },
  {
   "cell_type": "code",
   "execution_count": 16,
   "id": "f7ba0109",
   "metadata": {},
   "outputs": [
    {
     "name": "stdout",
     "output_type": "stream",
     "text": [
      "22.1\n",
      "[0. 0. 0.]\n"
     ]
    }
   ],
   "source": [
    "print(h.intercept_)\n",
    "print(h.coef_)"
   ]
  },
  {
   "cell_type": "code",
   "execution_count": null,
   "id": "7a24e1ff",
   "metadata": {},
   "outputs": [],
   "source": []
  }
 ],
 "metadata": {
  "kernelspec": {
   "display_name": "Python 3 (ipykernel)",
   "language": "python",
   "name": "python3"
  },
  "language_info": {
   "codemirror_mode": {
    "name": "ipython",
    "version": 3
   },
   "file_extension": ".py",
   "mimetype": "text/x-python",
   "name": "python",
   "nbconvert_exporter": "python",
   "pygments_lexer": "ipython3",
   "version": "3.9.7"
  }
 },
 "nbformat": 4,
 "nbformat_minor": 5
}
